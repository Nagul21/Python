{
 "cells": [
  {
   "cell_type": "code",
   "execution_count": 1,
   "id": "36192a4f",
   "metadata": {},
   "outputs": [
    {
     "name": "stdout",
     "output_type": "stream",
     "text": [
      "Hello world\n"
     ]
    }
   ],
   "source": [
    "print(\"Hello world\")"
   ]
  },
  {
   "cell_type": "code",
   "execution_count": 2,
   "id": "8846faf2",
   "metadata": {},
   "outputs": [
    {
     "name": "stdout",
     "output_type": "stream",
     "text": [
      "11\n"
     ]
    }
   ],
   "source": [
    "print(5+6)"
   ]
  },
  {
   "cell_type": "code",
   "execution_count": 4,
   "id": "c94a7e4b",
   "metadata": {},
   "outputs": [
    {
     "name": "stdout",
     "output_type": "stream",
     "text": [
      "10\n",
      "error\n"
     ]
    }
   ],
   "source": [
    "a=int(input())\n",
    "A=[2,4,6,8]\n",
    "B=[1,3,5,7]\n",
    "\n",
    "if a in A:\n",
    "    print(\"even\")\n",
    "elif a in B:\n",
    "    print(\"odd\")\n",
    "else:\n",
    "    print(\"error\")"
   ]
  },
  {
   "cell_type": "code",
   "execution_count": 6,
   "id": "f1ec6993",
   "metadata": {},
   "outputs": [
    {
     "name": "stdout",
     "output_type": "stream",
     "text": [
      "5\n",
      "+\n",
      "4\n",
      "9\n"
     ]
    }
   ],
   "source": [
    "# calculator\n",
    "\n",
    "N1=int(input())\n",
    "op=(input())\n",
    "N2=int(input())\n",
    "\n",
    "if op== \"+\":\n",
    "    print(N1 + N2)\n",
    "elif op==\"-\":\n",
    "    print(N1 - N2)"
   ]
  },
  {
   "cell_type": "code",
   "execution_count": 7,
   "id": "00baff81",
   "metadata": {},
   "outputs": [
    {
     "name": "stdout",
     "output_type": "stream",
     "text": [
      "hi hello aaaaaaaaaa\n"
     ]
    }
   ],
   "source": [
    "x=open(\"C:\\\\Users\\\\User\\\\OneDrive\\\\Desktop\\\\sample.txt\",\"r\")\n",
    "y=x.read()\n",
    "print(y)\n",
    "x.close()\n",
    "       \n",
    "       "
   ]
  },
  {
   "cell_type": "code",
   "execution_count": 11,
   "id": "650dbdd0",
   "metadata": {},
   "outputs": [
    {
     "name": "stdout",
     "output_type": "stream",
     "text": [
      "1\n",
      "2\n",
      "3\n",
      "4\n",
      "5\n",
      "6\n",
      "7\n",
      "8\n",
      "9\n",
      "10\n"
     ]
    }
   ],
   "source": [
    "for i in range(1,11):\n",
    "    print(i)"
   ]
  },
  {
   "cell_type": "code",
   "execution_count": 7,
   "id": "3f63c6cc",
   "metadata": {},
   "outputs": [
    {
     "name": "stdout",
     "output_type": "stream",
     "text": [
      "100\n",
      "50\n"
     ]
    }
   ],
   "source": [
    "for number in range (100,10,-50):\n",
    "    print(number)"
   ]
  },
  {
   "cell_type": "code",
   "execution_count": 8,
   "id": "8c826cc5",
   "metadata": {},
   "outputs": [
    {
     "data": {
      "text/plain": [
       "11"
      ]
     },
     "execution_count": 8,
     "metadata": {},
     "output_type": "execute_result"
    }
   ],
   "source": [
    "obj=lambda a,b:a+b\n",
    "obj(6,5)"
   ]
  },
  {
   "cell_type": "code",
   "execution_count": 1,
   "id": "2f44e75c",
   "metadata": {},
   "outputs": [
    {
     "name": "stdout",
     "output_type": "stream",
     "text": [
      "[2, 4, 6, 8, 10]\n"
     ]
    }
   ],
   "source": [
    "# filter\n",
    "a=[1,2,3,4,5,6,7,8,9,10]\n",
    "\n",
    "def even(n):\n",
    "    return n%2==0\n",
    "\n",
    "\n",
    "c=list(filter(even,a))\n",
    "print(c)"
   ]
  },
  {
   "cell_type": "code",
   "execution_count": 18,
   "id": "b22350f4",
   "metadata": {},
   "outputs": [
    {
     "data": {
      "text/plain": [
       "8"
      ]
     },
     "execution_count": 18,
     "metadata": {},
     "output_type": "execute_result"
    }
   ],
   "source": [
    "# map\n",
    "\n",
    "def sq(n):\n",
    "    return n*n*n\n",
    "\n",
    "sq(2)"
   ]
  },
  {
   "cell_type": "code",
   "execution_count": 19,
   "id": "051a7a51",
   "metadata": {},
   "outputs": [
    {
     "name": "stdout",
     "output_type": "stream",
     "text": [
      "[1, 8, 27, 64, 125, 216, 343, 512, 729, 1000]\n"
     ]
    }
   ],
   "source": [
    "map_result= list(map(sq,a))\n",
    "print(map_result)"
   ]
  },
  {
   "cell_type": "code",
   "execution_count": null,
   "id": "34b775f0",
   "metadata": {},
   "outputs": [],
   "source": []
  },
  {
   "cell_type": "code",
   "execution_count": 21,
   "id": "f12fff78",
   "metadata": {},
   "outputs": [
    {
     "data": {
      "text/plain": [
       "35"
      ]
     },
     "execution_count": 21,
     "metadata": {},
     "output_type": "execute_result"
    }
   ],
   "source": [
    "#reduce\n",
    "from functools import reduce\n",
    "\n",
    "num = [5,8,9,4,2,7]\n",
    "\n",
    "def sns(f,s):\n",
    "    return(f+s)\n",
    "\n",
    "result=reduce(sns,num)\n",
    "result"
   ]
  },
  {
   "cell_type": "code",
   "execution_count": 27,
   "id": "ead95c9d",
   "metadata": {},
   "outputs": [
    {
     "data": {
      "text/plain": [
       "10"
      ]
     },
     "execution_count": 27,
     "metadata": {},
     "output_type": "execute_result"
    }
   ],
   "source": [
    "from functools import reduce\n",
    "\n",
    "B=[]\n",
    "for i in range(5):\n",
    "    B.append(i)\n",
    "C=reduce(lambda a,b:a+b,B)\n",
    "C"
   ]
  },
  {
   "cell_type": "code",
   "execution_count": 22,
   "id": "87983dc3",
   "metadata": {},
   "outputs": [
    {
     "data": {
      "text/plain": [
       "55"
      ]
     },
     "execution_count": 22,
     "metadata": {},
     "output_type": "execute_result"
    }
   ],
   "source": [
    "from functools import reduce\n",
    "A=[1,2,3,4,5,6,7,8,9,10]\n",
    "B=reduce(lambda a,b:a+b,A)\n",
    "B"
   ]
  },
  {
   "cell_type": "code",
   "execution_count": 13,
   "id": "f360e89d",
   "metadata": {},
   "outputs": [
    {
     "name": "stdout",
     "output_type": "stream",
     "text": [
      "{1, 2, 3, 4, 5, 6, 7, 9}\n"
     ]
    }
   ],
   "source": [
    "#set\n",
    "\n",
    "s={1,2,4,5,3,2,1,9,6,2,7,5,9}\n",
    "print(s)"
   ]
  },
  {
   "cell_type": "code",
   "execution_count": 15,
   "id": "50d080fc",
   "metadata": {},
   "outputs": [
    {
     "data": {
      "text/plain": [
       "['Nagulan', 'prasanth', 'pradeep', 'ajay', 'pranav']"
      ]
     },
     "execution_count": 15,
     "metadata": {},
     "output_type": "execute_result"
    }
   ],
   "source": [
    "#dictionary\n",
    "\n",
    "#students details\n",
    "\n",
    "\n",
    "Students = {\n",
    "    \"Id_num\":[16,21,56,84,7],\n",
    "    \"Name\" : [\"Nagulan\",\"prasanth\",\"pradeep\",\"ajay\",\"pranav\"],\n",
    "    \"dept\":[\"aerospace\",\"ece\",\"eee\",\"biotech\",\"IT\"],\n",
    "    \"year\":[2020,2021,2020,2017,2018],\n",
    "    \"status\":[\"UM\",\"UM\",\"M\",\"M\",\"UM\"]\n",
    "}\n",
    "\n",
    "\n",
    "Students[\"Name\"]"
   ]
  },
  {
   "cell_type": "code",
   "execution_count": 16,
   "id": "cae30ed0",
   "metadata": {},
   "outputs": [
    {
     "name": "stdout",
     "output_type": "stream",
     "text": [
      "ID_num_is  :  16\n",
      "Name  :  Nagulan\n",
      "dept  :  aerospace\n",
      "year  :  2020\n",
      "Status  :  UM\n"
     ]
    }
   ],
   "source": [
    "print(\"ID_num_is  : \",Students[\"Id_num\"][0])\n",
    "print(\"Name  : \",Students[\"Name\"][0])\n",
    "print(\"dept  : \",Students[\"dept\"][0])\n",
    "print(\"year  : \",Students[\"year\"][0])\n",
    "print(\"Status  : \",Students[\"status\"][0])\n"
   ]
  },
  {
   "cell_type": "code",
   "execution_count": 28,
   "id": "3f5875cb",
   "metadata": {},
   "outputs": [
    {
     "data": {
      "text/plain": [
       "3"
      ]
     },
     "execution_count": 28,
     "metadata": {},
     "output_type": "execute_result"
    }
   ],
   "source": [
    "Students[\"Id_num\"].index(84)"
   ]
  },
  {
   "cell_type": "code",
   "execution_count": null,
   "id": "5b1812c1",
   "metadata": {},
   "outputs": [],
   "source": [
    "Id=int(input(\"Enter the Id number : \"))\n",
    "pos =Students[\"Id_num\"].index(Id)\n",
    "pos"
   ]
  },
  {
   "cell_type": "code",
   "execution_count": 1,
   "id": "e4e6793d",
   "metadata": {},
   "outputs": [
    {
     "name": "stdout",
     "output_type": "stream",
     "text": [
      "Enter student name : Joe\n",
      "Enter the mark : 56\n",
      "Congradulations Joe you got Grade E \n"
     ]
    }
   ],
   "source": [
    "Student_name =input(\"Enter student name : \")\n",
    "Mark = int(input(\"Enter the mark : \"))\n",
    "\n",
    "if Mark>100 or Mark<=0 :\n",
    "  print(\" Enter valid marks\")\n",
    "elif Mark>90:\n",
    "    print( \"Congradulations \" + Student_name + \" you got Grade A\")\n",
    "elif Mark>80<90:\n",
    "  print( \"Congradulations  \" + Student_name + \" you got Grade B\")\n",
    "elif Mark>70<80:\n",
    "  print( \"Congradulations  \"  + Student_name + \" you got Grade C \")\n",
    "elif Mark>60<70:\n",
    "  print( \"Congradulations \" + Student_name + \" you got Grade D \")\n",
    "elif Mark>50<60:\n",
    "  print( \"Congradulations \" + Student_name + \" you got Grade E \")\n",
    "elif Mark <50:\n",
    "    print(Student_name  + \" sorry you are fail\")\n",
    "elif Mark>100:\n",
    "  print(\" Enter valid marks\")"
   ]
  },
  {
   "cell_type": "code",
   "execution_count": 1,
   "id": "f62a357a",
   "metadata": {},
   "outputs": [
    {
     "name": "stdout",
     "output_type": "stream",
     "text": [
      "1\n",
      "44\n",
      "6\n",
      "1\n",
      "7\n",
      "88\n",
      "4\n",
      "3\n",
      "2\n",
      "54\n",
      "22\n",
      "99\n",
      "66\n",
      "5\n",
      "1\n",
      "77\n"
     ]
    }
   ],
   "source": [
    "\n",
    "s = [1,55,44,6,1,7,88,4,55,3,2,54,22,99,66,5,1,77]\n",
    "\n",
    "i = 0\n",
    "    \n",
    "while i<len(s):\n",
    "    if s[i]==55:\n",
    "        pass\n",
    "        i=i+1\n",
    "    else:\n",
    "        print(s[i])\n",
    "        i=i+1\n",
    "        \n",
    "     "
   ]
  },
  {
   "cell_type": "code",
   "execution_count": 14,
   "id": "273fe7c0",
   "metadata": {},
   "outputs": [
    {
     "data": {
      "text/plain": [
       "'My name is Nagulan\\nI am from chidambaram\\nI studied at Thanjavur'"
      ]
     },
     "execution_count": 14,
     "metadata": {},
     "output_type": "execute_result"
    }
   ],
   "source": [
    "##File handling\n",
    "'''\n",
    "my_file=open(\"H:\\\\hello.txt\",\"r\")\n",
    "file=my_file.read()\n",
    "file\n",
    "'''"
   ]
  },
  {
   "cell_type": "code",
   "execution_count": 17,
   "id": "7e4a53be",
   "metadata": {},
   "outputs": [
    {
     "name": "stdout",
     "output_type": "stream",
     "text": [
      "Nagulan\n",
      "\n",
      "pradeep\n",
      "\n",
      "ajay\n",
      "\n",
      "danie\n",
      "\n",
      "tharun\n"
     ]
    }
   ],
   "source": [
    "x=open(\"C:\\\\Users\\\\User\\\\OneDrive\\\\Desktop\\\\practice.txt\",\"r\")\n",
    "y=x.read()\n",
    "print(y)"
   ]
  },
  {
   "cell_type": "code",
   "execution_count": null,
   "id": "04b94bbb",
   "metadata": {},
   "outputs": [],
   "source": [
    "### OOPS"
   ]
  },
  {
   "cell_type": "code",
   "execution_count": 25,
   "id": "2fd0057c",
   "metadata": {},
   "outputs": [
    {
     "name": "stdout",
     "output_type": "stream",
     "text": [
      "virat\n",
      "30\n",
      "96\n"
     ]
    }
   ],
   "source": [
    "class cricketers:\n",
    "    def __init__(self ,name , age, DOB):\n",
    "     self.name = name\n",
    "     self.age=age\n",
    "     self.DOB=DOB\n",
    "    \n",
    "    \n",
    "player1 = cricketers(\"virat\",30,96)\n",
    "\n",
    "print(player1.name)\n",
    "print(player1.age)\n",
    "print(player1.DOB)"
   ]
  },
  {
   "cell_type": "code",
   "execution_count": 2,
   "id": "ae45788c",
   "metadata": {},
   "outputs": [
    {
     "name": "stdout",
     "output_type": "stream",
     "text": [
      "Total no of boys are:  18\n"
     ]
    }
   ],
   "source": [
    "class cls_room:\n",
    "    girls = 20\n",
    "    boys = 18\n",
    "    beanch = 12\n",
    "    shelf = 1\n",
    "    co_ed = True\n",
    "    \n",
    "kmhss=cls_room()\n",
    "\n",
    "\n",
    "\n",
    "print(\"Total no of boys are: \" ,kmhss.boys)\n"
   ]
  },
  {
   "cell_type": "code",
   "execution_count": 7,
   "id": "7cc3297a",
   "metadata": {},
   "outputs": [
    {
     "name": "stdout",
     "output_type": "stream",
     "text": [
      "siva\n",
      "mani\n"
     ]
    }
   ],
   "source": [
    "class cls_room:\n",
    "    girls = 20\n",
    "    boys = 18\n",
    "    beanch = 12\n",
    "    shelf = 1\n",
    "    co_ed = True\n",
    "    \n",
    "kmhss=cls_room()\n",
    "\n",
    "kmhss.present = 35\n",
    "kmhss.absent = 3\n",
    "kmhss.total_sub = 8\n",
    "kmhss.class_teacher = \"mani\"\n",
    "\n",
    "\n",
    "nirmala=cls_room()\n",
    "\n",
    "nirmala.present = 25\n",
    "nirmala.absent = 3\n",
    "nirmala.total_sub = 9\n",
    "nirmala.class_teacher = \"siva\"\n",
    "\n",
    "print(nirmala.class_teacher)\n",
    "print(kmhss.class_teacher)"
   ]
  },
  {
   "cell_type": "code",
   "execution_count": 17,
   "id": "ae6fb111",
   "metadata": {},
   "outputs": [
    {
     "name": "stdout",
     "output_type": "stream",
     "text": [
      " candidate Name is :  Nagulan\n",
      " candidate Dept is :  Mechanical\n",
      " candidate Year is :  4th\n",
      " candidate Qualification is :  M.tech\n",
      " candidate Age is :  25\n"
     ]
    }
   ],
   "source": [
    "class bio_data:\n",
    "    def __init__(self,name,age,qualifications,year,dept):\n",
    "        \n",
    "        self.name=name\n",
    "        self.age=age\n",
    "        self.qualifications=qualifications\n",
    "        self.year=year\n",
    "        self.dept=dept\n",
    "candidate1= bio_data(\"Nagulan\",22,\"B.tech\",\"3rd\",\"Aerospace\")\n",
    "candidate2= bio_data(\"prasanth\",22,\"B.E\",\"2nd\",\"Mechanical\")\n",
    "candidate3= bio_data(\"pradeep\",21,\"B.tech\",\"4th\",\"bio_tech\")\n",
    "candidate4= bio_data(\"Tharun\",26,\"M.tech\",\"1st\",\"EEE\")\n",
    "candidate5= bio_data(\"Ajay\",25,\"M.tech\",\"1st\",\"ECE\")\n",
    "\n",
    "\n",
    "\n",
    "\n",
    "print(\" candidate Name is : \" , candidate1.name)\n",
    "print(\" candidate Dept is : \" , candidate2.dept)\n",
    "print(\" candidate Year is : \" , candidate3.year)\n",
    "print(\" candidate Qualification is : \" , candidate4.qualifications)\n",
    "print(\" candidate Age is : \" , candidate5.age)\n",
    "\n",
    "        "
   ]
  },
  {
   "cell_type": "code",
   "execution_count": 24,
   "id": "1bfa9aae",
   "metadata": {},
   "outputs": [
    {
     "name": "stdout",
     "output_type": "stream",
     "text": [
      "Hi My name is :  Nagulan\n",
      "Hi My name is :  Ajay\n"
     ]
    }
   ],
   "source": [
    "class room:\n",
    "    def __init__(self,name):\n",
    "        self.name=name\n",
    "    def print_name(self):\n",
    "        print(\"Hi My name is : \" ,self.name)\n",
    "    \n",
    "Nagulan= room(\"Nagulan\")\n",
    "Ajay= room(\"Ajay\")\n",
    "Nagulan.print_name()\n",
    "Ajay.print_name()\n"
   ]
  },
  {
   "cell_type": "code",
   "execution_count": 43,
   "id": "883e49f5",
   "metadata": {},
   "outputs": [
    {
     "name": "stdout",
     "output_type": "stream",
     "text": [
      "Nagulan senthil_nathan\n",
      "22\n",
      "Pradeep kannan\n",
      "21\n"
     ]
    }
   ],
   "source": [
    "\n",
    "class student:\n",
    "    def __init__(self,first_name,last_name,dept,age,gender):\n",
    "        self.first_name=first_name\n",
    "        self.last_name=last_name\n",
    "        self.dept=dept\n",
    "        self.age=age\n",
    "        self.gender=gender\n",
    "    def full_name(self):\n",
    "        print(self.first_name + \" \" +self.last_name)\n",
    "    def age1(self):\n",
    "        print(self.age)\n",
    "st1=student(\"Nagulan\",\"senthil_nathan\",\"Aero\",22,\"M\")\n",
    "st2=student(\"Pradeep\",\"kannan\",\"Mech\",21,\"M\")\n",
    "\n",
    "st1.full_name()\n",
    "st1.age1()\n",
    "\n",
    "st2.full_name()\n",
    "st2.age1()\n"
   ]
  },
  {
   "cell_type": "code",
   "execution_count": 41,
   "id": "094ae869",
   "metadata": {},
   "outputs": [
    {
     "name": "stdout",
     "output_type": "stream",
     "text": [
      "Nagulan senthil_nathan\n",
      "Aero\n"
     ]
    }
   ],
   "source": [
    "class student:\n",
    "    def __init__(self,first_name,last_name,dept,age,gender):\n",
    "        self.first_name=first_name\n",
    "        self.last_name=last_name\n",
    "        self.dept=dept\n",
    "        self.age=age\n",
    "        self.gender=gender\n",
    "    def full_name(self):\n",
    "        print(self.first_name + \" \" +self.last_name)\n",
    "    def department(self):\n",
    "        print(self.dept)\n",
    "st1=student(\"Nagulan\",\"senthil_nathan\",\"Aero\",22,\"M\")\n",
    "\n",
    "st1.full_name()\n",
    "st1.department()"
   ]
  },
  {
   "cell_type": "markdown",
   "id": "1acd4fe9",
   "metadata": {},
   "source": [
    "# lambda\n"
   ]
  },
  {
   "cell_type": "code",
   "execution_count": 33,
   "id": "165df679",
   "metadata": {},
   "outputs": [
    {
     "name": "stdout",
     "output_type": "stream",
     "text": [
      "8\n"
     ]
    }
   ],
   "source": [
    "s=lambda x,y:x**y\n",
    "print(s(2,3))"
   ]
  },
  {
   "cell_type": "code",
   "execution_count": 1,
   "id": "a0c0740e",
   "metadata": {},
   "outputs": [
    {
     "name": "stdout",
     "output_type": "stream",
     "text": [
      "20\n"
     ]
    }
   ],
   "source": [
    "result = lambda x,y : x*y\n",
    "print(result(5,4))"
   ]
  },
  {
   "cell_type": "code",
   "execution_count": 40,
   "id": "2a280c92",
   "metadata": {},
   "outputs": [
    {
     "name": "stdout",
     "output_type": "stream",
     "text": [
      "[2, 4, 6, 8, 10]\n"
     ]
    }
   ],
   "source": [
    "numbers= [1,2,3,4,5,6,7,8,9,10]\n",
    "print(list(filter(lambda num : num%2==0,numbers)))"
   ]
  },
  {
   "cell_type": "code",
   "execution_count": 2,
   "id": "fec481a9",
   "metadata": {},
   "outputs": [
    {
     "data": {
      "text/plain": [
       "[22, 56, 8, 6, 52, 54]"
      ]
     },
     "execution_count": 2,
     "metadata": {},
     "output_type": "execute_result"
    }
   ],
   "source": [
    "even = [22,56,41,8,49,1,6,77,45,75,63,52,54,89]\n",
    "\n",
    "result=list(filter(lambda i : i%2==0,even))\n",
    "result"
   ]
  },
  {
   "cell_type": "code",
   "execution_count": 4,
   "id": "918ed451",
   "metadata": {},
   "outputs": [
    {
     "name": "stdout",
     "output_type": "stream",
     "text": [
      "['Nagulan', 'Danie', 'Mani']\n"
     ]
    }
   ],
   "source": [
    "names = [\"Nagulan\",\"Pradeep\",\"Danie\",\"Tharun\",\"Ajay\",\"Mani\",\"rudhra\",\"Sekar\"]\n",
    "\n",
    "print(list(filter(lambda i : i[1]==\"a\",names)))\n",
    "         "
   ]
  },
  {
   "cell_type": "markdown",
   "id": "fe5fd3ab",
   "metadata": {},
   "source": [
    "# Map"
   ]
  },
  {
   "cell_type": "code",
   "execution_count": 6,
   "id": "0f71f376",
   "metadata": {},
   "outputs": [
    {
     "data": {
      "text/plain": [
       "100"
      ]
     },
     "execution_count": 6,
     "metadata": {},
     "output_type": "execute_result"
    }
   ],
   "source": [
    "def sq(n):\n",
    "    return n*n\n",
    "\n",
    "sq(10)"
   ]
  },
  {
   "cell_type": "code",
   "execution_count": 8,
   "id": "2c61f0b1",
   "metadata": {},
   "outputs": [
    {
     "data": {
      "text/plain": [
       "[1, 4, 16, 36, 49, 64, 81, 25]"
      ]
     },
     "execution_count": 8,
     "metadata": {},
     "output_type": "execute_result"
    }
   ],
   "source": [
    "result = list(map(sq,num))\n",
    "result"
   ]
  },
  {
   "cell_type": "code",
   "execution_count": 5,
   "id": "31e6458a",
   "metadata": {},
   "outputs": [
    {
     "data": {
      "text/plain": [
       "[1, 4, 16, 36, 49, 64, 81, 25]"
      ]
     },
     "execution_count": 5,
     "metadata": {},
     "output_type": "execute_result"
    }
   ],
   "source": [
    "num=[1,2,4,6,7,8,9,5]\n",
    "\n",
    "result=list(map(lambda i : i*i,num))\n",
    "result"
   ]
  },
  {
   "cell_type": "code",
   "execution_count": 9,
   "id": "220a2752",
   "metadata": {},
   "outputs": [
    {
     "data": {
      "text/plain": [
       "[43.75, 47.05882352941177, 50.0, 52.631578947368425]"
      ]
     },
     "execution_count": 9,
     "metadata": {},
     "output_type": "execute_result"
    }
   ],
   "source": [
    "weight =[70,80,90,100]\n",
    "height = [1.6,1.7,1.8,1.9]\n",
    "\n",
    "result = list(map(lambda w,h :w/h,weight,height))\n",
    "result"
   ]
  },
  {
   "cell_type": "code",
   "execution_count": 12,
   "id": "cbc40fa0",
   "metadata": {},
   "outputs": [
    {
     "name": "stdout",
     "output_type": "stream",
     "text": [
      "[43.75, 47.05882352941177, 50.0, 52.631578947368425]\n"
     ]
    }
   ],
   "source": [
    "weight =[70,80,90,100]\n",
    "height = [1.6,1.7,1.8,1.9]\n",
    "\n",
    "print(list(map(lambda i: weight[i]/height[i], range(0,len(weight)))))"
   ]
  },
  {
   "cell_type": "markdown",
   "id": "a6a27f9c",
   "metadata": {},
   "source": [
    "# regular experession\n",
    "\n",
    "\n"
   ]
  },
  {
   "cell_type": "code",
   "execution_count": 44,
   "id": "2b26b3c6",
   "metadata": {},
   "outputs": [],
   "source": [
    "import re"
   ]
  },
  {
   "cell_type": "code",
   "execution_count": 52,
   "id": "6542dd4c",
   "metadata": {},
   "outputs": [
    {
     "name": "stdout",
     "output_type": "stream",
     "text": [
      "51 55\n"
     ]
    }
   ],
   "source": [
    "text = \"I am Nagulan , I am from chidambaram, I studied at Aero\"\n",
    "x=re.compile(\"Aero\")\n",
    "y = x.finditer(text)\n",
    "for i in y:\n",
    "    print(i.start(), i.end())\n",
    "    "
   ]
  },
  {
   "cell_type": "code",
   "execution_count": 51,
   "id": "500c25d3",
   "metadata": {},
   "outputs": [
    {
     "name": "stdout",
     "output_type": "stream",
     "text": [
      "Enter your bio: I am from chidambaram\n",
      "Enter the guess word : from\n",
      "5 9\n"
     ]
    }
   ],
   "source": [
    "bio=(input(\"Enter your bio: \"))\n",
    "guess_word=(input(\"Enter the guess word : \"))\n",
    "\n",
    "x=re.compile(guess_word)\n",
    "y= x.finditer(bio)\n",
    "\n",
    "for i in y:\n",
    "    print(i.start(), i.end())"
   ]
  },
  {
   "cell_type": "code",
   "execution_count": 5,
   "id": "19d862f2",
   "metadata": {},
   "outputs": [
    {
     "name": "stdout",
     "output_type": "stream",
     "text": [
      "13\n",
      "20\n",
      "46\n",
      "53\n"
     ]
    }
   ],
   "source": [
    "import re\n",
    "\n",
    "ds_module= \"There are 21 modules, till now they covered 3 modules\"\n",
    "x =re.compile(\"modules\").finditer(ds_module)\n",
    "for i in x:\n",
    "    print(i.start())\n",
    "    print(i.end())"
   ]
  },
  {
   "cell_type": "code",
   "execution_count": 16,
   "id": "7c2ab934",
   "metadata": {},
   "outputs": [
    {
     "name": "stdout",
     "output_type": "stream",
     "text": [
      "0\n",
      "1\n",
      "2\n",
      "3\n",
      "4\n",
      "5\n",
      "6\n",
      "7\n",
      "8\n",
      "9\n",
      "10\n"
     ]
    }
   ],
   "source": [
    "for i in range(11):\n",
    "    print(i)"
   ]
  },
  {
   "cell_type": "code",
   "execution_count": null,
   "id": "92633de9",
   "metadata": {},
   "outputs": [],
   "source": []
  },
  {
   "cell_type": "code",
   "execution_count": null,
   "id": "ccb3dfd6",
   "metadata": {},
   "outputs": [],
   "source": []
  },
  {
   "cell_type": "code",
   "execution_count": null,
   "id": "0774b573",
   "metadata": {},
   "outputs": [],
   "source": []
  },
  {
   "cell_type": "code",
   "execution_count": null,
   "id": "c095e951",
   "metadata": {},
   "outputs": [],
   "source": []
  }
 ],
 "metadata": {
  "kernelspec": {
   "display_name": "Python 3 (ipykernel)",
   "language": "python",
   "name": "python3"
  },
  "language_info": {
   "codemirror_mode": {
    "name": "ipython",
    "version": 3
   },
   "file_extension": ".py",
   "mimetype": "text/x-python",
   "name": "python",
   "nbconvert_exporter": "python",
   "pygments_lexer": "ipython3",
   "version": "3.9.12"
  }
 },
 "nbformat": 4,
 "nbformat_minor": 5
}
