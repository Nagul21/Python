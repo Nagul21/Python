{
 "cells": [
  {
   "cell_type": "code",
   "execution_count": 1,
   "id": "354bdb33",
   "metadata": {},
   "outputs": [
    {
     "data": {
      "text/plain": [
       "[1, 4, 9, 16, 25, 36, 49, 64]"
      ]
     },
     "execution_count": 1,
     "metadata": {},
     "output_type": "execute_result"
    }
   ],
   "source": [
    "a=[1,2,3,4,5,6,7,8]\n",
    "def sq(n):\n",
    "    return(n*n)\n",
    "square=list(map(sq,a))\n",
    "square"
   ]
  },
  {
   "cell_type": "code",
   "execution_count": 2,
   "id": "d1af6ecc",
   "metadata": {},
   "outputs": [
    {
     "name": "stdout",
     "output_type": "stream",
     "text": [
      "(1, 4, 9, 16, 25, 36, 49, 64)\n"
     ]
    }
   ],
   "source": [
    "a=[1,2,3,4,5,6,7,8]\n",
    "\n",
    "def sq(n):\n",
    "    return(n*n)\n",
    "square=tuple(map(sq,a))\n",
    "print(square)"
   ]
  },
  {
   "cell_type": "code",
   "execution_count": 3,
   "id": "7cbe1569",
   "metadata": {},
   "outputs": [
    {
     "name": "stdout",
     "output_type": "stream",
     "text": [
      "['NAGULAN', 'SURYA', 'SIVA']\n"
     ]
    }
   ],
   "source": [
    "list_1 = [\"nagulan\", \"surya\" , \"siva\"]\n",
    "list_2 =map(str.upper,list_1)\n",
    "print(list(list_2))"
   ]
  },
  {
   "cell_type": "code",
   "execution_count": 3,
   "id": "96252294",
   "metadata": {},
   "outputs": [
    {
     "data": {
      "text/plain": [
       "True"
      ]
     },
     "execution_count": 3,
     "metadata": {},
     "output_type": "execute_result"
    }
   ],
   "source": [
    "list_1 = [\"nagulan\",\"pradeep\",\"ragunath\"]\n",
    "\n",
    "def n_in_list(x):\n",
    "    return 'n'not in x\n",
    "n_in_list(list_1)"
   ]
  },
  {
   "cell_type": "code",
   "execution_count": 5,
   "id": "809552b2",
   "metadata": {},
   "outputs": [
    {
     "name": "stdout",
     "output_type": "stream",
     "text": [
      "['pradeep']\n"
     ]
    }
   ],
   "source": [
    "list_2=filter(n_in_list,list_1)\n",
    "\n",
    "print(list(list_2))"
   ]
  },
  {
   "cell_type": "code",
   "execution_count": null,
   "id": "8ef2b7d7",
   "metadata": {},
   "outputs": [],
   "source": []
  },
  {
   "cell_type": "code",
   "execution_count": 6,
   "id": "8cd1c98c",
   "metadata": {},
   "outputs": [],
   "source": [
    "list_1 = [\"nagulan\",\"pradeep\",\"ragunath\"]"
   ]
  },
  {
   "cell_type": "code",
   "execution_count": 7,
   "id": "b93fb50f",
   "metadata": {},
   "outputs": [
    {
     "name": "stdout",
     "output_type": "stream",
     "text": [
      "nagulan good than pradeep good than ragunath\n"
     ]
    }
   ],
   "source": [
    "from functools import reduce\n",
    "\n",
    "list_3 = reduce(lambda x,y: x +\" good than \" + y, list_1)\n",
    "print(list_3)"
   ]
  },
  {
   "cell_type": "code",
   "execution_count": null,
   "id": "9a7b4646",
   "metadata": {},
   "outputs": [],
   "source": [
    "#task 2 \n",
    "\n",
    "s=[1,4,8,9,4,14,56,4,32,78,45,30,15,30,42,80,40,26,60]\n",
    "\n",
    "D3=[]\n",
    "D5=[]\n",
    "D8=[]\n",
    "\n",
    "for i in s:\n",
    "    if i%3==0:\n",
    "        D3.append(i)\n",
    "    if i%5==0:\n",
    "        D5.append(i)\n",
    "    if i%8==0:\n",
    "        D8.append(i)\n",
    "\n",
    "print(D3)\n",
    "print(D5)\n",
    "print(D8)\n",
    "        "
   ]
  },
  {
   "cell_type": "code",
   "execution_count": null,
   "id": "1a27a100",
   "metadata": {},
   "outputs": [],
   "source": []
  },
  {
   "cell_type": "code",
   "execution_count": null,
   "id": "561c3ce8",
   "metadata": {},
   "outputs": [],
   "source": [
    "print(\"A\")"
   ]
  },
  {
   "cell_type": "code",
   "execution_count": null,
   "id": "3a0aae08",
   "metadata": {},
   "outputs": [],
   "source": [
    "maximum = int(input())\n",
    "\n",
    "for number in range(1, maximum+1):\n",
    "    if(number % 2 == 0):\n",
    "        print(number)"
   ]
  },
  {
   "cell_type": "code",
   "execution_count": null,
   "id": "44a58401",
   "metadata": {},
   "outputs": [],
   "source": [
    "A, N = map(int,input().split())\n",
    "for i in range(N):\n",
    "    print(A)\n"
   ]
  },
  {
   "cell_type": "code",
   "execution_count": 11,
   "id": "093fb973",
   "metadata": {},
   "outputs": [
    {
     "name": "stdout",
     "output_type": "stream",
     "text": [
      "20\n",
      "yes\n",
      "10\n"
     ]
    }
   ],
   "source": [
    "#to find composite number\n",
    "\n",
    "n=int(input())\n",
    "factor=0\n",
    "for i in range(1,n):\n",
    "  if n%i==0:\n",
    "    factor=i\n",
    "if factor>1:\n",
    "  print ('yes')\n",
    "else:\n",
    "  print ('no')\n",
    "print(factor)"
   ]
  },
  {
   "cell_type": "code",
   "execution_count": null,
   "id": "3806f3c6",
   "metadata": {},
   "outputs": [],
   "source": [
    "A=int(input())\n",
    "B=int(input())\n",
    "sum1=A+B\n",
    "if sum1 % 2==0:\n",
    "    print(\"even\")\n",
    "else:\n",
    "    print(\"odd\")"
   ]
  },
  {
   "cell_type": "code",
   "execution_count": null,
   "id": "86b42cc6",
   "metadata": {},
   "outputs": [],
   "source": [
    "A=int(input())\n",
    "B=int(input())\n",
    "\n",
    "sum1=A+B\n",
    "if sum1 % 2==0:\n",
    "    print(\"even\")\n",
    "else:\n",
    "    print(\"odd\")\n",
    "\n",
    "    "
   ]
  },
  {
   "cell_type": "code",
   "execution_count": null,
   "id": "4e12452a",
   "metadata": {},
   "outputs": [],
   "source": [
    "x=[]\n",
    "A=input().split(\" \")\n",
    "x.append(A)\n",
    "print(x)\n"
   ]
  },
  {
   "cell_type": "code",
   "execution_count": 2,
   "id": "9d83e916",
   "metadata": {},
   "outputs": [
    {
     "name": "stdout",
     "output_type": "stream",
     "text": [
      "5\n",
      "120\n"
     ]
    }
   ],
   "source": [
    "#factorial\n",
    "N=int(input())\n",
    "a=1\n",
    "for i in range(1,N+1):\n",
    "    a=a*i\n",
    "    \n",
    "print(a)    \n",
    "    "
   ]
  },
  {
   "cell_type": "code",
   "execution_count": null,
   "id": "3c4ecab2",
   "metadata": {},
   "outputs": [],
   "source": [
    "#to find max number\n",
    "arr=[]\n",
    "for i in range(3):\n",
    "    arr.append(input())\n",
    "print(arr)    \n",
    "    \n",
    "    \n",
    "num=[]\n",
    "for i in range(3):\n",
    "    num.append(int(input()))\n",
    "print(max(num))    \n",
    "    "
   ]
  },
  {
   "cell_type": "code",
   "execution_count": null,
   "id": "97d8f64d",
   "metadata": {},
   "outputs": [],
   "source": [
    "print(round(53.8,2))"
   ]
  },
  {
   "cell_type": "code",
   "execution_count": null,
   "id": "ce9a6caf",
   "metadata": {},
   "outputs": [],
   "source": [
    "#\n",
    "A,B,C=map(float,input().split())\n",
    "D=A*B*C\n",
    "E=D/100\n",
    "print(round(E,2))"
   ]
  },
  {
   "cell_type": "code",
   "execution_count": null,
   "id": "775cb353",
   "metadata": {},
   "outputs": [],
   "source": [
    "A=int(input())\n",
    "for i in range(5):\n",
    "    print(A)"
   ]
  },
  {
   "cell_type": "code",
   "execution_count": null,
   "id": "ced8374c",
   "metadata": {},
   "outputs": [],
   "source": [
    "a=[]\n",
    "for i in range(3):\n",
    "    a.append(input(i))\n",
    "print(a)\n",
    "    "
   ]
  },
  {
   "cell_type": "code",
   "execution_count": null,
   "id": "cb2f2e63",
   "metadata": {},
   "outputs": [],
   "source": [
    "print(a)"
   ]
  },
  {
   "cell_type": "code",
   "execution_count": null,
   "id": "f6245e5e",
   "metadata": {},
   "outputs": [],
   "source": [
    "print(list(map(int,a)))"
   ]
  },
  {
   "cell_type": "code",
   "execution_count": null,
   "id": "3e581762",
   "metadata": {},
   "outputs": [],
   "source": [
    "lis=[1,2,3]\n",
    "sum(lis)"
   ]
  },
  {
   "cell_type": "code",
   "execution_count": null,
   "id": "b225c43d",
   "metadata": {
    "scrolled": true
   },
   "outputs": [],
   "source": [
    "lis=input().split(\" \")\n",
    "lis1=ord(lis[0])+ord(lis[1])+ord([2])\n"
   ]
  },
  {
   "cell_type": "code",
   "execution_count": null,
   "id": "23d83679",
   "metadata": {},
   "outputs": [],
   "source": [
    "print(lis)"
   ]
  },
  {
   "cell_type": "code",
   "execution_count": null,
   "id": "a04de105",
   "metadata": {},
   "outputs": [],
   "source": [
    "som=ord(lis[0])+ord(lis[1])+ord(lis[2])\n",
    "print(som)"
   ]
  },
  {
   "cell_type": "code",
   "execution_count": null,
   "id": "c2da9a7a",
   "metadata": {},
   "outputs": [],
   "source": [
    "lis=input().split(\" \")\n",
    "lis"
   ]
  },
  {
   "cell_type": "code",
   "execution_count": null,
   "id": "e6d00b6a",
   "metadata": {},
   "outputs": [],
   "source": [
    "lis=input().split(\" \")\n",
    "print(ord(lis[0])+ord(lis[1])+ord(lis[2]))"
   ]
  },
  {
   "cell_type": "code",
   "execution_count": 15,
   "id": "148c7950",
   "metadata": {},
   "outputs": [
    {
     "name": "stdout",
     "output_type": "stream",
     "text": [
      "a b c\n",
      "294\n"
     ]
    }
   ],
   "source": [
    "lis=input().split(\" \")\n",
    "a=0\n",
    "for i in lis:\n",
    "    a=a+ord(i)\n",
    "print(a)"
   ]
  },
  {
   "cell_type": "code",
   "execution_count": null,
   "id": "fc6fb2eb",
   "metadata": {},
   "outputs": [],
   "source": [
    "A=str(input())\n",
    "a=0\n",
    "for i in A:\n",
    "    a=a+ord(i)\n",
    "    \n",
    "print(a)"
   ]
  },
  {
   "cell_type": "code",
   "execution_count": 1,
   "id": "960c5951",
   "metadata": {},
   "outputs": [
    {
     "name": "stdout",
     "output_type": "stream",
     "text": [
      "10\n",
      "2\n",
      "0\n",
      "3\n",
      "0\n",
      "5\n",
      "0\n",
      "7\n",
      "0\n"
     ]
    }
   ],
   "source": [
    "#prime number\n",
    "\n",
    "num=int(input())\n",
    "for number in range(1,num+1):\n",
    "    if number >1:\n",
    "        count=0\n",
    "        for i in range(2,number):\n",
    "            if number %i==0:\n",
    "                count=count+1\n",
    "        if count==0:\n",
    "            print(number)"
   ]
  },
  {
   "cell_type": "code",
   "execution_count": null,
   "id": "ef60a6e3",
   "metadata": {},
   "outputs": [],
   "source": [
    "for i in range(2,3):\n",
    "    print(i)"
   ]
  },
  {
   "cell_type": "code",
   "execution_count": null,
   "id": "0e462dde",
   "metadata": {},
   "outputs": [],
   "source": [
    "A=list(map(int,input().split()))\n",
    "print(min(A))"
   ]
  },
  {
   "cell_type": "code",
   "execution_count": null,
   "id": "12bd375d",
   "metadata": {},
   "outputs": [],
   "source": [
    "x,y=map(int,input().split())\n",
    "print(x*y)"
   ]
  },
  {
   "cell_type": "code",
   "execution_count": null,
   "id": "46edf624",
   "metadata": {},
   "outputs": [],
   "source": [
    "print(12*12)"
   ]
  },
  {
   "cell_type": "code",
   "execution_count": null,
   "id": "96dee60b",
   "metadata": {},
   "outputs": [],
   "source": [
    "A=int(input())\n",
    "a=[]\n",
    "B=9\n",
    "for i in range(1,A+1):\n",
    "    a.append(i*B)\n",
    "print(a)"
   ]
  },
  {
   "cell_type": "code",
   "execution_count": 37,
   "id": "ba962492",
   "metadata": {},
   "outputs": [
    {
     "name": "stdout",
     "output_type": "stream",
     "text": [
      "3\n",
      "9 18 27\n"
     ]
    }
   ],
   "source": [
    "A=int(input())\n",
    "B=9\n",
    "lis=[]\n",
    "for i in range(1,A+1):\n",
    "    lis.append(i*B)\n",
    "print(*lis)"
   ]
  },
  {
   "cell_type": "code",
   "execution_count": null,
   "id": "cd1eca10",
   "metadata": {},
   "outputs": [],
   "source": [
    "A, N = map(int,input().split())\n",
    "for i in range(N+1):\n",
    "    print(A)"
   ]
  },
  {
   "cell_type": "code",
   "execution_count": null,
   "id": "46546dfd",
   "metadata": {},
   "outputs": [],
   "source": [
    "A=int(input())\n",
    "B=9\n",
    "C=[]\n",
    "for i in range(1,A+1):\n",
    "    C.append(i*B)\n",
    "print(C)\n",
    "    \n",
    "if A==0:\n",
    "    print(\"NULL\")"
   ]
  },
  {
   "cell_type": "code",
   "execution_count": 26,
   "id": "a06d7602",
   "metadata": {},
   "outputs": [
    {
     "name": "stdout",
     "output_type": "stream",
     "text": [
      "3\n",
      "9 18 27 "
     ]
    }
   ],
   "source": [
    "A=int(input())\n",
    "B=9\n",
    "for i in range(1,A+1):\n",
    "    print(i*B, end=\" \")"
   ]
  },
  {
   "cell_type": "code",
   "execution_count": null,
   "id": "d962cb85",
   "metadata": {},
   "outputs": [],
   "source": [
    "A=input()\n",
    "print(\" \".join(A))"
   ]
  },
  {
   "cell_type": "code",
   "execution_count": 25,
   "id": "9054eabd",
   "metadata": {},
   "outputs": [
    {
     "name": "stdout",
     "output_type": "stream",
     "text": [
      "3\n",
      "3 6 9 "
     ]
    }
   ],
   "source": [
    "A= int(input())\n",
    "for i in range(1,4):\n",
    "    print(i*A,end=\" \")\n",
    "    "
   ]
  },
  {
   "cell_type": "code",
   "execution_count": 19,
   "id": "462db284",
   "metadata": {},
   "outputs": [
    {
     "name": "stdout",
     "output_type": "stream",
     "text": [
      "1 2 3 4 5 6 7 8 9 0\n",
      "45\n"
     ]
    }
   ],
   "source": [
    "A=list(map(int,input().split()))\n",
    "a=0\n",
    "for i in A:\n",
    "    a=a+i\n",
    "print(a)"
   ]
  },
  {
   "cell_type": "code",
   "execution_count": 24,
   "id": "c790e33b",
   "metadata": {},
   "outputs": [
    {
     "name": "stdout",
     "output_type": "stream",
     "text": [
      "12345\n",
      "15\n"
     ]
    }
   ],
   "source": [
    "def getSum(n):\n",
    "    \n",
    "    sum = 0\n",
    "    for i in str(n): \n",
    "      sum += int(i)      \n",
    "    return sum\n",
    "   \n",
    "n =int(input())\n",
    "print(getSum(n))"
   ]
  },
  {
   "cell_type": "code",
   "execution_count": 34,
   "id": "4411d22d",
   "metadata": {},
   "outputs": [
    {
     "name": "stdout",
     "output_type": "stream",
     "text": [
      "1234\n",
      "2 4\n",
      "1 3\n"
     ]
    }
   ],
   "source": [
    "A=input()\n",
    "lis=[]\n",
    "odd=[]\n",
    "even=[]\n",
    "for i in str(A):\n",
    "    lis.append(int(i))\n",
    "for i in lis:\n",
    "    if i%2==0:\n",
    "        even.append(i)\n",
    "    else:\n",
    "        odd.append(i)\n",
    "print(*even)\n",
    "print(*odd)\n",
    "    \n",
    "    \n"
   ]
  },
  {
   "cell_type": "code",
   "execution_count": 29,
   "id": "3680c5e5",
   "metadata": {},
   "outputs": [
    {
     "name": "stdout",
     "output_type": "stream",
     "text": [
      "India got independence on 15 august 1947. But they were fighting for it for last 90 years.\n",
      "1947\n"
     ]
    }
   ],
   "source": [
    "A=list(input().strip(\".\").split(\" \"))\n",
    "lis=[]\n",
    "dig=[]\n",
    "for i in A:\n",
    "    lis.append(i.strip(\".\\n\"))\n",
    "for j in lis:\n",
    "    if j.isdigit()==True:\n",
    "        dig.append(int(j))\n",
    "print(max(dig))\n",
    "    \n",
    "    \n",
    "        \n",
    "\n",
    "    "
   ]
  },
  {
   "cell_type": "code",
   "execution_count": 50,
   "id": "58d3b38b",
   "metadata": {},
   "outputs": [
    {
     "data": {
      "text/plain": [
       "'India got independence on 15 august 1947. But they were fighting for it for last 90 years'"
      ]
     },
     "execution_count": 50,
     "metadata": {},
     "output_type": "execute_result"
    }
   ],
   "source": [
    "A= \"India got independence on 15 august 1947. But they were fighting for it for last 90 years.\"\n",
    "\n",
    "A.strip(\".\")"
   ]
  },
  {
   "cell_type": "code",
   "execution_count": 4,
   "id": "4a7d524a",
   "metadata": {},
   "outputs": [
    {
     "data": {
      "text/plain": [
       "25"
      ]
     },
     "execution_count": 4,
     "metadata": {},
     "output_type": "execute_result"
    }
   ],
   "source": [
    "def sq():\n",
    "    A=input()\n",
    "    return A*A\n",
    "sq()"
   ]
  },
  {
   "cell_type": "markdown",
   "id": "b75650cb",
   "metadata": {},
   "source": [
    "# list comprehensions\n"
   ]
  },
  {
   "cell_type": "code",
   "execution_count": 7,
   "id": "f839a530",
   "metadata": {},
   "outputs": [
    {
     "name": "stdout",
     "output_type": "stream",
     "text": [
      "[1, 2, 3, 4, 5, 6, 7, 8, 9, 10]\n"
     ]
    }
   ],
   "source": [
    "A=[1,2,3,4,5,6,7,8,9,10]\n",
    "print([i for i in A])"
   ]
  },
  {
   "cell_type": "code",
   "execution_count": 10,
   "id": "00b4b952",
   "metadata": {},
   "outputs": [
    {
     "data": {
      "text/plain": [
       "{0: 0, 1: 2, 2: 4, 3: 6, 4: 8, 5: 10, 6: 12, 7: 14, 8: 16, 9: 18, 10: 20}"
      ]
     },
     "execution_count": 10,
     "metadata": {},
     "output_type": "execute_result"
    }
   ],
   "source": [
    "B={i:i*2 for i in range(10+1)}\n",
    "B"
   ]
  },
  {
   "cell_type": "code",
   "execution_count": 17,
   "id": "d5f595be",
   "metadata": {},
   "outputs": [
    {
     "data": {
      "text/plain": [
       "['Pradeep', 'Pranav']"
      ]
     },
     "execution_count": 17,
     "metadata": {},
     "output_type": "execute_result"
    }
   ],
   "source": [
    "A=[\"Nagulan\",\"Pradeep\",\"Pranav\",\"Danie\",\"Ajay\",\"Andrew\"]\n",
    "B=[]\n",
    "for i in A:\n",
    "    if i.startswith(\"P\"):\n",
    "        B.append(i)\n",
    "B "
   ]
  },
  {
   "cell_type": "code",
   "execution_count": 16,
   "id": "90a39be8",
   "metadata": {},
   "outputs": [
    {
     "name": "stdout",
     "output_type": "stream",
     "text": [
      "['Pradeep', 'Pranav']\n"
     ]
    }
   ],
   "source": [
    "A=[\"Nagulan\",\"Pradeep\",\"Pranav\",\"Danie\",\"Ajay\",\"Andrew\"]\n",
    "B=[i for i in A if i[0]==\"P\"]\n",
    "print(B)"
   ]
  },
  {
   "cell_type": "code",
   "execution_count": 19,
   "id": "f9fb76c7",
   "metadata": {},
   "outputs": [
    {
     "data": {
      "text/plain": [
       "[4, 16, 36]"
      ]
     },
     "execution_count": 19,
     "metadata": {},
     "output_type": "execute_result"
    }
   ],
   "source": [
    "A=[2,4,6]\n",
    "B=[]\n",
    "for i in A:\n",
    "    B.append(i*i)\n",
    "B"
   ]
  },
  {
   "cell_type": "code",
   "execution_count": 20,
   "id": "45b8f212",
   "metadata": {},
   "outputs": [
    {
     "data": {
      "text/plain": [
       "[4, 16, 36]"
      ]
     },
     "execution_count": 20,
     "metadata": {},
     "output_type": "execute_result"
    }
   ],
   "source": [
    "A=[2,4,6]\n",
    "B=[i*i for i in A]\n",
    "B"
   ]
  },
  {
   "cell_type": "code",
   "execution_count": 21,
   "id": "d435fdf2",
   "metadata": {},
   "outputs": [
    {
     "data": {
      "text/plain": [
       "[0, 1, 4, 9, 16, 25, 36, 49, 64, 81]"
      ]
     },
     "execution_count": 21,
     "metadata": {},
     "output_type": "execute_result"
    }
   ],
   "source": [
    "A=[i*i for i in range(10)]\n",
    "A"
   ]
  },
  {
   "cell_type": "code",
   "execution_count": 27,
   "id": "e791dcb7",
   "metadata": {},
   "outputs": [
    {
     "data": {
      "text/plain": [
       "[(1, 2), (1, 4), (1, 6), (3, 2), (3, 4), (3, 6), (5, 2), (5, 4), (5, 6)]"
      ]
     },
     "execution_count": 27,
     "metadata": {},
     "output_type": "execute_result"
    }
   ],
   "source": [
    "A=[1,3,5]\n",
    "B=[2,4,6]\n",
    "C=[(i,j) for i in A for j in B]\n",
    "C "
   ]
  },
  {
   "cell_type": "code",
   "execution_count": 2,
   "id": "f99d7975",
   "metadata": {},
   "outputs": [
    {
     "name": "stdout",
     "output_type": "stream",
     "text": [
      "\n",
      "INSTALLED VERSIONS\n",
      "------------------\n",
      "commit           : ca60aab7340d9989d9428e11a51467658190bb6b\n",
      "python           : 3.9.12.final.0\n",
      "python-bits      : 64\n",
      "OS               : Windows\n",
      "OS-release       : 10\n",
      "Version          : 10.0.19044\n",
      "machine          : AMD64\n",
      "processor        : Intel64 Family 6 Model 78 Stepping 3, GenuineIntel\n",
      "byteorder        : little\n",
      "LC_ALL           : None\n",
      "LANG             : None\n",
      "LOCALE           : English_United States.1252\n",
      "\n",
      "pandas           : 1.4.4\n",
      "numpy            : 1.21.5\n",
      "pytz             : 2022.1\n",
      "dateutil         : 2.8.2\n",
      "setuptools       : 63.4.1\n",
      "pip              : 22.2.2\n",
      "Cython           : 0.29.32\n",
      "pytest           : 7.1.2\n",
      "hypothesis       : None\n",
      "sphinx           : 5.0.2\n",
      "blosc            : None\n",
      "feather          : None\n",
      "xlsxwriter       : 3.0.3\n",
      "lxml.etree       : 4.9.1\n",
      "html5lib         : None\n",
      "pymysql          : None\n",
      "psycopg2         : None\n",
      "jinja2           : 2.11.3\n",
      "IPython          : 8.4.0\n",
      "pandas_datareader: None\n",
      "bs4              : 4.11.1\n",
      "bottleneck       : 1.3.5\n",
      "brotli           : \n",
      "fastparquet      : None\n",
      "fsspec           : 2022.7.1\n",
      "gcsfs            : None\n",
      "markupsafe       : 2.0.1\n",
      "matplotlib       : 3.5.2\n",
      "numba            : 0.55.1\n",
      "numexpr          : 2.8.3\n",
      "odfpy            : None\n",
      "openpyxl         : 3.0.10\n",
      "pandas_gbq       : None\n",
      "pyarrow          : None\n",
      "pyreadstat       : None\n",
      "pyxlsb           : None\n",
      "s3fs             : None\n",
      "scipy            : 1.9.1\n",
      "snappy           : \n",
      "sqlalchemy       : 1.4.39\n",
      "tables           : 3.6.1\n",
      "tabulate         : 0.8.10\n",
      "xarray           : 0.20.1\n",
      "xlrd             : 2.0.1\n",
      "xlwt             : None\n",
      "zstandard        : None\n",
      "None\n"
     ]
    }
   ],
   "source": [
    "import pandas as pd\n",
    "print(pd.show_versions())"
   ]
  },
  {
   "cell_type": "code",
   "execution_count": 3,
   "id": "24a541b4",
   "metadata": {
    "scrolled": true
   },
   "outputs": [
    {
     "name": "stdout",
     "output_type": "stream",
     "text": [
      "     Unnamed: 0           Name  python  mysql  Previous Geekions  \\\n",
      "0             0      A.Dharani    82.0   20.0              24500   \n",
      "1             1    V.JEEVITHA     82.0   20.0              21740   \n",
      "2             2    HEMAVATHI.R   100.0  100.0              19680   \n",
      "3             3    Mugunthan S   100.0   47.0              10610   \n",
      "4             4    Sathammai.S   100.0    8.0               8980   \n",
      "..          ...            ...     ...    ...                ...   \n",
      "114         114  praveen raj j    24.0    0.0               2380   \n",
      "115         115     AMARNATH D    -1.0   12.0               1890   \n",
      "116         116           bala    32.0    0.0               1720   \n",
      "117         117           XY Z    -1.0   -1.0                  0   \n",
      "118         118      Hariharan    -1.0   -1.0                  0   \n",
      "\n",
      "     CodeKata Score                                 Department  Rising  \\\n",
      "0             24500           Computer Science and Engineering       0   \n",
      "1             21740           Computer Science and Engineering       0   \n",
      "2             19680           Computer Science and Engineering       0   \n",
      "3             10610           Computer Science and Engineering       0   \n",
      "4              8980           Computer Science and Engineering       0   \n",
      "..              ...                                        ...     ...   \n",
      "114            2380           Computer Science and Engineering       0   \n",
      "115            1890  Electronics and Communication Engineering       0   \n",
      "116            1720  Electronics and Communication Engineering       0   \n",
      "117               0           Computer Science and Engineering       0   \n",
      "118               0           Computer Science and Engineering       0   \n",
      "\n",
      "     python_en  computational_thinking  \n",
      "0          NaN                     NaN  \n",
      "1          NaN                     NaN  \n",
      "2          NaN                     NaN  \n",
      "3          NaN                     NaN  \n",
      "4          NaN                     NaN  \n",
      "..         ...                     ...  \n",
      "114       -1.0                     0.0  \n",
      "115       52.0                    -1.0  \n",
      "116       49.0                    -1.0  \n",
      "117       20.0                    -1.0  \n",
      "118       -1.0                     0.0  \n",
      "\n",
      "[119 rows x 10 columns]\n"
     ]
    }
   ],
   "source": [
    "import pandas as pd\n",
    "df=pd.read_csv(\"C:/Users/User/Downloads/college_data.csv\")\n",
    "print(df)"
   ]
  },
  {
   "cell_type": "code",
   "execution_count": 9,
   "id": "4f7155ff",
   "metadata": {},
   "outputs": [
    {
     "name": "stdout",
     "output_type": "stream",
     "text": [
      "119\n"
     ]
    }
   ],
   "source": [
    "print(len(df[\"Name\"]))"
   ]
  },
  {
   "cell_type": "code",
   "execution_count": 4,
   "id": "c949ef19",
   "metadata": {},
   "outputs": [],
   "source": [
    "'''Exceeded_expectations=df[df[\"CodeKata Score\"]>=15000]\n",
    "Exceeded_expectations.to_csv(\"Exceeded expectations.csv\")'''"
   ]
  },
  {
   "cell_type": "code",
   "execution_count": 14,
   "id": "13851e3a",
   "metadata": {
    "scrolled": false
   },
   "outputs": [
    {
     "name": "stdout",
     "output_type": "stream",
     "text": [
      "Index(['Unnamed: 0', 'Name', 'python', 'mysql', 'Previous Geekions',\n",
      "       'CodeKata Score', 'Department', 'Rising', 'python_en',\n",
      "       'computational_thinking'],\n",
      "      dtype='object')\n"
     ]
    }
   ],
   "source": [
    "df=pd.read_csv(\"C:/Users/User/Downloads/college_data.csv\")\n",
    "print(df.columns)"
   ]
  },
  {
   "cell_type": "code",
   "execution_count": 5,
   "id": "a9d4968d",
   "metadata": {},
   "outputs": [
    {
     "name": "stdout",
     "output_type": "stream",
     "text": [
      "['Computer Science and Engineering'\n",
      " 'Electronics and Communication Engineering'\n",
      " 'Electronics and Electrical Engineering']\n"
     ]
    }
   ],
   "source": [
    "import matplotlib.pyplot as plt\n",
    "import pandas as pd\n",
    "df = pd.read_csv(\"C:/Users/User/Downloads/college_data.csv\")\n",
    "df1=df[\"Department\"].unique()\n",
    "x = df[\"CodeKata Score\"]\n",
    "y = df[\"Department\"]\n",
    "\n",
    "#plt.pie(x,labels=y)\n",
    "#plt.show()\n",
    "print(df1)"
   ]
  },
  {
   "cell_type": "code",
   "execution_count": 24,
   "id": "51f5bc3c",
   "metadata": {},
   "outputs": [
    {
     "data": {
      "image/png": "[encoded data removed]",
      "text/plain": [
       "<Figure size 640x480 with 1 Axes>"
      ]
     },
     "metadata": {},
     "output_type": "display_data"
    }
   ],
   "source": [
    "CS = df[df[\"Department\"]==\"Computer Science and Engineering\"]\n",
    "\n",
    "ECE = df[df[\"Department\"]==\"Electronics and Communication Engineering\"]\n",
    "\n",
    "EEE = df[df[\"Department\"]==\"Electronics and Electrical Engineering\"]\n",
    "\n",
    "CS_avg = CS[\"CodeKata Score\"].mean()\n",
    "ECE_avg = ECE[\"CodeKata Score\"].mean()\n",
    "EEE_avg = EEE[\"CodeKata Score\"].mean()\n",
    "\n",
    "x = [CS_avg, ECE_avg, EEE_avg]\n",
    "plt.pie(x,labels=df1,autopct=\"%0.1f%%\")\n",
    "plt.show()\n",
    "\n"
   ]
  },
  {
   "cell_type": "code",
   "execution_count": 25,
   "id": "ff4d34a1",
   "metadata": {},
   "outputs": [
    {
     "name": "stderr",
     "output_type": "stream",
     "text": [
      "C:\\Users\\User\\AppData\\Local\\Temp\\ipykernel_1380\\28059870.py:9: SettingWithCopyWarning: \n",
      "A value is trying to be set on a copy of a slice from a DataFrame\n",
      "\n",
      "See the caveats in the documentation: https://pandas.pydata.org/pandas-docs/stable/user_guide/indexing.html#returning-a-view-versus-a-copy\n",
      "  CS.sort_values([\"CodeKata Score\"],ascending = False,inplace=True)\n"
     ]
    },
    {
     "data": {
      "image/png": "[encoded data removed]",
      "text/plain": [
       "<Figure size 560x350 with 1 Axes>"
      ]
     },
     "metadata": {},
     "output_type": "display_data"
    },
    {
     "name": "stdout",
     "output_type": "stream",
     "text": [
      "0             A.Dharani\n",
      "1           V.JEEVITHA \n",
      "2           HEMAVATHI.R\n",
      "85              Chandru\n",
      "86    Ganesh Ramkumar R\n",
      "Name: Name, dtype: object\n"
     ]
    }
   ],
   "source": [
    "import matplotlib.pyplot as plt\n",
    "import pandas as pd\n",
    "\n",
    "df = pd.read_csv(\"C:/Users/User/Downloads/college_data.csv\")\n",
    "\n",
    "CS = df[df[\"Department\"]==\"Computer Science and Engineering\"]\n",
    "ECE = df[df[\"Department\"]==\"Electronics and Communication Engineering\"]\n",
    "EEE = df[df[\"Department\"]==\"Electronics and Electrical Engineering\"]\n",
    "CS.sort_values([\"CodeKata Score\"],ascending = False,inplace=True)\n",
    "#print(CS.head(3).to_string())\n",
    "X = CS[\"Name\"].head(5)\n",
    "Y = CS[\"CodeKata Score\"].head(5)\n",
    "plt.figure(figsize=(8,5), dpi=70)\n",
    "plt.bar(X,Y)\n",
    "plt.title(\"Computer Science and Engineering\")\n",
    "plt.show()\n"
   ]
  },
  {
   "cell_type": "code",
   "execution_count": 2,
   "id": "89e9933a",
   "metadata": {},
   "outputs": [
    {
     "name": "stdout",
     "output_type": "stream",
     "text": [
      "[10 20 30]\n"
     ]
    }
   ],
   "source": [
    "import  numpy as np\n",
    "\n",
    "dt = np.dtype( [ ('age' ,np.int8) ] )\n",
    "\n",
    "a = np.array( [ (10,),(20,),(30,)], dtype = dt)\n",
    "\n",
    "print (a['age'])"
   ]
  },
  {
   "cell_type": "code",
   "execution_count": 3,
   "id": "057b05f8",
   "metadata": {},
   "outputs": [
    {
     "name": "stdout",
     "output_type": "stream",
     "text": [
      "5\n"
     ]
    }
   ],
   "source": [
    "a = np.array([[1,2,3],[0,1,4]])\n",
    "\n",
    "b = np.zeros((2,3), dtype=np.int16)\n",
    "\n",
    "c = np.ones((2,3), dtype=np.int16)\n",
    "\n",
    "d = a + b + c\n",
    "\n",
    "print (d[1,2] )"
   ]
  },
  {
   "cell_type": "code",
   "execution_count": 15,
   "id": "0d1237ac",
   "metadata": {},
   "outputs": [
    {
     "ename": "SyntaxError",
     "evalue": "invalid syntax (2252530711.py, line 2)",
     "output_type": "error",
     "traceback": [
      "\u001b[1;36m  Input \u001b[1;32mIn [15]\u001b[1;36m\u001b[0m\n\u001b[1;33m    print(S1).\u001b[0m\n\u001b[1;37m              ^\u001b[0m\n\u001b[1;31mSyntaxError\u001b[0m\u001b[1;31m:\u001b[0m invalid syntax\n"
     ]
    }
   ],
   "source": [
    "S1 = pd.Series(data = (31, 2, -6), index = [7, 9, 3, 2])\n",
    "print(S1)."
   ]
  },
  {
   "cell_type": "code",
   "execution_count": 5,
   "id": "d0b54b49",
   "metadata": {},
   "outputs": [
    {
     "data": {
      "image/png": "[encoded data removed]",
      "text/plain": [
       "<Figure size 640x480 with 1 Axes>"
      ]
     },
     "metadata": {},
     "output_type": "display_data"
    }
   ],
   "source": [
    "import matplotlib.pyplot as pl \n",
    "a = [1,2,3,4,5]\n",
    "b = [10, 20, 30, 40, 50]\n",
    "c = [5, 10, 15, 20, 25]\n",
    "pl.plot(a,b)\n",
    "pl.plot(a,c)\n",
    "pl.show()"
   ]
  },
  {
   "cell_type": "markdown",
   "id": "59a57163",
   "metadata": {},
   "source": [
    "# Code kata\n",
    "string 27 \n",
    "grey code sequence"
   ]
  },
  {
   "cell_type": "code",
   "execution_count": null,
   "id": "4c34b0e5",
   "metadata": {},
   "outputs": [],
   "source": [
    "n = int(input())\n",
    "def generateGrayCode(n):\n",
    "    l = ['0', '1']\n",
    "    if n==1:\n",
    "        ans = l\n",
    "    else:\n",
    "        for k in range(1, n):\n",
    "            a = []\n",
    "            a.extend(l)\n",
    "            l.reverse()\n",
    "            a.extend(l)\n",
    "            b = []\n",
    "            for i in range(len(a)//2):\n",
    "                b.append('0' + a[i])\n",
    "            for i in range(len(a)//2, len(a)):\n",
    "                b.append('1' + a[i])\n",
    "            l = b\n",
    "            ans = b\n",
    "    return ans\n",
    "lst = generateGrayCode(n)\n",
    "print(*lst)"
   ]
  },
  {
   "cell_type": "code",
   "execution_count": 3,
   "id": "d665746f",
   "metadata": {},
   "outputs": [
    {
     "data": {
      "text/plain": [
       "'121212def'"
      ]
     },
     "execution_count": 3,
     "metadata": {},
     "output_type": "execute_result"
    }
   ],
   "source": [
    "import re\n",
    "def clean_text(text):\n",
    "    cleaned_text = re.sub('[a-c]','12',text)\n",
    "    return cleaned_text\n",
    "\n",
    "clean_text('abcdef')\n",
    "    "
   ]
  },
  {
   "cell_type": "code",
   "execution_count": 5,
   "id": "29c57c68",
   "metadata": {},
   "outputs": [
    {
     "name": "stdout",
     "output_type": "stream",
     "text": [
      "293\n"
     ]
    },
    {
     "data": {
      "text/plain": [
       "659"
      ]
     },
     "execution_count": 5,
     "metadata": {},
     "output_type": "execute_result"
    }
   ],
   "source": [
    "A = int(input(),16)\n",
    "A"
   ]
  },
  {
   "cell_type": "code",
   "execution_count": 29,
   "id": "edcefedb",
   "metadata": {},
   "outputs": [
    {
     "name": "stdout",
     "output_type": "stream",
     "text": [
      "5\n",
      "5\n"
     ]
    }
   ],
   "source": [
    "A = int(input())\n",
    "B = []\n",
    "C = []\n",
    "for i in range(2,A):\n",
    "    if A%i == 0:\n",
    "        B.append(i)\n",
    "for num in B:\n",
    "    for i in range(2,num):\n",
    "        if num%i==0:\n",
    "            if i not in C:\n",
    "                C.append(i)\n",
    "C = sorted(C)\n",
    "if C==[]:\n",
    "    print(A)\n",
    "else:\n",
    "    print(*C)"
   ]
  },
  {
   "cell_type": "code",
   "execution_count": null,
   "id": "047b2414",
   "metadata": {},
   "outputs": [],
   "source": []
  }
 ],
 "metadata": {
  "kernelspec": {
   "display_name": "Python 3 (ipykernel)",
   "language": "python",
   "name": "python3"
  },
  "language_info": {
   "codemirror_mode": {
    "name": "ipython",
    "version": 3
   },
   "file_extension": ".py",
   "mimetype": "text/x-python",
   "name": "python",
   "nbconvert_exporter": "python",
   "pygments_lexer": "ipython3",
   "version": "3.9.12"
  }
 },
 "nbformat": 4,
 "nbformat_minor": 5
}
