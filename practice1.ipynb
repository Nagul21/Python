{
 "cells": [
  {
   "cell_type": "code",
   "execution_count": 14,
   "id": "80a56c6a",
   "metadata": {},
   "outputs": [
    {
     "name": "stdout",
     "output_type": "stream",
     "text": [
      "123\n"
     ]
    },
    {
     "data": {
      "text/plain": [
       "6"
      ]
     },
     "execution_count": 14,
     "metadata": {},
     "output_type": "execute_result"
    }
   ],
   "source": [
    "def sumofstr(n):\n",
    "    a=0\n",
    "    for i in str(n):\n",
    "        a=a+int(i)\n",
    "    return a\n",
    "        \n",
    "n=input()\n",
    "sumofstr(n)"
   ]
  },
  {
   "cell_type": "code",
   "execution_count": 16,
   "id": "4f4084db",
   "metadata": {},
   "outputs": [
    {
     "name": "stdout",
     "output_type": "stream",
     "text": [
      "nagulan\n",
      "n a g u l a n\n"
     ]
    }
   ],
   "source": [
    "a=input()\n",
    "print(\" \".join(a))"
   ]
  },
  {
   "cell_type": "code",
   "execution_count": 5,
   "id": "eec6f62a",
   "metadata": {},
   "outputs": [
    {
     "name": "stdout",
     "output_type": "stream",
     "text": [
      "Nagulan\n",
      "Ngln"
     ]
    }
   ],
   "source": [
    "ans=input()\n",
    "a=0\n",
    "for i in ans:\n",
    "    if i not in \"aeiouAEIOU\":\n",
    "        print(i,end=\"\")\n",
    "        a=a+1\n",
    "if a==0:\n",
    "    print(-1)\n",
    "        "
   ]
  },
  {
   "cell_type": "code",
   "execution_count": 22,
   "id": "5a9e1217",
   "metadata": {},
   "outputs": [
    {
     "name": "stdout",
     "output_type": "stream",
     "text": [
      "abc\n",
      "1\n"
     ]
    }
   ],
   "source": [
    "A=input().lower()\n",
    "if len(A)==3 and not A.isalpha==True:\n",
    "    print(1)\n",
    "else:\n",
    "    print(0)"
   ]
  },
  {
   "cell_type": "code",
   "execution_count": 18,
   "id": "e8607c1f",
   "metadata": {},
   "outputs": [
    {
     "name": "stdout",
     "output_type": "stream",
     "text": [
      "True\n"
     ]
    }
   ],
   "source": [
    "A=\"ABC\"\n",
    "print(A.isalpha())"
   ]
  },
  {
   "cell_type": "code",
   "execution_count": 32,
   "id": "ae59dca8",
   "metadata": {},
   "outputs": [
    {
     "name": "stdout",
     "output_type": "stream",
     "text": [
      "hi I am Nagulan how are you\n",
      "HI i\n"
     ]
    }
   ],
   "source": [
    "A=input().split()\n",
    "for i in A:\n",
    "    "
   ]
  },
  {
   "cell_type": "code",
   "execution_count": 41,
   "id": "3781c197",
   "metadata": {},
   "outputs": [
    {
     "name": "stdout",
     "output_type": "stream",
     "text": [
      "HI I am Nagulan How are you\n",
      "HI i AM nagulan HOW are YOU\n"
     ]
    }
   ],
   "source": [
    "s=input().split()\n",
    "output=[] \n",
    "for i in range(len(s)):\n",
    "    if i%2==0:\n",
    "        output.append(s[i].upper())\n",
    "    else:\n",
    "        output.append(s[i].lower())\n",
    "        \n",
    "print(\" \".join(output))"
   ]
  },
  {
   "cell_type": "code",
   "execution_count": null,
   "id": "232beb87",
   "metadata": {},
   "outputs": [],
   "source": [
    "A=list(input().strip(\".\").split(\" \"))\n",
    "lis=[]\n",
    "dig=[]\n",
    "for i in A:\n",
    "    lis.append(i.strip(\".\\n\"))\n",
    "for j in lis:\n",
    "    if j.isdigit()==True:\n",
    "        dig.append(int(j))\n",
    "print(max(dig))\n",
    "    "
   ]
  },
  {
   "cell_type": "code",
   "execution_count": 59,
   "id": "0369d881",
   "metadata": {},
   "outputs": [
    {
     "name": "stdout",
     "output_type": "stream",
     "text": [
      "1\n"
     ]
    }
   ],
   "source": [
    "A= [\"hi\",\"hi\",\"hi\",\"bi\"]\n",
    "print(A.count(\"bi\"))"
   ]
  },
  {
   "cell_type": "code",
   "execution_count": 18,
   "id": "7d005e2f",
   "metadata": {},
   "outputs": [
    {
     "name": "stdout",
     "output_type": "stream",
     "text": [
      "a\n",
      "u\n",
      "a\n"
     ]
    }
   ],
   "source": [
    "A=\"Nagulan\"\n",
    "a=0\n",
    "for i in A:\n",
    "    if i  in \"aeiouAEIOU\":\n",
    "        print(i)\n",
    "        a=a+1\n",
    "if a==0:\n",
    "    print(-1)\n",
    "    "
   ]
  },
  {
   "cell_type": "code",
   "execution_count": 61,
   "id": "3f9136c4",
   "metadata": {},
   "outputs": [
    {
     "name": "stdout",
     "output_type": "stream",
     "text": [
      "aeiou\n",
      "-1\n",
      "\n"
     ]
    }
   ],
   "source": [
    "A=input()\n",
    "a=0\n",
    "B=[]\n",
    "N=0\n",
    "for i in A:\n",
    "    if i not in \"aeiouAEIOU\":\n",
    "        B.append(i)\n",
    "        a=a+1\n",
    "        if a==0:\n",
    "            print(A[::-1])\n",
    "        \n",
    "if len(B)==0: \n",
    "    print(-1)       \n",
    "        \n",
    "\n",
    " \n",
    "              \n",
    "                         \n",
    "\n",
    "    \n",
    "print(\"\".join(B[::-1]))\n",
    "        "
   ]
  },
  {
   "cell_type": "code",
   "execution_count": 67,
   "id": "f068b02d",
   "metadata": {},
   "outputs": [
    {
     "name": "stdout",
     "output_type": "stream",
     "text": [
      "Virat Kholi\n",
      "Kholi Virat\n"
     ]
    }
   ],
   "source": [
    "A=input().split(\" \")\n",
    "A.sort()\n",
    "print(*A)"
   ]
  },
  {
   "cell_type": "code",
   "execution_count": 2,
   "id": "84a3cfae",
   "metadata": {},
   "outputs": [
    {
     "name": "stdout",
     "output_type": "stream",
     "text": [
      "10\n",
      "55\n"
     ]
    }
   ],
   "source": [
    "num = int(input())\n",
    "sum_num =0\n",
    "\n",
    "for i in range(1, num+1): \n",
    "  sum_num += i\n",
    "print(sum_num)"
   ]
  },
  {
   "cell_type": "code",
   "execution_count": 51,
   "id": "0a22fd19",
   "metadata": {},
   "outputs": [
    {
     "name": "stdout",
     "output_type": "stream",
     "text": [
      "Nagulan    barathan\n",
      "Nagulanbarathan\n"
     ]
    }
   ],
   "source": [
    "A=input()\n",
    "B=\"\".join(A.split())\n",
    "print(B)\n",
    " \n"
   ]
  },
  {
   "cell_type": "code",
   "execution_count": 31,
   "id": "7039c26e",
   "metadata": {},
   "outputs": [
    {
     "name": "stdout",
     "output_type": "stream",
     "text": [
      "code codekata\n",
      "yes\n"
     ]
    }
   ],
   "source": [
    "A,B=list(map(str,input().split()))\n",
    "if A in B:\n",
    "    print(\"yes\")\n",
    "else:\n",
    "    print(\"no\")\n",
    "        "
   ]
  },
  {
   "cell_type": "code",
   "execution_count": 35,
   "id": "46596c8f",
   "metadata": {},
   "outputs": [
    {
     "name": "stdout",
     "output_type": "stream",
     "text": [
      "Nagulan\n"
     ]
    },
    {
     "ename": "TypeError",
     "evalue": "not all arguments converted during string formatting",
     "output_type": "error",
     "traceback": [
      "\u001b[1;31m---------------------------------------------------------------------------\u001b[0m",
      "\u001b[1;31mTypeError\u001b[0m                                 Traceback (most recent call last)",
      "\u001b[1;32m<ipython-input-35-310f48c411b4>\u001b[0m in \u001b[0;36m<module>\u001b[1;34m\u001b[0m\n\u001b[0;32m      3\u001b[0m \u001b[0meven\u001b[0m\u001b[1;33m=\u001b[0m\u001b[1;33m[\u001b[0m\u001b[1;33m]\u001b[0m\u001b[1;33m\u001b[0m\u001b[1;33m\u001b[0m\u001b[0m\n\u001b[0;32m      4\u001b[0m \u001b[1;32mfor\u001b[0m \u001b[0mi\u001b[0m \u001b[1;32min\u001b[0m \u001b[0mA\u001b[0m\u001b[1;33m:\u001b[0m\u001b[1;33m\u001b[0m\u001b[1;33m\u001b[0m\u001b[0m\n\u001b[1;32m----> 5\u001b[1;33m     \u001b[1;32mif\u001b[0m \u001b[0mi\u001b[0m\u001b[1;33m%\u001b[0m\u001b[1;36m2\u001b[0m\u001b[1;33m==\u001b[0m\u001b[1;36m0\u001b[0m\u001b[1;33m:\u001b[0m\u001b[1;33m\u001b[0m\u001b[1;33m\u001b[0m\u001b[0m\n\u001b[0m\u001b[0;32m      6\u001b[0m         \u001b[0meven\u001b[0m\u001b[1;33m.\u001b[0m\u001b[0mappend\u001b[0m\u001b[1;33m(\u001b[0m\u001b[0mi\u001b[0m\u001b[1;33m)\u001b[0m\u001b[1;33m\u001b[0m\u001b[1;33m\u001b[0m\u001b[0m\n\u001b[0;32m      7\u001b[0m     \u001b[1;32melse\u001b[0m\u001b[1;33m:\u001b[0m\u001b[1;33m\u001b[0m\u001b[1;33m\u001b[0m\u001b[0m\n",
      "\u001b[1;31mTypeError\u001b[0m: not all arguments converted during string formatting"
     ]
    }
   ],
   "source": [
    "A=input()\n",
    "odd=[]\n",
    "even=[]\n",
    "for i in A:\n",
    "    "
   ]
  },
  {
   "cell_type": "code",
   "execution_count": 47,
   "id": "ee3ba34b",
   "metadata": {},
   "outputs": [
    {
     "name": "stdout",
     "output_type": "stream",
     "text": [
      "233456\n",
      "235 346\n"
     ]
    }
   ],
   "source": [
    "A=input()\n",
    "odd=[]\n",
    "even=[]\n",
    "for i in range(0,len(A)):\n",
    "    if i%2==0:\n",
    "        even.append(A[i])\n",
    "    else:\n",
    "        odd.append(A[i])\n",
    "\n",
    "print(\"\".join(even),\"\".join(odd))"
   ]
  },
  {
   "cell_type": "code",
   "execution_count": 68,
   "id": "1853f35f",
   "metadata": {},
   "outputs": [
    {
     "name": "stdout",
     "output_type": "stream",
     "text": [
      "a b c d e f\n"
     ]
    }
   ],
   "source": [
    "A=\"abcdefabc\"\n",
    "B=[]\n",
    "for i in A:\n",
    "    if i not in B:\n",
    "        B.append(i)\n",
    "\n",
    "print(*B)\n",
    "        \n",
    "            \n"
   ]
  },
  {
   "cell_type": "code",
   "execution_count": 63,
   "id": "2a1412a8",
   "metadata": {},
   "outputs": [
    {
     "name": "stdout",
     "output_type": "stream",
     "text": [
      "nagulan\n",
      "g u l\n"
     ]
    }
   ],
   "source": [
    "# Removing dupicate strings\n",
    "\n",
    "A=input()\n",
    "B=[]\n",
    "for i in A:\n",
    "    count = 0\n",
    "    for j in A:\n",
    "        if i == j:\n",
    "            count+=1\n",
    "        if count > 1:\n",
    "            break\n",
    "    if count == 1:\n",
    "        B.append(i)\n",
    "print(*B)"
   ]
  },
  {
   "cell_type": "code",
   "execution_count": 66,
   "id": "86d82da7",
   "metadata": {},
   "outputs": [
    {
     "name": "stdout",
     "output_type": "stream",
     "text": [
      "123456\n",
      "yes\n"
     ]
    }
   ],
   "source": [
    "A=input()\n",
    "if A.isdigit()==True:\n",
    "    print(\"yes\")\n",
    "else:\n",
    "    print(\"no\")"
   ]
  },
  {
   "cell_type": "code",
   "execution_count": 71,
   "id": "6a743478",
   "metadata": {},
   "outputs": [
    {
     "name": "stdout",
     "output_type": "stream",
     "text": [
      "2\n"
     ]
    }
   ],
   "source": [
    "#To find binary representation\n",
    "\n",
    "import math\n",
    "def getFirstSetBitPos(n):\n",
    " \n",
    "    return math.log2(n & -n)+1\n",
    " \n",
    "# driver code\n",
    " \n",
    " \n",
    "n = 18\n",
    "print(int(getFirstSetBitPos(n)))"
   ]
  },
  {
   "cell_type": "code",
   "execution_count": 10,
   "id": "51c03e75",
   "metadata": {},
   "outputs": [
    {
     "name": "stdout",
     "output_type": "stream",
     "text": [
      "code code gate jeep cat\n",
      "yes\n"
     ]
    }
   ],
   "source": [
    "\n",
    "A=input().split()\n",
    "for i in A:\n",
    "    if A.count(i)==2:\n",
    "        print(\"yes\")\n",
    "        break\n",
    "    else:\n",
    "        print(\"no\")\n",
    "        break"
   ]
  },
  {
   "cell_type": "code",
   "execution_count": 20,
   "id": "20651fc2",
   "metadata": {},
   "outputs": [
    {
     "name": "stdout",
     "output_type": "stream",
     "text": [
      "hello world welcome\n",
      "hello world\n"
     ]
    }
   ],
   "source": [
    "A=input().split()\n",
    "del(A[-1])\n",
    "print(*A)"
   ]
  },
  {
   "cell_type": "code",
   "execution_count": 22,
   "id": "1f69063f",
   "metadata": {},
   "outputs": [
    {
     "name": "stdout",
     "output_type": "stream",
     "text": [
      "guvi nagu\n",
      "no\n"
     ]
    }
   ],
   "source": [
    "A,B=input().split()\n",
    "if A==B:\n",
    "    print(\"yes\")\n",
    "else:\n",
    "    print(\"no\")"
   ]
  },
  {
   "cell_type": "code",
   "execution_count": 5,
   "id": "c3b38f89",
   "metadata": {},
   "outputs": [
    {
     "name": "stdout",
     "output_type": "stream",
     "text": [
      "123452689\n",
      "2 2 4 6 8\n",
      "1 3 5 9\n"
     ]
    }
   ],
   "source": [
    "A=input()\n",
    "lis=[]\n",
    "odd=[]\n",
    "even=[]\n",
    "for i in str(A):\n",
    "    lis.append(int(i))\n",
    "for i in lis:\n",
    "    if i%2==0:\n",
    "        even.append(i)\n",
    "    else:\n",
    "        odd.append(i)\n",
    "        \n",
    "even.sort()\n",
    "odd.sort()\n",
    "print(*even)\n",
    "print(*odd)\n",
    "    "
   ]
  },
  {
   "cell_type": "code",
   "execution_count": 31,
   "id": "666d6751",
   "metadata": {},
   "outputs": [
    {
     "name": "stdout",
     "output_type": "stream",
     "text": [
      "string 2\n",
      "s r n\n"
     ]
    }
   ],
   "source": [
    "A,B=input().split()\n",
    "print(\" \".join(A[1::int(B)]))\n"
   ]
  },
  {
   "cell_type": "code",
   "execution_count": 50,
   "id": "e62abd9b",
   "metadata": {},
   "outputs": [
    {
     "name": "stdout",
     "output_type": "stream",
     "text": [
      "guvi geek\n",
      "guvi\n"
     ]
    }
   ],
   "source": [
    "A,B=input().split()\n",
    "for i in A:\n",
    "    for j in B:\n",
    "        if i==j:\n",
    "            C=A.replace(i,\"\")\n",
    "            print(A)\n",
    "            \n"
   ]
  },
  {
   "cell_type": "code",
   "execution_count": 53,
   "id": "3f052da3",
   "metadata": {},
   "outputs": [
    {
     "name": "stdout",
     "output_type": "stream",
     "text": [
      "a-k-a-c-e-d-o-c\n"
     ]
    }
   ],
   "source": [
    "A=input()\n",
    "print(\"-\".join(A[::-1]))"
   ]
  },
  {
   "cell_type": "code",
   "execution_count": 75,
   "id": "f5b8b26a",
   "metadata": {},
   "outputs": [
    {
     "name": "stdout",
     "output_type": "stream",
     "text": [
      "5 6\n",
      "1 2 3 8 6\n",
      "yes\n"
     ]
    }
   ],
   "source": [
    "A,B=map(int,input().split())\n",
    "C=map(int,input().split())\n",
    "if B in C:\n",
    "    print(\"yes\")\n",
    "else:\n",
    "    print(\"no\")"
   ]
  },
  {
   "cell_type": "code",
   "execution_count": 90,
   "id": "e64006a2",
   "metadata": {},
   "outputs": [
    {
     "name": "stdout",
     "output_type": "stream",
     "text": [
      "HEllo WORLD\n"
     ]
    },
    {
     "ename": "IndexError",
     "evalue": "list index out of range",
     "output_type": "error",
     "traceback": [
      "\u001b[1;31m---------------------------------------------------------------------------\u001b[0m",
      "\u001b[1;31mIndexError\u001b[0m                                Traceback (most recent call last)",
      "\u001b[1;32m<ipython-input-90-8501c1173899>\u001b[0m in \u001b[0;36m<module>\u001b[1;34m\u001b[0m\n\u001b[0;32m      1\u001b[0m \u001b[0mA\u001b[0m\u001b[1;33m=\u001b[0m\u001b[0minput\u001b[0m\u001b[1;33m(\u001b[0m\u001b[1;33m)\u001b[0m\u001b[1;33m.\u001b[0m\u001b[0msplit\u001b[0m\u001b[1;33m(\u001b[0m\u001b[1;33m)\u001b[0m\u001b[1;33m\u001b[0m\u001b[1;33m\u001b[0m\u001b[0m\n\u001b[0;32m      2\u001b[0m \u001b[0mB\u001b[0m\u001b[1;33m=\u001b[0m\u001b[1;33m[\u001b[0m\u001b[1;33m]\u001b[0m\u001b[1;33m\u001b[0m\u001b[1;33m\u001b[0m\u001b[0m\n\u001b[1;32m----> 3\u001b[1;33m \u001b[1;32mfor\u001b[0m \u001b[0mi\u001b[0m \u001b[1;32min\u001b[0m \u001b[0mA\u001b[0m\u001b[1;33m[\u001b[0m\u001b[0mlen\u001b[0m\u001b[1;33m(\u001b[0m\u001b[0mA\u001b[0m\u001b[1;33m)\u001b[0m\u001b[1;33m+\u001b[0m\u001b[1;36m1\u001b[0m\u001b[1;33m]\u001b[0m\u001b[1;33m:\u001b[0m\u001b[1;33m\u001b[0m\u001b[1;33m\u001b[0m\u001b[0m\n\u001b[0m\u001b[0;32m      4\u001b[0m     \u001b[1;32mif\u001b[0m \u001b[0mi\u001b[0m\u001b[1;33m.\u001b[0m\u001b[0misupper\u001b[0m\u001b[1;33m(\u001b[0m\u001b[1;33m)\u001b[0m\u001b[1;33m:\u001b[0m\u001b[1;33m\u001b[0m\u001b[1;33m\u001b[0m\u001b[0m\n\u001b[0;32m      5\u001b[0m         \u001b[0mB\u001b[0m\u001b[1;33m.\u001b[0m\u001b[0mappend\u001b[0m\u001b[1;33m(\u001b[0m\u001b[0mi\u001b[0m\u001b[1;33m.\u001b[0m\u001b[0mlower\u001b[0m\u001b[1;33m(\u001b[0m\u001b[1;33m)\u001b[0m\u001b[1;33m)\u001b[0m\u001b[1;33m\u001b[0m\u001b[1;33m\u001b[0m\u001b[0m\n",
      "\u001b[1;31mIndexError\u001b[0m: list index out of range"
     ]
    }
   ],
   "source": [
    "A=input().split()\n",
    "B=[]\n",
    "for i in A:\n",
    "    if i.isupper():\n",
    "        B.append(i.lower())\n",
    "    if i.islower():\n",
    "        B.append(i.upper())\n",
    "print(\" \".join(B))"
   ]
  },
  {
   "cell_type": "code",
   "execution_count": 95,
   "id": "52bd0b49",
   "metadata": {},
   "outputs": [
    {
     "name": "stdout",
     "output_type": "stream",
     "text": [
      "HEllo WORld\n",
      "h e L L O w o r L D\n"
     ]
    }
   ],
   "source": [
    "A=input().split()\n",
    "B=[]\n",
    "for i in A:\n",
    "    for j in i:\n",
    "        if j.isupper():\n",
    "            B.append(j.lower())\n",
    "        if j.islower():\n",
    "            B.append(j.upper())\n",
    "print(\" \".join(B))\n",
    "\n",
    "        "
   ]
  },
  {
   "cell_type": "code",
   "execution_count": 99,
   "id": "1a2a16cd",
   "metadata": {},
   "outputs": [
    {
     "name": "stdout",
     "output_type": "stream",
     "text": [
      "I am Nagulan\n",
      "I ma nalugaN\n"
     ]
    }
   ],
   "source": [
    "A=input().split()\n",
    "B=[]\n",
    "for i in A:\n",
    "    B.append(i[::-1])\n",
    "    \n",
    "    \n",
    "print(*B)"
   ]
  },
  {
   "cell_type": "code",
   "execution_count": 106,
   "id": "79d4dc88",
   "metadata": {},
   "outputs": [
    {
     "name": "stdout",
     "output_type": "stream",
     "text": [
      "aaabbbaabc\n",
      "a b c\n"
     ]
    }
   ],
   "source": [
    "A=input()\n",
    "B=set(A)\n",
    "C=sorted(B)\n",
    "print(*C)"
   ]
  },
  {
   "cell_type": "code",
   "execution_count": 113,
   "id": "d7188293",
   "metadata": {},
   "outputs": [
    {
     "name": "stdout",
     "output_type": "stream",
     "text": [
      "nagulan a\n",
      "2\n"
     ]
    }
   ],
   "source": [
    "A,B=input().split()\n",
    "if B not in A:\n",
    "    print(-1)\n",
    "else:\n",
    "    print(A.count(B))\n",
    "\n"
   ]
  },
  {
   "cell_type": "code",
   "execution_count": 124,
   "id": "a03b3934",
   "metadata": {},
   "outputs": [
    {
     "name": "stdout",
     "output_type": "stream",
     "text": [
      "2\n"
     ]
    }
   ],
   "source": [
    "A=input()\n",
    "B=[]\n",
    "for i in A:\n",
    "    B.append(A.count(i))\n",
    "    \n",
    "print(max(B))"
   ]
  },
  {
   "cell_type": "code",
   "execution_count": 128,
   "id": "df74c3e0",
   "metadata": {},
   "outputs": [
    {
     "name": "stdout",
     "output_type": "stream",
     "text": [
      "yes\n"
     ]
    }
   ],
   "source": [
    "A=\"(((\"\n",
    "B=\"(()\"\n",
    "if len(A)==len(B):\n",
    "    print(\"yes\")\n",
    "else:\n",
    "    print(\"no\")"
   ]
  },
  {
   "cell_type": "code",
   "execution_count": 141,
   "id": "a0c655f2",
   "metadata": {},
   "outputs": [
    {
     "name": "stdout",
     "output_type": "stream",
     "text": [
      "nAgULaN\n"
     ]
    }
   ],
   "source": [
    "A=input()\n",
    "B=[]\n",
    "for i in A:\n",
    "    if i.isupper():\n",
    "        B.append(i.lower())\n",
    "    elif i.islower():\n",
    "        B.append(i.upper())\n",
    "print(\"\".join(B))"
   ]
  },
  {
   "cell_type": "code",
   "execution_count": 148,
   "id": "6f6e0036",
   "metadata": {},
   "outputs": [
    {
     "name": "stdout",
     "output_type": "stream",
     "text": [
      "nagul barth vimal\n",
      "NagulBarthVimal\n"
     ]
    }
   ],
   "source": [
    "A=input().split()\n",
    "B=[]\n",
    "for i in A:\n",
    "    B.append(i.capitalize())\n",
    "    \n",
    "print(\"\".join(B))\n",
    "    "
   ]
  },
  {
   "cell_type": "code",
   "execution_count": 149,
   "id": "7a24ce3b",
   "metadata": {},
   "outputs": [
    {
     "name": "stdout",
     "output_type": "stream",
     "text": [
      "19\n"
     ]
    },
    {
     "ename": "TypeError",
     "evalue": "'int' object is not iterable",
     "output_type": "error",
     "traceback": [
      "\u001b[1;31m---------------------------------------------------------------------------\u001b[0m",
      "\u001b[1;31mTypeError\u001b[0m                                 Traceback (most recent call last)",
      "\u001b[1;32m<ipython-input-149-1c8301e96b8f>\u001b[0m in \u001b[0;36m<module>\u001b[1;34m\u001b[0m\n\u001b[0;32m      1\u001b[0m \u001b[0mA\u001b[0m\u001b[1;33m=\u001b[0m\u001b[0mint\u001b[0m\u001b[1;33m(\u001b[0m\u001b[0minput\u001b[0m\u001b[1;33m(\u001b[0m\u001b[1;33m)\u001b[0m\u001b[1;33m)\u001b[0m\u001b[1;33m\u001b[0m\u001b[1;33m\u001b[0m\u001b[0m\n\u001b[0;32m      2\u001b[0m \u001b[0mB\u001b[0m\u001b[1;33m=\u001b[0m\u001b[1;33m[\u001b[0m\u001b[1;33m]\u001b[0m\u001b[1;33m\u001b[0m\u001b[1;33m\u001b[0m\u001b[0m\n\u001b[1;32m----> 3\u001b[1;33m \u001b[1;32mfor\u001b[0m \u001b[0mi\u001b[0m \u001b[1;32min\u001b[0m \u001b[0mA\u001b[0m\u001b[1;33m:\u001b[0m\u001b[1;33m\u001b[0m\u001b[1;33m\u001b[0m\u001b[0m\n\u001b[0m\u001b[0;32m      4\u001b[0m     \u001b[0mB\u001b[0m\u001b[1;33m.\u001b[0m\u001b[0mappend\u001b[0m\u001b[1;33m(\u001b[0m\u001b[0mi\u001b[0m\u001b[1;33m**\u001b[0m\u001b[0mi\u001b[0m\u001b[1;33m)\u001b[0m\u001b[1;33m\u001b[0m\u001b[1;33m\u001b[0m\u001b[0m\n\u001b[0;32m      5\u001b[0m \u001b[1;33m\u001b[0m\u001b[0m\n",
      "\u001b[1;31mTypeError\u001b[0m: 'int' object is not iterable"
     ]
    }
   ],
   "source": [
    "A=int(input())\n",
    "B=[]\n",
    "for i in A:\n",
    "    B.append(i**i)\n",
    "    \n",
    "print(B)"
   ]
  },
  {
   "cell_type": "code",
   "execution_count": 164,
   "id": "125912d9",
   "metadata": {},
   "outputs": [
    {
     "name": "stdout",
     "output_type": "stream",
     "text": [
      "815\n",
      "90\n"
     ]
    }
   ],
   "source": [
    "A=input()\n",
    "B=[]\n",
    "C=[]\n",
    "for i in A:\n",
    "    B.append(int(i))\n",
    "for j in B:\n",
    "    C.append(j*j)\n",
    "    \n",
    "print(sum(C))\n",
    "\n",
    "        \n"
   ]
  },
  {
   "cell_type": "code",
   "execution_count": 175,
   "id": "9036c0e6",
   "metadata": {},
   "outputs": [
    {
     "name": "stdout",
     "output_type": "stream",
     "text": [
      "GUVI GEEk\n",
      "GUVI Sundar prepared geek question\n",
      "NO\n"
     ]
    }
   ],
   "source": [
    "A,B=input().split()\n",
    "C=input()\n",
    "\n",
    "if A and B in C:\n",
    "    print(\"yes\")\n",
    "else:\n",
    "    print(\"NO\")"
   ]
  },
  {
   "cell_type": "code",
   "execution_count": 180,
   "id": "de94f900",
   "metadata": {},
   "outputs": [
    {
     "name": "stdout",
     "output_type": "stream",
     "text": [
      "GUVI GEEK\n",
      "GUVIGEEK\n",
      "yes\n"
     ]
    }
   ],
   "source": [
    "A,B=input().split()\n",
    "C=input()\n",
    "if A and B in C:\n",
    "    print(\"yes\")\n",
    "else:\n",
    "    print(\"no\")"
   ]
  },
  {
   "cell_type": "code",
   "execution_count": 9,
   "id": "32bc6b37",
   "metadata": {},
   "outputs": [
    {
     "name": "stdout",
     "output_type": "stream",
     "text": [
      "6\n"
     ]
    }
   ],
   "source": [
    "A=\"12345\"\n",
    "B=[]\n",
    "for i in A:\n",
    "    B.append(int(i))\n",
    "    \n",
    "print(B[0]+B[-1])"
   ]
  },
  {
   "cell_type": "code",
   "execution_count": 16,
   "id": "7de42d38",
   "metadata": {},
   "outputs": [
    {
     "name": "stdout",
     "output_type": "stream",
     "text": [
      "codekata chellenge\n",
      "code\n",
      "0\n"
     ]
    }
   ],
   "source": [
    "A=input()\n",
    "B=input()\n",
    "print(A.index(B))"
   ]
  },
  {
   "cell_type": "code",
   "execution_count": 25,
   "id": "461bbced",
   "metadata": {},
   "outputs": [
    {
     "name": "stdout",
     "output_type": "stream",
     "text": [
      "4321\n"
     ]
    }
   ],
   "source": [
    "A=input()\n",
    "B=(\"\".join(sorted(A)))\n",
    "print(B[::-1])"
   ]
  },
  {
   "cell_type": "code",
   "execution_count": null,
   "id": "d0ead672",
   "metadata": {},
   "outputs": [],
   "source": [
    "A=[\"Nagulan\",\"Pradeep\",\"Vimal\",\"barath\"]\n",
    "#B=[]\n",
    "\n",
    "#for i in A:\n",
    "  #  B.append(len(i))\n",
    "    \n",
    "#print(max(B))\n",
    "    "
   ]
  },
  {
   "cell_type": "code",
   "execution_count": 50,
   "id": "d4e4e251",
   "metadata": {},
   "outputs": [
    {
     "name": "stdout",
     "output_type": "stream",
     "text": [
      "4\n"
     ]
    }
   ],
   "source": [
    "A=\"guvi\"\n",
    "B=[]\n",
    "for i in A:\n",
    "    if i in \"AEOaeo0123456789\":\n",
    "        pass\n",
    "    elif i==\"a\":\n",
    "        print(0)\n",
    "    \n",
    "    else:\n",
    "        B.append(i)\n",
    "print(len(B))"
   ]
  },
  {
   "cell_type": "code",
   "execution_count": 68,
   "id": "baba73d3",
   "metadata": {},
   "outputs": [
    {
     "name": "stdout",
     "output_type": "stream",
     "text": [
      "codekata s\n",
      "-1\n"
     ]
    }
   ],
   "source": [
    "A,B=input().split()\n",
    "\n",
    "if B not in A:\n",
    "    print(-1)\n",
    "else:\n",
    "    print(A.index(B)+1)\n",
    "    "
   ]
  },
  {
   "cell_type": "code",
   "execution_count": 80,
   "id": "ef99747d",
   "metadata": {},
   "outputs": [
    {
     "name": "stdout",
     "output_type": "stream",
     "text": [
      "[7, 'Nagulan', 5, 'vimal', 4, 'bara']\n"
     ]
    }
   ],
   "source": [
    "A=[\"Nagulan\",\"vimal\",\"bara\"]\n",
    "B=[]\n",
    "for i in A:\n",
    "    B.append(len(i))\n",
    "    B.append(i)\n",
    "print(B)"
   ]
  },
  {
   "cell_type": "code",
   "execution_count": 120,
   "id": "0516ba21",
   "metadata": {},
   "outputs": [
    {
     "name": "stdout",
     "output_type": "stream",
     "text": [
      "aaabb\n",
      "['a', 3, 'a', 3, 'a', 3, 'b', 2, 'b', 2]\n"
     ]
    }
   ],
   "source": [
    "A=input()\n",
    "B=[]\n",
    "C=[]\n",
    "for i in A:\n",
    "    if i not in B:\n",
    "        B.append(i)\n",
    "        B.append(A.count(i))\n",
    "\n",
    "\n",
    "for i in B:\n",
    "    C.append(str(i))\n",
    "print(\"\".join(C))"
   ]
  },
  {
   "cell_type": "code",
   "execution_count": 99,
   "id": "2a29291f",
   "metadata": {},
   "outputs": [
    {
     "name": "stdout",
     "output_type": "stream",
     "text": [
      "True\n"
     ]
    }
   ],
   "source": [
    "A=\"1\"\n",
    "print(A.isdigit())"
   ]
  },
  {
   "cell_type": "code",
   "execution_count": 2,
   "id": "9f080cae",
   "metadata": {},
   "outputs": [
    {
     "name": "stdout",
     "output_type": "stream",
     "text": [
      "nagulan nag\n",
      "yes\n"
     ]
    }
   ],
   "source": [
    "A,B=input().split()\n",
    "if B in A:\n",
    "    print(\"yes\")\n",
    "else:\n",
    "    print(\"no\")"
   ]
  },
  {
   "cell_type": "code",
   "execution_count": 15,
   "id": "cddcb134",
   "metadata": {},
   "outputs": [
    {
     "name": "stdout",
     "output_type": "stream",
     "text": [
      "Geeksforgeek\n",
      "Geksforg\n"
     ]
    }
   ],
   "source": [
    "A=input()\n",
    "B=[]\n",
    "for i in A:\n",
    "    if i not in B:\n",
    "        B.append(i)\n",
    "print(\"\".join(B))\n"
   ]
  },
  {
   "cell_type": "code",
   "execution_count": 26,
   "id": "44bd7f63",
   "metadata": {},
   "outputs": [
    {
     "name": "stdout",
     "output_type": "stream",
     "text": [
      "P\n",
      "R\n",
      "P\n"
     ]
    }
   ],
   "source": [
    "A,B=input().split()\n",
    "if A ==\"R\" and B==\"P\":\n",
    "    print(\"P\")\n",
    "elif A==\"P\" and B==\"R\":\n",
    "    print(\"P\")\n",
    "elif A ==\"S\" and B==\"R\":\n",
    "    print(\"R\")\n",
    "elif A==\"R\" and B==\"S\":\n",
    "    print(\"R\")\n",
    "elif A==\"P\" and B==\"S\":\n",
    "    print(\"S\")\n",
    "elif A==\"S\" and B==\"P\":\n",
    "    print(\"S\")\n",
    "elif A==B:\n",
    "    print(\"D\")\n",
    "        \n",
    "    "
   ]
  },
  {
   "cell_type": "code",
   "execution_count": 75,
   "id": "c90c8ab3",
   "metadata": {},
   "outputs": [
    {
     "name": "stdout",
     "output_type": "stream",
     "text": [
      "test123string\n",
      "123\n",
      "4\n"
     ]
    }
   ],
   "source": [
    "A=input()\n",
    "B=input()\n",
    "\n",
    "if B in A:\n",
    "    print(A.index(B))\n",
    "else:\n",
    "    print(\"no\")"
   ]
  },
  {
   "cell_type": "code",
   "execution_count": 42,
   "id": "ab7e553d",
   "metadata": {},
   "outputs": [
    {
     "name": "stdout",
     "output_type": "stream",
     "text": [
      "codechallng\n"
     ]
    }
   ],
   "source": [
    "A=\"code\"\n",
    "B=\"challenge\"\n",
    "re=[]\n",
    "\n",
    "if len(A)>len(B):\n",
    "    C=len(A)-1\n",
    "    D=A[C]\n",
    "    E=A.replace(D,\"\")\n",
    "    re.append(E)\n",
    "    re.append(B)\n",
    "elif len(B)>len(A):\n",
    "    F=len(B)-1\n",
    "    G=B[F]\n",
    "    H=B.replace(G,\"\")\n",
    "    re.append(A)\n",
    "    re.append(H)\n",
    "    \n",
    "print(\"\".join(re))\n",
    "    \n",
    "    \n",
    "    \n",
    "    \n",
    "    \n",
    "    \n",
    "    \n",
    "        \n",
    "    "
   ]
  },
  {
   "cell_type": "code",
   "execution_count": 48,
   "id": "38b4d67f",
   "metadata": {
    "scrolled": false
   },
   "outputs": [
    {
     "name": "stdout",
     "output_type": "stream",
     "text": [
      "abdhkmopuw\n"
     ]
    }
   ],
   "source": [
    "A=input()\n",
    "B=sorted(A)\n",
    "print(\"\".join(B))"
   ]
  },
  {
   "cell_type": "code",
   "execution_count": 49,
   "id": "c053df0e",
   "metadata": {},
   "outputs": [],
   "source": [
    "import random"
   ]
  },
  {
   "cell_type": "code",
   "execution_count": 58,
   "id": "63f8ced4",
   "metadata": {},
   "outputs": [
    {
     "name": "stdout",
     "output_type": "stream",
     "text": [
      "123789456\n"
     ]
    }
   ],
   "source": [
    "import random\n",
    "s=[\"123\",\"456\",\"789\"]\n",
    "l = list(s)\n",
    "random.shuffle(l)\n",
    "result = ''.join(l)\n",
    "print(result)"
   ]
  },
  {
   "cell_type": "code",
   "execution_count": 54,
   "id": "652308d7",
   "metadata": {},
   "outputs": [
    {
     "name": "stdout",
     "output_type": "stream",
     "text": [
      "['2', '1', '3']\n",
      "['1', '2', '3']\n",
      "['2', '3', '1']\n"
     ]
    }
   ],
   "source": [
    "import random\n",
    "A = [\"1\",\"2\",\"3\"]\n",
    "B=[]\n",
    "for i in range(len(A)):\n",
    "    random.shuffle(A)\n",
    "    print(A)\n",
    "    \n"
   ]
  },
  {
   "cell_type": "code",
   "execution_count": null,
   "id": "f1034c96",
   "metadata": {},
   "outputs": [],
   "source": [
    "random.shuffle(A)\n",
    "print(len(A))"
   ]
  },
  {
   "cell_type": "code",
   "execution_count": 72,
   "id": "65afc1a5",
   "metadata": {},
   "outputs": [
    {
     "name": "stdout",
     "output_type": "stream",
     "text": [
      "10 2\n",
      "20\n"
     ]
    }
   ],
   "source": [
    "A,B=map(int,input().split())\n",
    "print(A*B)"
   ]
  },
  {
   "cell_type": "code",
   "execution_count": 85,
   "id": "4532a016",
   "metadata": {},
   "outputs": [
    {
     "name": "stdout",
     "output_type": "stream",
     "text": [
      " Nagulan    barathan\n"
     ]
    }
   ],
   "source": [
    "A=\" Nagulan       barathan\"\n",
    "b=A.replace(\"  \",\" \")\n",
    "C=\"\".join(b)\n",
    "C.strip(\"\\n\")\n",
    "print(C)"
   ]
  },
  {
   "cell_type": "code",
   "execution_count": 9,
   "id": "aa1da481",
   "metadata": {},
   "outputs": [
    {
     "name": "stdout",
     "output_type": "stream",
     "text": [
      "Hello world\n",
      "olleH dlrow\n"
     ]
    }
   ],
   "source": [
    "A= input().split()\n",
    "B=[]\n",
    "for i in range(len(A)):\n",
    "    B.append(A[i][::-1])\n",
    "    \n",
    "print(*B)"
   ]
  },
  {
   "cell_type": "code",
   "execution_count": 29,
   "id": "b7adfe93",
   "metadata": {},
   "outputs": [
    {
     "name": "stdout",
     "output_type": "stream",
     "text": [
      "4 6 7 9 1\n",
      "97641\n"
     ]
    }
   ],
   "source": [
    "N=int(input())\n",
    "A=input().split()\n",
    "B=[]\n",
    "D=[]\n",
    "for i in A:\n",
    "    B.append(int(i))\n",
    "C=sorted(B)[::-1]\n",
    "for j in C:\n",
    "    D.append(str(j))\n",
    "print(\"\".join(D))\n"
   ]
  },
  {
   "cell_type": "code",
   "execution_count": 40,
   "id": "51885e40",
   "metadata": {
    "collapsed": true
   },
   "outputs": [
    {
     "ename": "TypeError",
     "evalue": "'<' not supported between instances of 'str' and 'list'",
     "output_type": "error",
     "traceback": [
      "\u001b[1;31m---------------------------------------------------------------------------\u001b[0m",
      "\u001b[1;31mTypeError\u001b[0m                                 Traceback (most recent call last)",
      "\u001b[1;32m<ipython-input-40-a955737c771f>\u001b[0m in \u001b[0;36m<module>\u001b[1;34m\u001b[0m\n\u001b[0;32m      8\u001b[0m \u001b[1;33m\u001b[0m\u001b[0m\n\u001b[0;32m      9\u001b[0m \u001b[1;33m\u001b[0m\u001b[0m\n\u001b[1;32m---> 10\u001b[1;33m \u001b[0mprint\u001b[0m\u001b[1;33m(\u001b[0m\u001b[0msorted\u001b[0m\u001b[1;33m(\u001b[0m\u001b[0mB\u001b[0m\u001b[1;33m)\u001b[0m\u001b[1;33m)\u001b[0m\u001b[1;33m\u001b[0m\u001b[1;33m\u001b[0m\u001b[0m\n\u001b[0m\u001b[0;32m     11\u001b[0m \u001b[1;33m\u001b[0m\u001b[0m\n\u001b[0;32m     12\u001b[0m \u001b[1;33m\u001b[0m\u001b[0m\n",
      "\u001b[1;31mTypeError\u001b[0m: '<' not supported between instances of 'str' and 'list'"
     ]
    }
   ],
   "source": [
    "A=\"ebcda\"\n",
    "B=[]\n",
    "for i in A:\n",
    "    if i in \"AEIOUaeiou\":\n",
    "        B.append(sorted(i))\n",
    "    else:\n",
    "        B.append(i)\n",
    "    \n",
    "    \n",
    "print(sorted(B))\n",
    "\n",
    "    "
   ]
  },
  {
   "cell_type": "code",
   "execution_count": 42,
   "id": "4b5264ce",
   "metadata": {},
   "outputs": [
    {
     "data": {
      "text/plain": [
       "443"
      ]
     },
     "execution_count": 42,
     "metadata": {},
     "output_type": "execute_result"
    }
   ],
   "source": [
    "A=\"guvi\"\n",
    "B=0\n",
    "for i in A:\n",
    "    B=B+ord(i)\n",
    "\n",
    "print(B)\n",
    "    "
   ]
  },
  {
   "cell_type": "code",
   "execution_count": 44,
   "id": "32323408",
   "metadata": {},
   "outputs": [
    {
     "name": "stdout",
     "output_type": "stream",
     "text": [
      "guvigeeks guvi\n",
      "guvi\n"
     ]
    }
   ],
   "source": [
    "A,B=input().split()\n",
    "if B in A:\n",
    "    print(B)\n",
    "else:\n",
    "    print(-1)"
   ]
  },
  {
   "cell_type": "code",
   "execution_count": 47,
   "id": "5d70cf04",
   "metadata": {},
   "outputs": [
    {
     "name": "stdout",
     "output_type": "stream",
     "text": [
      "world hello\n"
     ]
    }
   ],
   "source": [
    "A=input().split()\n",
    "B=(A[::-1])\n",
    "print(*B)"
   ]
  },
  {
   "cell_type": "code",
   "execution_count": 49,
   "id": "a9c392e9",
   "metadata": {},
   "outputs": [
    {
     "name": "stdout",
     "output_type": "stream",
     "text": [
      "Engier\n"
     ]
    }
   ],
   "source": [
    "\n",
    "string=\"Engineering\"\n",
    "p=\"\"\n",
    "for char in string:\n",
    "    if char not in p:\n",
    "        p=p+char\n",
    "print(p)"
   ]
  },
  {
   "cell_type": "code",
   "execution_count": 50,
   "id": "2d4d4104",
   "metadata": {},
   "outputs": [
    {
     "name": "stdout",
     "output_type": "stream",
     "text": [
      "test@gmail.com\n",
      "no\n"
     ]
    }
   ],
   "source": [
    "import re\n",
    "\n",
    "\n",
    "pattern=\"^[a-z]+[\\._]?[a-z 0-9]+[@]gmail$[.]com$\"\n",
    "email=input()\n",
    "if re.search(pattern, email):\n",
    "   print( \"yes\")\n",
    "else:\n",
    "   print(\"no\")"
   ]
  },
  {
   "cell_type": "code",
   "execution_count": 52,
   "id": "f9f2ec61",
   "metadata": {},
   "outputs": [
    {
     "name": "stdout",
     "output_type": "stream",
     "text": [
      "nitin\n",
      "yes\n"
     ]
    }
   ],
   "source": [
    "A=input()\n",
    "B=A[::-1]\n",
    "if A==B:\n",
    "    print(\"yes\")\n",
    "else:\n",
    "    print(\"no\")"
   ]
  },
  {
   "cell_type": "code",
   "execution_count": 84,
   "id": "0cb80fa4",
   "metadata": {},
   "outputs": [
    {
     "name": "stdout",
     "output_type": "stream",
     "text": [
      "123\n",
      "123\n",
      "132\n",
      "213\n",
      "231\n",
      "312\n",
      "321\n"
     ]
    }
   ],
   "source": [
    "from itertools import permutations\n",
    "A=input()\n",
    "B=[]\n",
    "\n",
    "for i in permutations(A):\n",
    "    B.append(list(i))\n",
    "    \n",
    "for i in B:\n",
    "    print(\"\".join(i))\n",
    "    "
   ]
  },
  {
   "cell_type": "code",
   "execution_count": 96,
   "id": "5e5a1ac9",
   "metadata": {},
   "outputs": [
    {
     "name": "stdout",
     "output_type": "stream",
     "text": [
      "1\n"
     ]
    }
   ],
   "source": [
    "from itertools import permutations\n",
    "A=\"123\"\n",
    "B=[]\n",
    "C=[]\n",
    "\n",
    "for i in permutations(A):\n",
    "    B.append(list(i))\n",
    "    \n",
    "for i in range(len(B)):"
   ]
  },
  {
   "cell_type": "code",
   "execution_count": 3,
   "id": "f540e06f",
   "metadata": {},
   "outputs": [
    {
     "name": "stdout",
     "output_type": "stream",
     "text": [
      "156\n",
      "[156, 165, 516, 561, 615, 651]\n"
     ]
    }
   ],
   "source": [
    "from itertools import permutations\n",
    "A=input()\n",
    "B=[]\n",
    "C=[]\n",
    "D=[]\n",
    "\n",
    "for i in permutations(A):\n",
    "    B.append(list(i))\n",
    "    \n",
    "for i in B:\n",
    "    C.append(\"\".join(i))\n",
    "\n",
    "for i in C:\n",
    "    D.append(int(i))\n",
    "\n",
    "print(D)\n",
    "    "
   ]
  },
  {
   "cell_type": "code",
   "execution_count": 5,
   "id": "883fe675",
   "metadata": {},
   "outputs": [
    {
     "name": "stdout",
     "output_type": "stream",
     "text": [
      "dcba ea x\n"
     ]
    }
   ],
   "source": [
    "A=input().split()\n",
    "B=[]\n",
    "for i in A:\n",
    "    B.append(i[::-1])\n",
    "print(*B)"
   ]
  },
  {
   "cell_type": "code",
   "execution_count": null,
   "id": "1b065dc8",
   "metadata": {},
   "outputs": [],
   "source": [
    "A,B=input().split()\n",
    "\n",
    "if A in B:\n",
    "    print(\"yes\")\n",
    "else:\n",
    "    print(\"no\")"
   ]
  },
  {
   "cell_type": "code",
   "execution_count": 13,
   "id": "6db7356e",
   "metadata": {},
   "outputs": [
    {
     "data": {
      "text/plain": [
       "8"
      ]
     },
     "execution_count": 13,
     "metadata": {},
     "output_type": "execute_result"
    }
   ],
   "source": [
    "A=input()\n",
    "print(len(A))"
   ]
  },
  {
   "cell_type": "code",
   "execution_count": 16,
   "id": "c43ee1e5",
   "metadata": {},
   "outputs": [
    {
     "name": "stdout",
     "output_type": "stream",
     "text": [
      "yes\n",
      "['d', 'h', 'i', 'n', 'o']\n",
      "['d', 'h', 'i', 'n', 'o']\n"
     ]
    }
   ],
   "source": [
    "A=\"dhoni\"\n",
    "B=\"inodh\"\n",
    "C=sorted(A)\n",
    "D=sorted(B)\n",
    "if C==D:\n",
    "    print(\"yes\")\n",
    "else:\n",
    "    print(\"no\")\n",
    "print(C)\n",
    "print(D)"
   ]
  },
  {
   "cell_type": "code",
   "execution_count": 19,
   "id": "bada8465",
   "metadata": {},
   "outputs": [
    {
     "name": "stdout",
     "output_type": "stream",
     "text": [
      "5\n",
      "bsdhba\n",
      "abbdhs\n"
     ]
    }
   ],
   "source": [
    "A=int(input())\n",
    "B=input()\n",
    "C=sorted(B)\n",
    "print(\"\".join(C))"
   ]
  },
  {
   "cell_type": "code",
   "execution_count": 32,
   "id": "f19524d5",
   "metadata": {},
   "outputs": [
    {
     "name": "stdout",
     "output_type": "stream",
     "text": [
      "aabbcdd\n",
      "-1\n"
     ]
    }
   ],
   "source": [
    "#aabbcc\n",
    "A=input()\n",
    "B=0\n",
    "C=1\n",
    "D=A[B]\n",
    "for i in A:\n",
    "    if i==D:\n",
    "        continue\n",
    "    else:\n",
    "        C=C+1\n",
    "        D=i\n",
    "if C==3:\n",
    "    print(\"Wonder\")\n",
    "else:\n",
    "    print(-1)"
   ]
  },
  {
   "cell_type": "code",
   "execution_count": 53,
   "id": "a438f4ee",
   "metadata": {},
   "outputs": [
    {
     "name": "stdout",
     "output_type": "stream",
     "text": [
      "We love we love\n",
      "We we\n"
     ]
    }
   ],
   "source": [
    "# to find duplicates in a list\n",
    "A =input().split()\n",
    "B = []\n",
    "C=0\n",
    "for i in A:\n",
    "    if A.count(i)>1  :\n",
    "        continue\n",
    "    elif A.count(i)==1:\n",
    "        B.append(i)\n",
    "        C=C+1\n",
    "                   \n",
    "if C==0:\n",
    "    print(-1)\n",
    "\n",
    "print(*B)\n",
    "\n"
   ]
  },
  {
   "cell_type": "code",
   "execution_count": 57,
   "id": "616ebe3d",
   "metadata": {},
   "outputs": [
    {
     "name": "stdout",
     "output_type": "stream",
     "text": [
      "mpe\n"
     ]
    }
   ],
   "source": [
    "A=input()\n",
    "B=[]\n",
    "for i in A:\n",
    "    if A.count(i)==1:\n",
    "        B.append(i)\n",
    "        \n",
    "    elif A.count(i)>1:\n",
    "        continue\n",
    "print(\"\".join(B))\n",
    "    \n"
   ]
  },
  {
   "cell_type": "code",
   "execution_count": 59,
   "id": "17fe8ca2",
   "metadata": {},
   "outputs": [
    {
     "name": "stdout",
     "output_type": "stream",
     "text": [
      "aab\n",
      "1\n"
     ]
    }
   ],
   "source": [
    "A=input().lower()\n",
    "if len(A)==3 and not A.isalpha==True:\n",
    "    print(1)\n",
    "else:\n",
    "    print(0)"
   ]
  },
  {
   "cell_type": "code",
   "execution_count": 84,
   "id": "ba9ce309",
   "metadata": {},
   "outputs": [
    {
     "name": "stdout",
     "output_type": "stream",
     "text": [
      "ACBD7\n",
      "ACBD7\n"
     ]
    }
   ],
   "source": [
    "a=\"AC30BD40\"\n",
    "B=[]\n",
    "C=[]\n",
    "r=0\n",
    "for i in a:\n",
    "    if i in '1234567890':\n",
    "        r=r+int(i)\n",
    "    else:\n",
    "        B.append(i)\n",
    "        \n",
    "C.append(str(r))\n",
    "for i in C:\n",
    "    B.append(i)\n",
    "print(\"\".join(B))\n",
    "\n",
    "\n",
    "\n",
    "#######\n",
    "\n",
    "a=\"AC30BD40\"\n",
    "r=0\n",
    "for i in a:\n",
    "    if i in '1234567890':\n",
    "        r=r+int(i)\n",
    "    else:\n",
    "        print(i, end='')\n",
    "\n",
    "\n",
    "print(r)"
   ]
  },
  {
   "cell_type": "code",
   "execution_count": 5,
   "id": "f6eb5a2d",
   "metadata": {},
   "outputs": [
    {
     "ename": "IndentationError",
     "evalue": "expected an indented block (<ipython-input-5-d56c40a8af0b>, line 3)",
     "output_type": "error",
     "traceback": [
      "\u001b[1;36m  File \u001b[1;32m\"<ipython-input-5-d56c40a8af0b>\"\u001b[1;36m, line \u001b[1;32m3\u001b[0m\n\u001b[1;33m    elif (len(A)//2==\"m\") or (len(A)//2==\"M\"):\u001b[0m\n\u001b[1;37m    ^\u001b[0m\n\u001b[1;31mIndentationError\u001b[0m\u001b[1;31m:\u001b[0m expected an indented block\n"
     ]
    }
   ],
   "source": [
    "A=input()\n",
    "if A[0]==\"A\" or A[0]==\"a\":\n",
    "elif (len(A)//2==\"m\") or (len(A)//2==\"M\"):\n",
    "elif A[-1]==\"z\" or A[-1]==\"Z\":\n",
    "    print(1)\n",
    "else:\n",
    "    print(0)"
   ]
  },
  {
   "cell_type": "code",
   "execution_count": 21,
   "id": "19b13a11",
   "metadata": {},
   "outputs": [
    {
     "name": "stdout",
     "output_type": "stream",
     "text": [
      "john 4\n"
     ]
    }
   ],
   "source": [
    "A=input().split()\n",
    "B=[]\n",
    "C=[]\n",
    "for i in A:\n",
    "    B.append(i)\n",
    "    C.append(A.count(i))\n",
    "print(B[0],C[0])\n",
    "\n"
   ]
  },
  {
   "cell_type": "code",
   "execution_count": 27,
   "id": "2be265c7",
   "metadata": {},
   "outputs": [
    {
     "name": "stdout",
     "output_type": "stream",
     "text": [
      "abcd\n",
      "-1\n",
      "\n"
     ]
    }
   ],
   "source": [
    "A=input()\n",
    "B=[]\n",
    "C=[]\n",
    "a=0\n",
    "for i in A:\n",
    "    if A.count(i)==1:\n",
    "        continue\n",
    "    elif A.count(i)>1:\n",
    "        B.append(i)\n",
    "        a=a+1    \n",
    "for i in B:\n",
    "    if i not in C:\n",
    "        C.append(i)\n",
    "        \n",
    "if a==0:\n",
    "    print(-1)\n",
    "        \n",
    "        \n",
    "print(*C)\n",
    "    "
   ]
  },
  {
   "cell_type": "code",
   "execution_count": 30,
   "id": "5b621d63",
   "metadata": {},
   "outputs": [
    {
     "name": "stdout",
     "output_type": "stream",
     "text": [
      "ABcDE21asW\n",
      "not pan\n"
     ]
    }
   ],
   "source": [
    "import re\n",
    "A=input()\n",
    "pat=\"[A-Z]{5}[0-9]{4}[A-Z]{1}\"\n",
    "if re.match(pat,A):\n",
    "    print(\"pan\")\n",
    "else:\n",
    "    print(\"not pan\")"
   ]
  },
  {
   "cell_type": "code",
   "execution_count": 34,
   "id": "1ac0403b",
   "metadata": {},
   "outputs": [
    {
     "name": "stdout",
     "output_type": "stream",
     "text": [
      "nitin iitnn\n",
      "yes\n"
     ]
    }
   ],
   "source": [
    "A,B=input().split()\n",
    "C=sorted(A)\n",
    "D=sorted(B)\n",
    "\n",
    "if C==D:\n",
    "    print(\"yes\")\n",
    "else:\n",
    "    print(\"no\")"
   ]
  },
  {
   "cell_type": "code",
   "execution_count": 38,
   "id": "9696fc82",
   "metadata": {},
   "outputs": [
    {
     "name": "stdout",
     "output_type": "stream",
     "text": [
      "abc bc\n",
      "yes\n"
     ]
    }
   ],
   "source": [
    "A,B=input().split()\n",
    "if B in A:\n",
    "    print(\"yes\")\n",
    "else:\n",
    "    print(\"no\")"
   ]
  },
  {
   "cell_type": "code",
   "execution_count": 48,
   "id": "303bfc2f",
   "metadata": {},
   "outputs": [
    {
     "name": "stdout",
     "output_type": "stream",
     "text": [
      "nagulan\n",
      "g u l\n"
     ]
    }
   ],
   "source": [
    "#doubt\n",
    "A=input()\n",
    "B=[]\n",
    "for i in A:\n",
    "    count = 0\n",
    "    for j in A:\n",
    "        if i == j:\n",
    "            count+=1\n",
    "        if count > 1:\n",
    "            break\n",
    "    if count == 1:\n",
    "        B.append(i)\n",
    "print(*B)"
   ]
  },
  {
   "cell_type": "code",
   "execution_count": 49,
   "id": "bc7e112b",
   "metadata": {},
   "outputs": [
    {
     "name": "stdout",
     "output_type": "stream",
     "text": [
      "nagulan\n",
      "g u l\n"
     ]
    }
   ],
   "source": [
    "A=input()\n",
    "B=[]\n",
    "C=0\n",
    "for i in A:\n",
    "    if A.count(i)>1:\n",
    "        C=C+1\n",
    "        continue        \n",
    "    elif A.count(i)==1:\n",
    "        B.append(i)\n",
    "if C==0:\n",
    "    print(-1)\n",
    "else:\n",
    "    print(\" \".join(B))\n",
    "\n"
   ]
  },
  {
   "cell_type": "code",
   "execution_count": 93,
   "id": "3ab29066",
   "metadata": {},
   "outputs": [
    {
     "name": "stdout",
     "output_type": "stream",
     "text": [
      "5\n",
      "3\n"
     ]
    }
   ],
   "source": [
    "#s=int(input())\n",
    "a=[\"kabali\", \"kaabli\", \"kababa\", \"kab\", \"kabail\"]\n",
    "A=\"kabali\"\n",
    "B=sorted(A)\n",
    "C=[]\n",
    "D=0\n",
    "\n",
    "for i in a:\n",
    "    C.append(sorted(i))\n",
    "for i in C:  \n",
    "    if i==B:\n",
    "        D=D+1\n",
    "    else:\n",
    "        pass\n",
    "if D==0:\n",
    "    print(0)\n",
    "    \n",
    "else:\n",
    "    print(D)"
   ]
  },
  {
   "cell_type": "code",
   "execution_count": 97,
   "id": "9d8a00c3",
   "metadata": {},
   "outputs": [
    {
     "name": "stdout",
     "output_type": "stream",
     "text": [
      "no\n"
     ]
    }
   ],
   "source": [
    "A=input()\n",
    "B=0\n",
    "for i in A:\n",
    "    if A.count(i)>1:\n",
    "        B+=1\n",
    "    else:\n",
    "        pass\n",
    "if B!=0:\n",
    "    print(\"yes\")\n",
    "else:\n",
    "    print(\"no\")"
   ]
  },
  {
   "cell_type": "code",
   "execution_count": 106,
   "id": "5c71b5f7",
   "metadata": {},
   "outputs": [
    {
     "name": "stdout",
     "output_type": "stream",
     "text": [
      "2\n"
     ]
    }
   ],
   "source": [
    "import math\n",
    " \n",
    " \n",
    "def getFirstSetBitPos(n):\n",
    " \n",
    "    return math.log2(n & -n)+1\n",
    " \n",
    " \n",
    "n = 18\n",
    "print(int(getFirstSetBitPos(n)))\n",
    " "
   ]
  },
  {
   "cell_type": "code",
   "execution_count": 103,
   "id": "af0d74c4",
   "metadata": {},
   "outputs": [
    {
     "data": {
      "text/plain": [
       "'0b10011'"
      ]
     },
     "execution_count": 103,
     "metadata": {},
     "output_type": "execute_result"
    }
   ],
   "source": [
    "bin(19)"
   ]
  },
  {
   "cell_type": "code",
   "execution_count": null,
   "id": "ad763136",
   "metadata": {},
   "outputs": [],
   "source": [
    "A=input()\n",
    "B=input().split()\n",
    "C=0\n",
    "for i in B:\n",
    "    if B.count(i)==2:\n",
    "        C=C+1\n",
    "if C!=0:\n",
    "    print(\"yes\")\n",
    "else:\n",
    "    print(\"no\")\n",
    "        "
   ]
  },
  {
   "cell_type": "code",
   "execution_count": 29,
   "id": "7055ec4f",
   "metadata": {},
   "outputs": [
    {
     "name": "stdout",
     "output_type": "stream",
     "text": [
      "string 1\n",
      "s t r i n g\n"
     ]
    }
   ],
   "source": [
    "A,B=input().split()\n",
    "print(\" \".join(A[int(B)-1::int(B)]))\n"
   ]
  },
  {
   "cell_type": "code",
   "execution_count": 80,
   "id": "b5664f22",
   "metadata": {},
   "outputs": [
    {
     "name": "stdout",
     "output_type": "stream",
     "text": [
      "wrong wrong\n",
      "-1\n",
      "\n"
     ]
    }
   ],
   "source": [
    "A,B=input().split()\n",
    "C=[]\n",
    "for i in range(len(A)):\n",
    "    if A[i] not in B:\n",
    "        C.append(A[i])\n",
    "        \n",
    "    elif A[i] in B:\n",
    "        continue\n",
    "if A==B:\n",
    "    print(-1)\n",
    "        \n",
    "print(\"\".join(C))\n"
   ]
  },
  {
   "cell_type": "code",
   "execution_count": 86,
   "id": "831a2896",
   "metadata": {},
   "outputs": [
    {
     "name": "stdout",
     "output_type": "stream",
     "text": [
      "r\n"
     ]
    }
   ],
   "source": [
    "#first non repeating charecter-string 59\n",
    "def FirstNonRepeat(s):\n",
    " \n",
    "   for i in s:\n",
    " \n",
    "       if (s.find(i,(s.find(i)+1))) == -1:\n",
    " \n",
    "           print(i)\n",
    " \n",
    "           break\n",
    " \n",
    "   return\n",
    "\n",
    "s = 'arya'\n",
    " \n",
    "FirstNonRepeat(s)"
   ]
  },
  {
   "cell_type": "code",
   "execution_count": 87,
   "id": "b2fb26b0",
   "metadata": {},
   "outputs": [
    {
     "name": "stdout",
     "output_type": "stream",
     "text": [
      "100\n"
     ]
    }
   ],
   "source": [
    "print(0b1100100)"
   ]
  },
  {
   "cell_type": "code",
   "execution_count": 99,
   "id": "d304ae38",
   "metadata": {
    "scrolled": true
   },
   "outputs": [
    {
     "name": "stdout",
     "output_type": "stream",
     "text": [
      "1100100\n",
      "144\n"
     ]
    }
   ],
   "source": [
    "#converting binary to octal string 63\n",
    "A = input()\n",
    "print(oct(int(A, 2))[2:])"
   ]
  },
  {
   "cell_type": "code",
   "execution_count": 68,
   "id": "f4add978",
   "metadata": {},
   "outputs": [
    {
     "name": "stdout",
     "output_type": "stream",
     "text": [
      "1100100\n",
      "64\n"
     ]
    }
   ],
   "source": [
    "#converting binary to octal string 64\n",
    "A = input()\n",
    "print(hex(int(A, 2))[2:])"
   ]
  },
  {
   "cell_type": "code",
   "execution_count": 101,
   "id": "92a39f0c",
   "metadata": {},
   "outputs": [
    {
     "data": {
      "text/plain": [
       "'0b1100100'"
      ]
     },
     "execution_count": 101,
     "metadata": {},
     "output_type": "execute_result"
    }
   ],
   "source": [
    "bin(100)"
   ]
  },
  {
   "cell_type": "code",
   "execution_count": 102,
   "id": "9f759a94",
   "metadata": {},
   "outputs": [
    {
     "data": {
      "text/plain": [
       "'0o144'"
      ]
     },
     "execution_count": 102,
     "metadata": {},
     "output_type": "execute_result"
    }
   ],
   "source": [
    "oct(100)"
   ]
  },
  {
   "cell_type": "code",
   "execution_count": 118,
   "id": "12ab6dad",
   "metadata": {},
   "outputs": [
    {
     "name": "stdout",
     "output_type": "stream",
     "text": [
      "h E l L O w o R L d\n"
     ]
    }
   ],
   "source": [
    "A=[\"HeLlo\", \"WOrlD\"]\n",
    "B=[]\n",
    "for i in A:\n",
    "    for j in i:\n",
    "        if j.isupper():\n",
    "            B.append(j.lower())\n",
    "        elif j.islower():\n",
    "            B.append(j.upper())\n",
    "print(*B)"
   ]
  },
  {
   "cell_type": "code",
   "execution_count": 126,
   "id": "e10b57d2",
   "metadata": {},
   "outputs": [
    {
     "name": "stdout",
     "output_type": "stream",
     "text": [
      "HEllO wORld\n"
     ]
    }
   ],
   "source": [
    "A=input()\n",
    "B=''\n",
    "for i in range(len(A)):\n",
    "    if A[i].isupper():\n",
    "        B=B+A[i].lower()\n",
    "    \n",
    "    elif A[i].islower():\n",
    "        B=B+A[i].upper()\n",
    "        \n",
    "    elif A[i]==\" \":\n",
    "        B=B+\" \"\n",
    "print(B)\n"
   ]
  },
  {
   "cell_type": "code",
   "execution_count": 8,
   "id": "48812d87",
   "metadata": {},
   "outputs": [
    {
     "name": "stdout",
     "output_type": "stream",
     "text": [
      "['A23', 'B56', 'C79', 'D16']\n"
     ]
    }
   ],
   "source": [
    "A=int(input())\n",
    "B=input().split()\n",
    "C=set(B)\n",
    "D=list(C)\n",
    "E=sorted(D)\n",
    "print(*E)"
   ]
  },
  {
   "cell_type": "code",
   "execution_count": 14,
   "id": "6e14d951",
   "metadata": {},
   "outputs": [
    {
     "name": "stdout",
     "output_type": "stream",
     "text": [
      "15 16 23 357 65 10\n"
     ]
    }
   ],
   "source": [
    "#N,M=input().split() array 6\n",
    "A=[23 ,15, 16]\n",
    "B=[357 ,65 ,10]\n",
    "C=sorted(A)\n",
    "D=sorted(B)\n",
    "E=C+D[::-1]\n",
    "print(*E)"
   ]
  },
  {
   "cell_type": "code",
   "execution_count": 30,
   "id": "2331c0ed",
   "metadata": {},
   "outputs": [
    {
     "name": "stdout",
     "output_type": "stream",
     "text": [
      "5 25 35 -5 30\n",
      "1\n"
     ]
    }
   ],
   "source": [
    "N=input()\n",
    "A=list(map(int,input().split()))\n",
    "S=sum(A)\n",
    "B=0\n",
    "C=0\n",
    "if S%2==0 and S%3==0 and S%5==0:\n",
    "    print(1)\n",
    "else:\n",
    "    print(0)\n"
   ]
  },
  {
   "cell_type": "code",
   "execution_count": 1,
   "id": "8a340a38",
   "metadata": {},
   "outputs": [
    {
     "name": "stdout",
     "output_type": "stream",
     "text": [
      "1 2 3 4 5 6 7 8 9 10\n",
      "1\n"
     ]
    }
   ],
   "source": [
    "A=list(map(int,input().split()))\n",
    "print(min(A))"
   ]
  },
  {
   "cell_type": "code",
   "execution_count": 6,
   "id": "ac2cb85b",
   "metadata": {},
   "outputs": [
    {
     "name": "stdout",
     "output_type": "stream",
     "text": [
      "5 2 3\n",
      "1\n"
     ]
    }
   ],
   "source": [
    "import math\n",
    "A,B,C=map(int,input().split())\n",
    "D=A*B\n",
    "E=math.fmod(D,C)\n",
    "print(int(E))"
   ]
  },
  {
   "cell_type": "code",
   "execution_count": 63,
   "id": "5585cdba",
   "metadata": {},
   "outputs": [
    {
     "name": "stdout",
     "output_type": "stream",
     "text": [
      "hi iam from chidambaram\n",
      "hi mai morf chidambaram\n"
     ]
    }
   ],
   "source": [
    "def stn(A):\n",
    " \n",
    "    B = [A for A in A.split(' ')]\n",
    " \n",
    "    print(B[0], end = ' ')\n",
    " \n",
    "     \n",
    "    for i in range(1, len(B)-1):\n",
    " \n",
    "        print(B[i][::-1], end = ' ')\n",
    " \n",
    "    print(B[len(B)-1])\n",
    " \n",
    "A = input()\n",
    "stn(A)"
   ]
  },
  {
   "cell_type": "code",
   "execution_count": 42,
   "id": "c180ae05",
   "metadata": {},
   "outputs": [
    {
     "name": "stdout",
     "output_type": "stream",
     "text": [
      "srn\n"
     ]
    }
   ],
   "source": [
    "A=\"string\"\n",
    "B=2\n",
    "print(A[::2])"
   ]
  },
  {
   "cell_type": "code",
   "execution_count": 59,
   "id": "fcb4a463",
   "metadata": {},
   "outputs": [
    {
     "name": "stdout",
     "output_type": "stream",
     "text": [
      "['S', 't', 'R', 'i', 'N', 'g']\n"
     ]
    }
   ],
   "source": [
    "A= \"string\" \n",
    "K = 2\n",
    "B = []\n",
    "for i in range(len(A)):     \n",
    "    if i % K == 0:\n",
    "        B.append(A[i].upper())\n",
    "    else :\n",
    "        B.append(A[i].lower())\n",
    " \n",
    "print(B)"
   ]
  },
  {
   "cell_type": "code",
   "execution_count": 66,
   "id": "ac87de2e",
   "metadata": {},
   "outputs": [
    {
     "name": "stdout",
     "output_type": "stream",
     "text": [
      "(()()\n",
      "no\n"
     ]
    }
   ],
   "source": [
    "n=input()\n",
    "r=0\n",
    "m=0\n",
    "for i in n:\n",
    "    if i in '((':\n",
    "        r += 1\n",
    "    if i in \"))\":\n",
    "        m += 1\n",
    "if r == m:\n",
    "    print(\"yes\")\n",
    "else:\n",
    "    print(\"no\")"
   ]
  },
  {
   "cell_type": "code",
   "execution_count": 82,
   "id": "6909a5ef",
   "metadata": {},
   "outputs": [
    {
     "name": "stdout",
     "output_type": "stream",
     "text": [
      "6\n",
      "9\n",
      "3\n"
     ]
    }
   ],
   "source": [
    "A=int(input())\n",
    "B=int(input())\n",
    "C=0\n",
    "for i in range(A,B+1):\n",
    "    if B % i!=0:\n",
    "        C=C+1\n",
    "    else:\n",
    "        pass\n",
    "print(C)\n",
    "        "
   ]
  },
  {
   "cell_type": "code",
   "execution_count": null,
   "id": "6b087dad",
   "metadata": {},
   "outputs": [],
   "source": [
    "a,b= map(int,input().split())\n",
    "r=0\n",
    "for i in range(a,b+1):\n",
    "    if i%2 != 0 and i !=9:\n",
    "        r=r+1\n",
    "if b % 2 !=0:\n",
    "   r=r+1\n",
    "print(r)\n",
    "       "
   ]
  },
  {
   "cell_type": "code",
   "execution_count": 84,
   "id": "23abd282",
   "metadata": {},
   "outputs": [
    {
     "name": "stdout",
     "output_type": "stream",
     "text": [
      "100 200\n",
      "100\n"
     ]
    }
   ],
   "source": [
    "A,B=map(int,input().split())\n",
    "print(abs(A-B))"
   ]
  },
  {
   "cell_type": "code",
   "execution_count": 85,
   "id": "67d02c09",
   "metadata": {},
   "outputs": [
    {
     "name": "stdout",
     "output_type": "stream",
     "text": [
      "6\n"
     ]
    }
   ],
   "source": [
    "print(2|4)"
   ]
  },
  {
   "cell_type": "code",
   "execution_count": 86,
   "id": "25750f0d",
   "metadata": {},
   "outputs": [
    {
     "name": "stdout",
     "output_type": "stream",
     "text": [
      "2 4\n",
      "6\n"
     ]
    }
   ],
   "source": [
    "A=map(int,input().split())\n",
    "for i in A:\n",
    "    "
   ]
  },
  {
   "cell_type": "code",
   "execution_count": 88,
   "id": "9a5455f9",
   "metadata": {},
   "outputs": [
    {
     "name": "stdout",
     "output_type": "stream",
     "text": [
      "7\n"
     ]
    }
   ],
   "source": [
    "print(1|4|6)"
   ]
  },
  {
   "cell_type": "code",
   "execution_count": 7,
   "id": "01893d79",
   "metadata": {},
   "outputs": [
    {
     "name": "stdout",
     "output_type": "stream",
     "text": [
      "10 5\n",
      "5\n"
     ]
    }
   ],
   "source": [
    "import math\n",
    "A,B=map(int,input().split())\n",
    "\n",
    "if A==0 or B==0:\n",
    "    print(-1)\n",
    "\n",
    "else:\n",
    "    print(math.gcd(A,B))\n",
    "    \n"
   ]
  },
  {
   "cell_type": "code",
   "execution_count": 13,
   "id": "004ebc84",
   "metadata": {},
   "outputs": [
    {
     "name": "stdout",
     "output_type": "stream",
     "text": [
      "3 5 9\n",
      "No\n"
     ]
    }
   ],
   "source": [
    "A = list(map(int,input().split()))# formula to find right angled triangle\n",
    "x,y,z = sorted(A)\n",
    "if x**2+y**2==z**2:\n",
    "    print('Yes')\n",
    "else:\n",
    "    print('No')"
   ]
  },
  {
   "cell_type": "code",
   "execution_count": 17,
   "id": "b145f1ef",
   "metadata": {},
   "outputs": [
    {
     "name": "stdout",
     "output_type": "stream",
     "text": [
      "16\n"
     ]
    }
   ],
   "source": [
    "print(4**2)"
   ]
  },
  {
   "cell_type": "code",
   "execution_count": 18,
   "id": "80fb1858",
   "metadata": {},
   "outputs": [
    {
     "name": "stdout",
     "output_type": "stream",
     "text": [
      "5\n",
      "-6\n"
     ]
    }
   ],
   "source": [
    "A=int(input())\n",
    "print(~A)"
   ]
  },
  {
   "cell_type": "code",
   "execution_count": 25,
   "id": "1551ffbb",
   "metadata": {},
   "outputs": [
    {
     "name": "stdout",
     "output_type": "stream",
     "text": [
      "3 3\n",
      "4.5\n"
     ]
    }
   ],
   "source": [
    "#T=input()\n",
    "A,B=map(int,input().split())\n",
    "C=(A*B)/2\n",
    "print(C)"
   ]
  },
  {
   "cell_type": "code",
   "execution_count": 26,
   "id": "83e7173a",
   "metadata": {},
   "outputs": [
    {
     "name": "stdout",
     "output_type": "stream",
     "text": [
      "yes\n"
     ]
    }
   ],
   "source": [
    "N=int(input())\n",
    "A,B=map(int,input().split())\n",
    "C=0\n",
    "for i in range(A,B+1):\n",
    "    if i==N:\n",
    "        C=C+1\n",
    "    else:\n",
    "        pass\n",
    "if C>0:\n",
    "    print(\"yes\")\n",
    "else:\n",
    "    print(\"no\")\n",
    "        "
   ]
  },
  {
   "cell_type": "code",
   "execution_count": 31,
   "id": "cfc6cfaa",
   "metadata": {},
   "outputs": [
    {
     "name": "stdout",
     "output_type": "stream",
     "text": [
      "2 2 3\n",
      "no\n"
     ]
    }
   ],
   "source": [
    "x,y,z = map(int,input().split())\n",
    "if not (x==y or y==z or z==x):\n",
    "    print('yes')\n",
    "else:\n",
    "    print('no')"
   ]
  },
  {
   "cell_type": "code",
   "execution_count": 57,
   "id": "0059795c",
   "metadata": {},
   "outputs": [
    {
     "name": "stdout",
     "output_type": "stream",
     "text": [
      "5\n",
      "4 3 2 1\n",
      "7\n"
     ]
    }
   ],
   "source": [
    "def OR(a, n):\n",
    "     \n",
    "    ans = a[0]\n",
    "    for i in range(1,n):\n",
    "        ans=ans|a[i]    \n",
    "    print(ans)\n",
    "N=input()\n",
    "A=input().split()\n",
    "a=[]\n",
    "for i in A:\n",
    "    a.append(int(i))\n",
    "n=len(a)\n",
    "OR(a,n)"
   ]
  },
  {
   "cell_type": "code",
   "execution_count": 49,
   "id": "1d852c0c",
   "metadata": {},
   "outputs": [
    {
     "name": "stdout",
     "output_type": "stream",
     "text": [
      "4 3 2 1\n",
      "4\n"
     ]
    }
   ],
   "source": [
    "A=input().split()\n",
    "B=[]\n",
    "\n",
    "n=len(B)\n",
    "for i in A:\n",
    "    B.append(int(i))\n",
    "C=B[0]\n",
    "for i in range(1,n):\n",
    "    C=C|B[i]\n",
    "    \n",
    "print(C)\n",
    "    "
   ]
  },
  {
   "cell_type": "code",
   "execution_count": 50,
   "id": "c77086f3",
   "metadata": {},
   "outputs": [
    {
     "name": "stdout",
     "output_type": "stream",
     "text": [
      "4 3 2 1\n",
      "4\n"
     ]
    }
   ],
   "source": [
    "ans = a[0]\n",
    "for i in range(1,n):\n",
    "    ans=ans|a[i]\n",
    "     \n",
    "\n",
    "A=input().split()\n",
    "a=[]\n",
    "for i in A:\n",
    "    a.append(int(i))\n",
    "n=len(a)\n",
    "print(ans)"
   ]
  },
  {
   "cell_type": "code",
   "execution_count": 69,
   "id": "ee0b4169",
   "metadata": {},
   "outputs": [
    {
     "name": "stdout",
     "output_type": "stream",
     "text": [
      "2\n"
     ]
    }
   ],
   "source": [
    "print(18&-18)"
   ]
  },
  {
   "cell_type": "code",
   "execution_count": 79,
   "id": "236f4918",
   "metadata": {},
   "outputs": [
    {
     "name": "stdout",
     "output_type": "stream",
     "text": [
      "100\n",
      "4\n"
     ]
    }
   ],
   "source": [
    "import math\n",
    "n = int(input())\n",
    "print(n&-n)\n"
   ]
  },
  {
   "cell_type": "code",
   "execution_count": 4,
   "id": "7f93cf1c",
   "metadata": {},
   "outputs": [
    {
     "name": "stdout",
     "output_type": "stream",
     "text": [
      "18\n",
      "2\n"
     ]
    }
   ],
   "source": [
    "import math\n",
    "def binary_rep(n):\n",
    "    return math.log2(n & -n)+1\n",
    "n = int(input())\n",
    "print(int(binary_rep(n)))"
   ]
  },
  {
   "cell_type": "code",
   "execution_count": 86,
   "id": "b762aed9",
   "metadata": {},
   "outputs": [
    {
     "name": "stdout",
     "output_type": "stream",
     "text": [
      "1 2 3 4 5\n",
      "1 2 7 8 9\n",
      "1 2\n"
     ]
    }
   ],
   "source": [
    "N=input()\n",
    "A=input().split()\n",
    "B=input().split()\n",
    "C=[]\n",
    "D=0\n",
    "for i in range(len(A)):\n",
    "    if A[i] in B:\n",
    "        C.append(A[int(i)])\n",
    "        \n",
    "    else:\n",
    "        pass\n",
    "\n",
    "if C==[]:\n",
    "    print(-1)\n",
    "else:\n",
    "    print(*C)\n",
    "  "
   ]
  },
  {
   "cell_type": "code",
   "execution_count": 99,
   "id": "9f870d76",
   "metadata": {
    "scrolled": true
   },
   "outputs": [
    {
     "name": "stdout",
     "output_type": "stream",
     "text": [
      "1 2 3 4 5\n"
     ]
    },
    {
     "data": {
      "text/plain": [
       "60"
      ]
     },
     "execution_count": 99,
     "metadata": {},
     "output_type": "execute_result"
    }
   ],
   "source": [
    "import numpy as np#to find lcm\n",
    "A=list(map(int,input().split()))\n",
    "np.lcm.reduce(A)"
   ]
  },
  {
   "cell_type": "code",
   "execution_count": 134,
   "id": "ec52f2e5",
   "metadata": {},
   "outputs": [
    {
     "name": "stdout",
     "output_type": "stream",
     "text": [
      "12\n"
     ]
    }
   ],
   "source": [
    "A=input().split()\n",
    "B=[]\n",
    "for i in A:\n",
    "    if A.count(i)==2:\n",
    "        B.append(i)\n",
    "print(B[0])"
   ]
  },
  {
   "cell_type": "code",
   "execution_count": 149,
   "id": "fcdeef59",
   "metadata": {},
   "outputs": [
    {
     "name": "stdout",
     "output_type": "stream",
     "text": [
      "1 3\n"
     ]
    }
   ],
   "source": [
    "A=input()\n",
    "B=[]\n",
    "C=[]\n",
    "for i in A:\n",
    "    B.append(int(i))\n",
    "for i in B:\n",
    "    if i%2==0:\n",
    "        continue\n",
    "    else:\n",
    "        C.append(i)\n",
    "if C==[]:\n",
    "    print(-1)\n",
    "else:\n",
    "    print(*C)"
   ]
  },
  {
   "cell_type": "code",
   "execution_count": 181,
   "id": "a2b20b45",
   "metadata": {},
   "outputs": [
    {
     "name": "stdout",
     "output_type": "stream",
     "text": [
      "[1, 1, 13, 13, 1, 3, 3]\n"
     ]
    }
   ],
   "source": [
    "T=input()\n",
    "A=input().split()\n",
    "B=[]\n",
    "C=[]\n",
    "for i in A:\n",
    "    if i not in B:\n",
    "        B.append(int(i))\n",
    "for i in B:\n",
    "    if i not in C:\n",
    "        C.append(i)\n",
    "print(*C[::-1])\n",
    "    "
   ]
  },
  {
   "cell_type": "code",
   "execution_count": 1,
   "id": "a6a865e6",
   "metadata": {},
   "outputs": [
    {
     "ename": "SyntaxError",
     "evalue": "invalid syntax (182599266.py, line 3)",
     "output_type": "error",
     "traceback": [
      "\u001b[1;36m  Input \u001b[1;32mIn [1]\u001b[1;36m\u001b[0m\n\u001b[1;33m    if (A[0]==\"A\" or A[0]==\"a\") and (A[-1]==\"z\" or (A[-1]==\"Z\") and (A[B]==\"m\" or A[B]==\"M\"):\u001b[0m\n\u001b[1;37m                                                                                            ^\u001b[0m\n\u001b[1;31mSyntaxError\u001b[0m\u001b[1;31m:\u001b[0m invalid syntax\n"
     ]
    }
   ],
   "source": [
    "A=input()\n",
    "B=int(len(A)/2)\n",
    "if (A[0]==\"A\" or A[0]==\"a\") and (A[-1]==\"z\" or (A[-1]==\"Z\") and (A[B]==\"m\" or A[B]==\"M\"):\n",
    "    print(1)\n",
    "else:\n",
    "    print(0)"
   ]
  },
  {
   "cell_type": "code",
   "execution_count": 60,
   "id": "cc8fee59",
   "metadata": {},
   "outputs": [
    {
     "name": "stdout",
     "output_type": "stream",
     "text": [
      "no\n"
     ]
    }
   ],
   "source": [
    "A,B=input().split()\n",
    "b=int(B)\n",
    "C=[]\n",
    "E=[]\n",
    "for i in A:\n",
    "    if i not in C:\n",
    "        C.append(i)\n",
    "C=list(map(int,C))\n",
    "D=sorted(C)\n",
    "\n",
    "for i in range(0,b+1):\n",
    "    E.append(i)\n",
    "\n",
    "\n",
    "if len(D)==len(E):\n",
    "    for i,j in zip(D,E):\n",
    "        if i==j:\n",
    "            print(\"yes\")\n",
    "            break\n",
    "        else:\n",
    "            print(\"no\")\n",
    "            break\n",
    "else:\n",
    "    print(\"no\")"
   ]
  },
  {
   "cell_type": "code",
   "execution_count": 71,
   "id": "ff0ca5e1",
   "metadata": {},
   "outputs": [
    {
     "name": "stdout",
     "output_type": "stream",
     "text": [
      "codekata codeguvi 4\n",
      "yes\n"
     ]
    }
   ],
   "source": [
    "A,B,D=input().split()\n",
    "a=[]\n",
    "b=[]\n",
    "C=0\n",
    "d=int(D)\n",
    "for i in A:\n",
    "    a.append(i)\n",
    "for i in B:\n",
    "    b.append(i)\n",
    "\n",
    "for i,j in zip(a,b):\n",
    "    if i!=j:\n",
    "        C=C+1\n",
    "\n",
    "if C==d:\n",
    "    print(\"yes\")\n",
    "else:\n",
    "    print(\"no\")\n"
   ]
  },
  {
   "cell_type": "code",
   "execution_count": 104,
   "id": "ff74da28",
   "metadata": {},
   "outputs": [
    {
     "name": "stdout",
     "output_type": "stream",
     "text": [
      "\n"
     ]
    }
   ],
   "source": [
    "A=input()\n",
    "B=A.replace(\" \",\"\")\n",
    "C=''\n",
    "for i in B:\n",
    "    if B.count(i)>1:\n",
    "        continue\n",
    "    else:\n",
    "        C=C+i\n",
    "print(C)  \n",
    "    \n",
    "   "
   ]
  },
  {
   "cell_type": "code",
   "execution_count": 111,
   "id": "cb861862",
   "metadata": {},
   "outputs": [
    {
     "name": "stdout",
     "output_type": "stream",
     "text": [
      "guvia\n"
     ]
    }
   ],
   "source": [
    "A,B=input().split()\n",
    "\n",
    "if len(A)>len(B):\n",
    "    print(A)\n",
    "elif len(B)>len(A):\n",
    "    print(B)\n",
    "elif len(A)==len(B):\n",
    "    print(A)"
   ]
  },
  {
   "cell_type": "code",
   "execution_count": 9,
   "id": "98d6b82d",
   "metadata": {},
   "outputs": [
    {
     "name": "stdout",
     "output_type": "stream",
     "text": [
      "January\n"
     ]
    }
   ],
   "source": [
    "import datetime\n",
    "datestring = '01-01-2018'\n",
    "d = datetime.datetime.strptime(datestring ,'%m-%d-%Y')\n",
    "print(d.strftime('%B'))\n"
   ]
  },
  {
   "cell_type": "code",
   "execution_count": 36,
   "id": "882302c9",
   "metadata": {},
   "outputs": [
    {
     "name": "stdout",
     "output_type": "stream",
     "text": [
      "no\n",
      "2\n"
     ]
    }
   ],
   "source": [
    "T=5\n",
    "A=[\"code\",\"overload\",\"vishal\",\"sundar\",\"anish\"]\n",
    "B=0\n",
    "\n",
    "for i in A:\n",
    "    C=0\n",
    "    for j in i:\n",
    "        if j in \"aeiouaeiou\":\n",
    "            C=C+1\n",
    "        if C>1:\n",
    "            B=B+1\n",
    "            \n",
    "if B==T:\n",
    "    print(\"yes\")\n",
    "else:\n",
    "    print(\"no\")\n",
    "   \n",
    "print(C)\n",
    "\n",
    "    \n",
    " "
   ]
  },
  {
   "cell_type": "code",
   "execution_count": 45,
   "id": "47432931",
   "metadata": {},
   "outputs": [
    {
     "name": "stdout",
     "output_type": "stream",
     "text": [
      "12345 2 1\n",
      "3\n"
     ]
    }
   ],
   "source": [
    "A,B,C=input().split()\n",
    "b=int(B)\n",
    "c=int(C)\n",
    "print(A[c-1+b])"
   ]
  },
  {
   "cell_type": "code",
   "execution_count": 52,
   "id": "2d8ddd78",
   "metadata": {},
   "outputs": [
    {
     "name": "stdout",
     "output_type": "stream",
     "text": [
      "4\n"
     ]
    }
   ],
   "source": [
    "A=\"5334\"\n",
    "b=3\n",
    "c=1\n",
    "print(A[c-1+b])"
   ]
  },
  {
   "cell_type": "code",
   "execution_count": 17,
   "id": "dcd01ec5",
   "metadata": {},
   "outputs": [
    {
     "name": "stdout",
     "output_type": "stream",
     "text": [
      "aaab\n",
      "a3b1\n"
     ]
    }
   ],
   "source": [
    "A=input()\n",
    "B=[]\n",
    "\n",
    "for i in A:\n",
    "    if i not in B:\n",
    "        B.append(i)\n",
    "        B.append(A.count(i))\n",
    "\n",
    "\n",
    "C=list(map(str,B))\n",
    "print(\"\".join(C))\n",
    "\n",
    "    "
   ]
  },
  {
   "cell_type": "code",
   "execution_count": 19,
   "id": "3fba7abe",
   "metadata": {},
   "outputs": [
    {
     "name": "stdout",
     "output_type": "stream",
     "text": [
      "4123\n",
      "4\n"
     ]
    }
   ],
   "source": [
    "A=input()\n",
    "B=[]\n",
    "for i in A:\n",
    "    B.append(int(i))\n",
    "print(len(B))"
   ]
  },
  {
   "cell_type": "code",
   "execution_count": 22,
   "id": "91db6e6c",
   "metadata": {},
   "outputs": [
    {
     "name": "stdout",
     "output_type": "stream",
     "text": [
      "aaabbbbac\n",
      "no\n"
     ]
    }
   ],
   "source": [
    "A=input()\n",
    "B=0\n",
    "for i in A:\n",
    "    if i in \"abAB\":\n",
    "        continue\n",
    "    else:\n",
    "        B=B+1\n",
    "if B>0:\n",
    "    print(\"no\")\n",
    "else:\n",
    "    print(\"yes\")"
   ]
  },
  {
   "cell_type": "code",
   "execution_count": 23,
   "id": "05b957b0",
   "metadata": {},
   "outputs": [
    {
     "name": "stdout",
     "output_type": "stream",
     "text": [
      "cOMPuteR PROgRaM\n"
     ]
    }
   ],
   "source": [
    "A=input()\n",
    "B=\"\"\n",
    "for i in A:\n",
    "    if A.count(i)>1:\n",
    "        B=B+i.upper()\n",
    "    else:\n",
    "        B=B+i.lower()\n",
    "print(B)\n",
    "    "
   ]
  },
  {
   "cell_type": "code",
   "execution_count": 33,
   "id": "5a474e13",
   "metadata": {},
   "outputs": [
    {
     "name": "stdout",
     "output_type": "stream",
     "text": [
      "4\n"
     ]
    }
   ],
   "source": [
    "A=input()\n",
    "B=input()\n",
    "\n",
    "if A in B:\n",
    "    print(B.index(A)+1)\n",
    "elif B in A:\n",
    "    print(A.index(B)+1)\n",
    "else:\n",
    "    print(-1)\n",
    "    \n"
   ]
  },
  {
   "cell_type": "code",
   "execution_count": 56,
   "id": "9235d221",
   "metadata": {},
   "outputs": [
    {
     "name": "stdout",
     "output_type": "stream",
     "text": [
      "guvi yuvi abc\n",
      "-1\n"
     ]
    }
   ],
   "source": [
    "A,B,C=input().split()\n",
    "D=[]\n",
    "\n",
    "\n",
    "for i,j,k in zip (A,B,C):  \n",
    "    if i==j==k:\n",
    "        D.append(i)\n",
    "        \n",
    "if D==[]:\n",
    "    print(-1)\n",
    "else:\n",
    "    print(\"\".join(D))\n",
    "    \n",
    "    \n",
    "\n",
    "    "
   ]
  },
  {
   "cell_type": "code",
   "execution_count": 91,
   "id": "fb74ff7b",
   "metadata": {},
   "outputs": [
    {
     "name": "stdout",
     "output_type": "stream",
     "text": [
      "hello\n"
     ]
    }
   ],
   "source": [
    "A=input()\n",
    "B=A[::-1]\n",
    "if A==B:\n",
    "    C=list(\"\".join(A))\n",
    "    D=C.pop()\n",
    "    print(\"\".join(C))\n",
    "else:\n",
    "    print(A)\n",
    "\n"
   ]
  },
  {
   "cell_type": "code",
   "execution_count": 96,
   "id": "be73ad34",
   "metadata": {},
   "outputs": [
    {
     "name": "stdout",
     "output_type": "stream",
     "text": [
      "222\n",
      "222\n"
     ]
    }
   ],
   "source": [
    "from itertools import permutations\n",
    "A=input()\n",
    "B=[]\n",
    "C=[]\n",
    "D=[]\n",
    "\n",
    "for i in permutations(A):\n",
    "    B.append(list(i))\n",
    "    \n",
    "for i in B:\n",
    "    C.append(\"\".join(i))\n",
    "\n",
    "for i in C:\n",
    "    D.append(int(i))\n",
    "\n",
    "E=D[0],D[1]\n",
    "print(max(E))\n"
   ]
  },
  {
   "cell_type": "code",
   "execution_count": 102,
   "id": "39737761",
   "metadata": {},
   "outputs": [
    {
     "name": "stdout",
     "output_type": "stream",
     "text": [
      "uigv\n"
     ]
    }
   ],
   "source": [
    "A=input()\n",
    "B=[]\n",
    "C=[]\n",
    "D=''\n",
    "for i in A:\n",
    "    if i in \"AEIOUaeiou\":\n",
    "        B.append(i)\n",
    "    else:\n",
    "        C.append(i)\n",
    "for i in B:\n",
    "    D=D+i\n",
    "for i in C:\n",
    "    D=D+i\n",
    "    \n",
    "print(\"\".join(D))"
   ]
  },
  {
   "cell_type": "code",
   "execution_count": 7,
   "id": "1ac62083",
   "metadata": {},
   "outputs": [
    {
     "name": "stdout",
     "output_type": "stream",
     "text": [
      "abcd\n"
     ]
    }
   ],
   "source": [
    "A=input()\n",
    "B=input()\n",
    "C=sorted(A)\n",
    "D=sorted(B)\n",
    "if C==D:\n",
    "    print(1)\n",
    "else:\n",
    "    print(0)"
   ]
  },
  {
   "cell_type": "code",
   "execution_count": 40,
   "id": "97526ec8",
   "metadata": {},
   "outputs": [
    {
     "name": "stdout",
     "output_type": "stream",
     "text": [
      "no\n"
     ]
    }
   ],
   "source": [
    "A=\"guvi\"\n",
    "B=\"geeks\"\n",
    "a=len(A)\n",
    "b=len(B)\n",
    "np=0\n",
    "p=0\n",
    "\n",
    "for i in range(2,a):\n",
    "    if a%i==0:\n",
    "        np=np+1\n",
    "        break\n",
    "    else:\n",
    "        p+=1\n",
    "        break\n",
    "        \n",
    "for i in range(2,b):\n",
    "    if b%i==0:\n",
    "        np=np+1\n",
    "        break\n",
    "    else:\n",
    "        p+=1\n",
    "        break\n",
    "if p==2:\n",
    "    print(\"yes\")\n",
    "else:\n",
    "    print(\"no\")"
   ]
  },
  {
   "cell_type": "code",
   "execution_count": 44,
   "id": "44d76d36",
   "metadata": {},
   "outputs": [
    {
     "data": {
      "text/plain": [
       "['1', '1', '0']"
      ]
     },
     "execution_count": 44,
     "metadata": {},
     "output_type": "execute_result"
    }
   ],
   "source": [
    "A=\"a1b10\"\n",
    "B=[]\n",
    "C=[]\n",
    "for i in A:\n",
    "    if not i.isdigit():\n",
    "        B.append(i)\n",
    "    else:\n",
    "        C.append(i)\n",
    "        \n",
    "        \n",
    "C\n",
    "        \n"
   ]
  },
  {
   "cell_type": "code",
   "execution_count": 50,
   "id": "83f6b7bd",
   "metadata": {},
   "outputs": [
    {
     "name": "stdout",
     "output_type": "stream",
     "text": [
      "60 48\n",
      "12\n"
     ]
    }
   ],
   "source": [
    "import math\n",
    "A,B=map(int,input().split())\n",
    "print(math.gcd(A,B))"
   ]
  },
  {
   "cell_type": "code",
   "execution_count": 16,
   "id": "3d66fd70",
   "metadata": {},
   "outputs": [
    {
     "name": "stdout",
     "output_type": "stream",
     "text": [
      "16\n",
      "12\n"
     ]
    }
   ],
   "source": [
    "A=input()\n",
    "B=A.replace(\"  \",\"\")\n",
    "print(B)\n"
   ]
  },
  {
   "cell_type": "code",
   "execution_count": 11,
   "id": "5e089436",
   "metadata": {},
   "outputs": [
    {
     "name": "stdout",
     "output_type": "stream",
     "text": [
      "0\n"
     ]
    }
   ],
   "source": [
    "A=input().split()\n",
    "B=[]\n",
    "C=[]\n",
    "for i in A:\n",
    "    if A.count(i)>1:\n",
    "        B.append(i)\n",
    "    else:\n",
    "        C.append(i)\n",
    "\n",
    "print(len(C))"
   ]
  },
  {
   "cell_type": "code",
   "execution_count": 14,
   "id": "a7126614",
   "metadata": {},
   "outputs": [
    {
     "name": "stdout",
     "output_type": "stream",
     "text": [
      "Er\n"
     ]
    }
   ],
   "source": [
    "A=input()\n",
    "B=\"\"\n",
    "for i in A:\n",
    "    if A.count(i)>1:\n",
    "        continue\n",
    "    else:\n",
    "        B=B+i\n",
    "        \n",
    "print(\"\".join(B))\n"
   ]
  },
  {
   "cell_type": "code",
   "execution_count": 10,
   "id": "151337e8",
   "metadata": {},
   "outputs": [
    {
     "name": "stdout",
     "output_type": "stream",
     "text": [
      "deepak\n"
     ]
    }
   ],
   "source": [
    "A=input()\n",
    "B=input()\n",
    "a=''\n",
    "b=''\n",
    "for i in A:\n",
    "    if i.isalpha():\n",
    "        a=a+i\n",
    "a1=[int(i) for i in A if i.isdigit()]\n",
    "a2=sum(a1)\n",
    "\n",
    "for i in B:\n",
    "    if i.isalpha():\n",
    "        b=b+i\n",
    "b1=[int(i) for i in B if i.isdigit()]\n",
    "b2=sum(b1)\n",
    "\n",
    "if a2>b2:\n",
    "    print(a)\n",
    "else:\n",
    "    print(b)"
   ]
  },
  {
   "cell_type": "code",
   "execution_count": 15,
   "id": "2becf2ca",
   "metadata": {},
   "outputs": [
    {
     "name": "stdout",
     "output_type": "stream",
     "text": [
      "yes\n"
     ]
    }
   ],
   "source": [
    "A,B=input().split()\n",
    "\n",
    "C=[i for i in A for j in B if i==j]\n",
    "D=len(list(set(C)))\n",
    "if D>=2:\n",
    "    print(\"yes\")\n",
    "else:\n",
    "    print(\"no\")"
   ]
  },
  {
   "cell_type": "code",
   "execution_count": 26,
   "id": "d22fcf4a",
   "metadata": {},
   "outputs": [
    {
     "name": "stdout",
     "output_type": "stream",
     "text": [
      "sun east\n"
     ]
    }
   ],
   "source": [
    "A=input().split()\n",
    "article=[\"The\",\"the\",\"In\",\"in\",\"A\",\"a\",\"an\",\"An\"]\n",
    "B=[]\n",
    "\n",
    "for i in range(len(A)-1):\n",
    "    if A[i] in article:\n",
    "        B.append(A[i+1])\n",
    "   \n",
    "    \n",
    "C=[i for i in B if i not in article] \n",
    "print(\" \".join(C))"
   ]
  },
  {
   "cell_type": "code",
   "execution_count": 27,
   "id": "0dc2c1ef",
   "metadata": {},
   "outputs": [
    {
     "name": "stdout",
     "output_type": "stream",
     "text": [
      "I am john cena cena john\n",
      "I am\n"
     ]
    }
   ],
   "source": [
    "A =input().split()\n",
    "B = []\n",
    "C=0\n",
    "for i in A:\n",
    "    if A.count(i)>1  :\n",
    "        continue\n",
    "    elif A.count(i)==1:\n",
    "        B.append(i)\n",
    "        C=C+1\n",
    "                   \n",
    "if C==0:\n",
    "    print(-1)\n",
    "\n",
    "print(*B)"
   ]
  },
  {
   "cell_type": "code",
   "execution_count": 32,
   "id": "04dd3129",
   "metadata": {},
   "outputs": [
    {
     "name": "stdout",
     "output_type": "stream",
     "text": [
      "amz\n",
      "1\n"
     ]
    }
   ],
   "source": [
    "A=input()\n",
    "B=int(len(A)/2)\n",
    "a=[\"A\",\"a\"]\n",
    "b=[\"m\",\"M\"]\n",
    "c=[\"Z\",\"z\"]\n",
    "if (A[0] in a) and (A[B] in b) and (A[-1] in c):\n",
    "    print(1)\n",
    "else:\n",
    "    print(0)"
   ]
  },
  {
   "cell_type": "code",
   "execution_count": null,
   "id": "aa590aaa",
   "metadata": {},
   "outputs": [],
   "source": [
    "A=input()\n",
    "B=int(len(A)/2)\n",
    "if ((A[0]) in [\"A\",\"a\"]) and ((A[B]) in [\"M\",\"m\"]) and ((A[-1]) in [\"Z\",\"z\"]):\n",
    "    print(1)\n",
    "else:\n",
    "    print(0)"
   ]
  },
  {
   "cell_type": "code",
   "execution_count": null,
   "id": "43b241a5",
   "metadata": {},
   "outputs": [],
   "source": [
    "import math\n",
    "def binary_rep(n):\n",
    "    return math.log2(n & -n)+1\n",
    "n = int(input())\n",
    "print(int(binary_rep(n)))"
   ]
  },
  {
   "cell_type": "code",
   "execution_count": 35,
   "id": "cc740149",
   "metadata": {},
   "outputs": [
    {
     "name": "stdout",
     "output_type": "stream",
     "text": [
      "3\n"
     ]
    }
   ],
   "source": [
    "A=bin(276)\n",
    "print(A.count(\"1\"))"
   ]
  },
  {
   "cell_type": "code",
   "execution_count": 5,
   "id": "6c15887d",
   "metadata": {},
   "outputs": [
    {
     "name": "stdout",
     "output_type": "stream",
     "text": [
      "276\n",
      "3\n"
     ]
    }
   ],
   "source": [
    "A=int(input())\n",
    "B=bin(A)\n",
    "print(B.count(\"1\"))"
   ]
  },
  {
   "cell_type": "code",
   "execution_count": 9,
   "id": "14201b5f",
   "metadata": {},
   "outputs": [
    {
     "name": "stdout",
     "output_type": "stream",
     "text": [
      "1010\n"
     ]
    },
    {
     "data": {
      "text/plain": [
       "10"
      ]
     },
     "execution_count": 9,
     "metadata": {},
     "output_type": "execute_result"
    }
   ],
   "source": [
    "A=int(input(),2)\n",
    "A"
   ]
  },
  {
   "cell_type": "code",
   "execution_count": 17,
   "id": "9c4fcda8",
   "metadata": {},
   "outputs": [
    {
     "name": "stdout",
     "output_type": "stream",
     "text": [
      "arya\n",
      "r\n"
     ]
    }
   ],
   "source": [
    "A=input()\n",
    "B=[]\n",
    "for i in A:\n",
    "    if A.count(i)==1:\n",
    "        B.append(i)        \n",
    "        \n",
    "if B==[]:\n",
    "    print(-1)\n",
    "else:\n",
    "    print(B[0])\n",
    "    "
   ]
  },
  {
   "cell_type": "code",
   "execution_count": 21,
   "id": "678e5f40",
   "metadata": {},
   "outputs": [
    {
     "name": "stdout",
     "output_type": "stream",
     "text": [
      "2 2\n",
      "apple apple\n",
      "yes\n"
     ]
    }
   ],
   "source": [
    "T,L=input().split()\n",
    "l=int(L)\n",
    "A=input().split()\n",
    "\n",
    "for i in A:\n",
    "    if A.count(i)==l:\n",
    "        print(\"yes\")\n",
    "        break\n",
    "else:\n",
    "    print(\"no\")"
   ]
  },
  {
   "cell_type": "code",
   "execution_count": 13,
   "id": "0908183c",
   "metadata": {},
   "outputs": [
    {
     "name": "stdout",
     "output_type": "stream",
     "text": [
      "23 15 16\n",
      "357 65 10\n",
      "15 16 23 357 65 10\n",
      "[15, 16, 23]\n",
      "[10, 65, 357]\n"
     ]
    }
   ],
   "source": [
    "N,M=input().split()\n",
    "A=map(int,input().split())\n",
    "B=map(int,input().split())\n",
    "C=sorted(A)\n",
    "D=sorted(B)\n",
    "E=C+D[::-1]\n",
    "print(*E)\n"
   ]
  },
  {
   "cell_type": "code",
   "execution_count": 23,
   "id": "4cd10f5c",
   "metadata": {},
   "outputs": [
    {
     "name": "stdout",
     "output_type": "stream",
     "text": [
      "1 15\n"
     ]
    }
   ],
   "source": [
    "#array 14\n",
    "N=int(input())\n",
    "A=input().split()\n",
    "B=[]\n",
    "for i in A:\n",
    "    if A.count(i)>1:\n",
    "        B.append(i)\n",
    "        \n",
    "C=list(set(B))\n",
    "print(*C)"
   ]
  },
  {
   "cell_type": "code",
   "execution_count": 32,
   "id": "c2eeddfb",
   "metadata": {},
   "outputs": [
    {
     "name": "stdout",
     "output_type": "stream",
     "text": [
      "hello\n",
      "he*lo\n",
      "2\n"
     ]
    }
   ],
   "source": [
    "#array 15\n",
    "s=input()\n",
    "d=len(s)//2\n",
    "if len(s)%2==1:\n",
    "    print(s[0:d]+'*'+s[d+1:])\n",
    "else:\n",
    "    print(s[0:d-1]+'**'+s[d+1:])\n",
    "print(d)"
   ]
  },
  {
   "cell_type": "code",
   "execution_count": 45,
   "id": "b337896c",
   "metadata": {},
   "outputs": [
    {
     "name": "stdout",
     "output_type": "stream",
     "text": [
      "2 10\n",
      "12 13\n",
      "-1\n"
     ]
    }
   ],
   "source": [
    "#array20\n",
    "T,A=map(int,input().split())\n",
    "B=map(int,input().split())\n",
    "a=int(A)\n",
    "b=list(map(int,B))\n",
    "for i in b:\n",
    "    if a in b:\n",
    "        print(b.index(a))\n",
    "        break\n",
    "else:\n",
    "    print(-1)"
   ]
  },
  {
   "cell_type": "code",
   "execution_count": 13,
   "id": "1e2fa46d",
   "metadata": {},
   "outputs": [
    {
     "name": "stdout",
     "output_type": "stream",
     "text": [
      "3 3 1 Not Present Not Present\n"
     ]
    }
   ],
   "source": [
    "#array 22\n",
    "T=input()\n",
    "A=[1,1,1,2,2,2,3,8,9,7]\n",
    "Q=input()\n",
    "B=[1,2,3,4,5]\n",
    "C=[]\n",
    "for i in B:\n",
    "    if i in A:\n",
    "        C.append(A.count(i))\n",
    "    else:\n",
    "        C.append(\"Not Present\")\n",
    "print(*C)"
   ]
  },
  {
   "cell_type": "code",
   "execution_count": 2,
   "id": "9d6af001",
   "metadata": {},
   "outputs": [
    {
     "name": "stdout",
     "output_type": "stream",
     "text": [
      "5\n"
     ]
    },
    {
     "data": {
      "text/plain": [
       "[-3, -13, -23, -86, -87]"
      ]
     },
     "execution_count": 2,
     "metadata": {},
     "output_type": "execute_result"
    }
   ],
   "source": [
    "#array24\n",
    "T=input()\n",
    "A=input().split()\n",
    "A=list(map(int,A))\n",
    "B=[]\n",
    "for i in A:\n",
    "    B.append(i-(A[-1]+A[-2]+A[-3]))\n",
    "print(*B)\n",
    "    "
   ]
  },
  {
   "cell_type": "code",
   "execution_count": 12,
   "id": "21ddd07a",
   "metadata": {},
   "outputs": [
    {
     "ename": "SyntaxError",
     "evalue": "invalid syntax (2561762136.py, line 4)",
     "output_type": "error",
     "traceback": [
      "\u001b[1;36m  Input \u001b[1;32mIn [12]\u001b[1;36m\u001b[0m\n\u001b[1;33m    B=[i(if A.count(i)==1) else continue for i in A]\u001b[0m\n\u001b[1;37m         ^\u001b[0m\n\u001b[1;31mSyntaxError\u001b[0m\u001b[1;31m:\u001b[0m invalid syntax\n"
     ]
    }
   ],
   "source": [
    "#array 26\n",
    "T=input()\n",
    "A=input().split()\n",
    "A=list(map(int,A))\n",
    "B=[i for i in A if A.count(i)==1 else continue]\n",
    "if B==[]:\n",
    "    print(-1)\n",
    "else:\n",
    "    print(*B[::-1])"
   ]
  },
  {
   "cell_type": "code",
   "execution_count": 15,
   "id": "5fb82d21",
   "metadata": {},
   "outputs": [
    {
     "name": "stdout",
     "output_type": "stream",
     "text": [
      "1 0\n"
     ]
    }
   ],
   "source": [
    "T=input()\n",
    "A=[1, 2, 3, 4, 5, 6, 7, 7, 6, 5, 4, 3, 2, 0, 5, 6]\n",
    "A=list(map(int,A))\n",
    "B=[]\n",
    "for i in A:\n",
    "    if A.count(i)==1:\n",
    "        B.append(i)\n",
    "    else:\n",
    "        continue\n",
    "if B==[]:\n",
    "    print(-1)\n",
    "else:\n",
    "    print(*B)"
   ]
  },
  {
   "cell_type": "code",
   "execution_count": 22,
   "id": "e7853966",
   "metadata": {},
   "outputs": [
    {
     "name": "stdout",
     "output_type": "stream",
     "text": [
      "3 0 -1 -2\n",
      "-3\n"
     ]
    }
   ],
   "source": [
    "#array28\n",
    "T=input()\n",
    "A=list(map(int,input().split()))\n",
    "B=0\n",
    "for i in A:\n",
    "    if i<0 or i==0:\n",
    "        B=B+i\n",
    "    else:\n",
    "        continue\n",
    "print(B)\n"
   ]
  },
  {
   "cell_type": "code",
   "execution_count": 29,
   "id": "30cd3ad7",
   "metadata": {},
   "outputs": [
    {
     "name": "stdout",
     "output_type": "stream",
     "text": [
      "1\n",
      "111\n",
      "11111\n",
      "1111111\n",
      "111111111\n"
     ]
    }
   ],
   "source": [
    "#array29\n",
    "A=5\n",
    "B='1'\n",
    "for i in range(A):\n",
    "    print(B)\n",
    "    B=B+\"11\""
   ]
  },
  {
   "cell_type": "code",
   "execution_count": 59,
   "id": "3643054b",
   "metadata": {},
   "outputs": [
    {
     "name": "stdout",
     "output_type": "stream",
     "text": [
      "6 2\n",
      "1 2 3 4 5 6\n",
      "0\n"
     ]
    }
   ],
   "source": [
    "#array31\n",
    "T,N=map(int,input().split())\n",
    "A=map(int,input().split())\n",
    "A=list(map(int,A))\n",
    "B=[]\n",
    "C=0\n",
    "for i in A:\n",
    "    if i == N:\n",
    "        B.append(A.count(i))\n",
    "        break\n",
    "if B==[]:\n",
    "    print(-1)\n",
    "else:              \n",
    "    for i in B:\n",
    "        C=C+i\n",
    "    if C==1:\n",
    "        print(0)\n",
    "    else:\n",
    "        print(C-1)"
   ]
  },
  {
   "cell_type": "code",
   "execution_count": 9,
   "id": "d34cb38c",
   "metadata": {},
   "outputs": [
    {
     "name": "stdout",
     "output_type": "stream",
     "text": [
      "11\n"
     ]
    }
   ],
   "source": [
    "#array32\n",
    "T=input()\n",
    "A=input().split()\n",
    "A=list(map(int,A))\n",
    "B=input().split()\n",
    "B=list(map(int,B))\n",
    "C=A+B\n",
    "D=(sorted(C))  \n",
    "print(D[4]+D[5])"
   ]
  },
  {
   "cell_type": "code",
   "execution_count": 12,
   "id": "ea1149bf",
   "metadata": {},
   "outputs": [
    {
     "name": "stdout",
     "output_type": "stream",
     "text": [
      "1\n"
     ]
    }
   ],
   "source": [
    "#array35\n",
    "T=input()\n",
    "A=input().split()\n",
    "A=list(map(int,A))\n",
    "B=[A[0]+A[1]+A[2]]\n",
    "C=[A[-1]+A[-2]+A[-3]]\n",
    "if B==C:\n",
    "    print(1)\n",
    "else:\n",
    "    print(0)"
   ]
  },
  {
   "cell_type": "code",
   "execution_count": 16,
   "id": "df362c1e",
   "metadata": {},
   "outputs": [
    {
     "name": "stdout",
     "output_type": "stream",
     "text": [
      "1 1 2 5 5\n",
      "2\n"
     ]
    }
   ],
   "source": [
    "#T=input()\n",
    "A=input().split()\n",
    "A=list(map(int,A))\n",
    "B=[]\n",
    "for i in A:\n",
    "    if A.count(i)==1:\n",
    "        B.append(i)\n",
    "print(*B)\n",
    "    "
   ]
  },
  {
   "cell_type": "code",
   "execution_count": 26,
   "id": "3bc4d6e0",
   "metadata": {},
   "outputs": [
    {
     "name": "stdout",
     "output_type": "stream",
     "text": [
      "[99]\n",
      "1\n"
     ]
    }
   ],
   "source": [
    "#array40\n",
    "T=input()\n",
    "A=input().split()\n",
    "A=list(map(int,A))\n",
    "B=[]\n",
    "C=[]\n",
    "for i in A:\n",
    "    if A.count(i)==1:\n",
    "        B.append(i)\n",
    "    elif A.count(i)>4:\n",
    "        C.append(i)\n",
    "        break\n",
    "if len(C)==1:\n",
    "    print(*C)\n",
    "else:\n",
    "    print(*B[::-1])\n"
   ]
  },
  {
   "cell_type": "code",
   "execution_count": null,
   "id": "2b514592",
   "metadata": {},
   "outputs": [],
   "source": [
    "#array 42\n",
    "\n",
    "T=input()\n",
    "A=input().split()\n",
    "A=list(map(int,A))\n",
    "B=[]\n",
    "for i in A:\n",
    "    if A.count(i)==1:\n",
    "        B.append(i)\n",
    "print(*B)"
   ]
  },
  {
   "cell_type": "code",
   "execution_count": 13,
   "id": "e74f7857",
   "metadata": {},
   "outputs": [
    {
     "name": "stdout",
     "output_type": "stream",
     "text": [
      "4 5 6 7\n",
      "dealer0\n"
     ]
    }
   ],
   "source": [
    "#array43\n",
    "#T=input()\n",
    "A=input().split()\n",
    "A=list(map(int,A))\n",
    "B=min(A)\n",
    "C=A.index(B)\n",
    "C=str(C)\n",
    "print(\"dealer\"+C)\n",
    "\n"
   ]
  },
  {
   "cell_type": "code",
   "execution_count": 35,
   "id": "3458a24d",
   "metadata": {},
   "outputs": [
    {
     "name": "stdout",
     "output_type": "stream",
     "text": [
      "[6, 4]\n"
     ]
    }
   ],
   "source": [
    "#array44\n",
    "TB=input()\n",
    "A=input().split()\n",
    "A=list(map(int,A))\n",
    "NB=input()\n",
    "B=input().split()\n",
    "B=list(map(int,B))\n",
    "C=[]\n",
    "for i in B:\n",
    "    A.append(i)\n",
    "    A.sort()\n",
    "    a=A[::-1]\n",
    "    b=a.index(i)\n",
    "    C.append(b+1)\n",
    "    \n",
    "print(*C)"
   ]
  },
  {
   "cell_type": "code",
   "execution_count": 142,
   "id": "69cfa4da",
   "metadata": {},
   "outputs": [
    {
     "name": "stdout",
     "output_type": "stream",
     "text": [
      "[19, 1, 16, 5, 11, 7]\n"
     ]
    }
   ],
   "source": [
    "#array 47\n",
    "\n",
    "A=[5,1,7,11,16,19]\n",
    "B=sorted(A)\n",
    "C=[]\n",
    "def ag():\n",
    "    cont=len(B)//2\n",
    "    for i in B:\n",
    "        C.append(B[-1])\n",
    "        C.append(B[0])\n",
    "        cont=cont-1\n",
    "        B.remove(B[-1])\n",
    "        B.remove(B[0])\n",
    "    if len(B)==0:\n",
    "        print(C)\n",
    "    else:\n",
    "        ag()\n",
    "\n",
    "   \n",
    "           \n",
    "ag()\n",
    "\n",
    "       \n"
   ]
  },
  {
   "cell_type": "code",
   "execution_count": 143,
   "id": "79e7f3f1",
   "metadata": {},
   "outputs": [
    {
     "name": "stdout",
     "output_type": "stream",
     "text": [
      "5 1 7 11 16 19\n",
      "[19, 1, 16, 5, 11, 7]\n"
     ]
    }
   ],
   "source": [
    "A=input().split()\n",
    "A=list(map(int,A))\n",
    "B=sorted(A)\n",
    "C=[]\n",
    "def ag():\n",
    "    cont=len(B)//2\n",
    "    for i in B:\n",
    "        C.append(B[-1])\n",
    "        C.append(B[0])\n",
    "        cont=cont-1\n",
    "        B.remove(B[-1])\n",
    "        B.remove(B[0])\n",
    "    if len(B)==0:\n",
    "        print(C)\n",
    "    else:\n",
    "        ag()\n",
    "\n",
    "   \n",
    "           \n",
    "ag()"
   ]
  },
  {
   "cell_type": "code",
   "execution_count": 7,
   "id": "3e4d5da7",
   "metadata": {},
   "outputs": [
    {
     "name": "stdout",
     "output_type": "stream",
     "text": [
      "14\n"
     ]
    }
   ],
   "source": [
    "#array52\n",
    "T=input()\n",
    "A=input().split()\n",
    "A=list(map(int,A))\n",
    "A.sort()\n",
    "print(A[-1]+A[-2])"
   ]
  },
  {
   "cell_type": "code",
   "execution_count": 8,
   "id": "032c4572",
   "metadata": {},
   "outputs": [
    {
     "name": "stdout",
     "output_type": "stream",
     "text": [
      "9\n"
     ]
    }
   ],
   "source": [
    "#array53\n",
    "A=input().split()\n",
    "A=list(map(int,A))\n",
    "Sum=0\n",
    "for i in A:\n",
    "    Sum=Sum+i\n",
    "print(Sum)"
   ]
  },
  {
   "cell_type": "code",
   "execution_count": 30,
   "id": "87d2dfc4",
   "metadata": {},
   "outputs": [
    {
     "name": "stdout",
     "output_type": "stream",
     "text": [
      "4\n"
     ]
    }
   ],
   "source": [
    "#array56\n",
    "T=input()\n",
    "A=input().split()\n",
    "A=list(map(int,A))\n",
    "B=[]\n",
    "for i in A:\n",
    "    if A.count(i)>1:\n",
    "        if i not in B:\n",
    "            B.append(i)\n",
    "print(B[0])\n",
    "        \n",
    "        "
   ]
  },
  {
   "cell_type": "code",
   "execution_count": 32,
   "id": "ad0738d6",
   "metadata": {},
   "outputs": [
    {
     "name": "stdout",
     "output_type": "stream",
     "text": [
      "[1, 1, 1, 2]\n"
     ]
    }
   ],
   "source": [
    "#array57\n",
    "T,G=map(int,input().split())\n",
    "A=input().split()\n",
    "A=list(map(int,A))\n",
    "B=[]\n",
    "\n",
    "for i in A:\n",
    "    if i<G:\n",
    "        B.append(i)\n",
    "B=sorted(B)\n",
    "if B==[]:\n",
    "    print(-1)\n",
    "else:\n",
    "    print(*B)"
   ]
  },
  {
   "cell_type": "code",
   "execution_count": 35,
   "id": "f11cca1a",
   "metadata": {},
   "outputs": [
    {
     "name": "stdout",
     "output_type": "stream",
     "text": [
      "12\n",
      "5\n"
     ]
    }
   ],
   "source": [
    "#array 58\n",
    "A=input()\n",
    "B=[]\n",
    "C=[]\n",
    "for i in A:\n",
    "    B.append(int(i))\n",
    "for i in B:\n",
    "    C.append(i*i)\n",
    "print(sum(C))"
   ]
  },
  {
   "cell_type": "code",
   "execution_count": 47,
   "id": "68756fa9",
   "metadata": {},
   "outputs": [
    {
     "name": "stdout",
     "output_type": "stream",
     "text": [
      "5 1\n",
      "3 2 1 2 3\n",
      "3\n"
     ]
    }
   ],
   "source": [
    "#array59\n",
    "T,W=map(int,input().split())\n",
    "A=input().split()\n",
    "A=list(map(int,A))\n",
    "B=[]\n",
    "for i in A:\n",
    "    if i==W:\n",
    "        B.append(A.index(W)+1)\n",
    "        break\n",
    "if B==[]:\n",
    "    print(-1)\n",
    "else:\n",
    "    print(*B)\n",
    "\n",
    "    "
   ]
  },
  {
   "cell_type": "code",
   "execution_count": 29,
   "id": "7a6494cd",
   "metadata": {},
   "outputs": [
    {
     "name": "stdout",
     "output_type": "stream",
     "text": [
      "7000 8000 6500 1200 4000 2800 3000 5230\n",
      "1200 2800 3000 4000 5230 6500 7000 8000\n"
     ]
    }
   ],
   "source": [
    "#array62\n",
    "#T=input()\n",
    "A=input().split()\n",
    "A=list(map(int,A))\n",
    "A.sort()\n",
    "print(*A)\n"
   ]
  },
  {
   "cell_type": "code",
   "execution_count": 34,
   "id": "d16ec9aa",
   "metadata": {},
   "outputs": [
    {
     "name": "stdout",
     "output_type": "stream",
     "text": [
      "-1\n"
     ]
    }
   ],
   "source": [
    "#array 63\n",
    "#T=input()\n",
    "A=input().split()\n",
    "A=list(map(int,A))\n",
    "odd=[]\n",
    "even=[]\n",
    "for i in A:\n",
    "    if i%2==0:\n",
    "        even.append(i)\n",
    "    else:\n",
    "        odd.append(i)\n",
    "        \n",
    "if even==[] or odd==[]:\n",
    "    print(-1)\n",
    "else:\n",
    "    if len(odd)>len(even):\n",
    "        print(*even)\n",
    "\n",
    "    else:\n",
    "        print(*odd)"
   ]
  },
  {
   "cell_type": "code",
   "execution_count": 35,
   "id": "4876d212",
   "metadata": {},
   "outputs": [
    {
     "name": "stdout",
     "output_type": "stream",
     "text": [
      "5 6 7 2 1 9 3 8 10 4\n",
      "9\n"
     ]
    }
   ],
   "source": [
    "A=input().split()\n",
    "A=list(map(int,A))\n",
    "A.sort()\n",
    "print(A[-1]-A[0])"
   ]
  },
  {
   "cell_type": "code",
   "execution_count": 66,
   "id": "0fc1a8f2",
   "metadata": {},
   "outputs": [
    {
     "name": "stdout",
     "output_type": "stream",
     "text": [
      "5\n",
      "kabali\n",
      "kaabli\n",
      "kababa\n",
      "kab\n",
      "kabail\n",
      "3\n"
     ]
    }
   ],
   "source": [
    "#kabali kaabli kababa kab kabail\n",
    "s=int(input())\n",
    "Co=0\n",
    "A1=[]\n",
    "while Co<=s-1:\n",
    "    a=input()\n",
    "    A1.append(a)\n",
    "    Co=Co+1\n",
    "A=\"kabali\"\n",
    "B=sorted(A)\n",
    "C=[]\n",
    "D=0\n",
    "\n",
    "for i in A1:\n",
    "    C.append(sorted(i))\n",
    "for i in C:  \n",
    "    if i==B:\n",
    "        D=D+1\n",
    "    else:\n",
    "        pass\n",
    "if D==0:\n",
    "    print(0)\n",
    "    \n",
    "else:\n",
    "    print(D)"
   ]
  },
  {
   "cell_type": "code",
   "execution_count": 38,
   "id": "e98bd4c8",
   "metadata": {},
   "outputs": [
    {
     "name": "stdout",
     "output_type": "stream",
     "text": [
      "['a', 'a', 'b', 'i', 'k', 'l']\n"
     ]
    }
   ],
   "source": [
    "print(sorted(\"kabali\"))# Kabali kaabli kababa kab kabail"
   ]
  },
  {
   "cell_type": "code",
   "execution_count": 40,
   "id": "2c472b1f",
   "metadata": {},
   "outputs": [
    {
     "name": "stdout",
     "output_type": "stream",
     "text": [
      "1000 0\n",
      "3\n"
     ]
    }
   ],
   "source": [
    "A,B=input().split()\n",
    "C=0\n",
    "for i in A:\n",
    "    if i==B:\n",
    "        C=C+1\n",
    "if C==0:\n",
    "    print(-1)\n",
    "else:\n",
    "    print(C)\n",
    "        "
   ]
  },
  {
   "cell_type": "code",
   "execution_count": 48,
   "id": "1eacdbb6",
   "metadata": {},
   "outputs": [
    {
     "name": "stdout",
     "output_type": "stream",
     "text": [
      "5 2\n",
      "1 1 2 4 5\n",
      "2\n"
     ]
    }
   ],
   "source": [
    "T,K=input().split()\n",
    "K=int(K)\n",
    "A=input().split()\n",
    "A=list(map(int,A))\n",
    "A.sort()\n",
    "B=[]\n",
    "for i in A:\n",
    "    if i not in B:\n",
    "        B.append(i)\n",
    "if len(B)<K:\n",
    "    print(-1)\n",
    "else:\n",
    "    print(B[K-1])\n",
    "    "
   ]
  },
  {
   "cell_type": "code",
   "execution_count": null,
   "id": "1890e693",
   "metadata": {},
   "outputs": [],
   "source": [
    "T=input()\n",
    "A=input().split()\n",
    "A=list(map(int,A))\n",
    "B=[]\n",
    "\n",
    "for i in A:\n",
    "    if A.count(i)>1:\n",
    "        B.append(i)\n",
    "    else:\n",
    "        continue\n",
    "if B==[]:\n",
    "    print(-1)\n",
    "else:\n",
    "    print(len(B))"
   ]
  },
  {
   "cell_type": "code",
   "execution_count": 15,
   "id": "c3ab1c1a",
   "metadata": {},
   "outputs": [
    {
     "name": "stdout",
     "output_type": "stream",
     "text": [
      "yes\n"
     ]
    }
   ],
   "source": [
    "#array 79\n",
    "T=input()\n",
    "A=input().split()\n",
    "A=list(map(int,A))\n",
    "B=sorted(A)\n",
    "C=B[::-1]\n",
    "\n",
    "if A==B or A==C:\n",
    "    print(\"yes\")\n",
    "else:\n",
    "    print(\"no\")"
   ]
  },
  {
   "cell_type": "code",
   "execution_count": 19,
   "id": "5d8cff83",
   "metadata": {},
   "outputs": [
    {
     "name": "stdout",
     "output_type": "stream",
     "text": [
      "1 3 5 7 9\n",
      "2 4 6 8\n",
      "1 1 3 3 5 5 7 7 9 9\n",
      "1 3 5 7 9\n",
      "1 3 5 7 9\n"
     ]
    }
   ],
   "source": [
    "#T1,T2=input().split()\n",
    "A=input().split()\n",
    "B=input().split()\n",
    "A=list(map(int,A))\n",
    "B=list(map(int,B))\n",
    "C=A+B\n",
    "C=sorted(C)\n",
    "print(*C)"
   ]
  },
  {
   "cell_type": "code",
   "execution_count": 28,
   "id": "333bbff0",
   "metadata": {},
   "outputs": [
    {
     "name": "stdout",
     "output_type": "stream",
     "text": [
      "5 3\n",
      "1 3 3 4 4\n",
      "yes 2\n"
     ]
    }
   ],
   "source": [
    "#array89\n",
    "\n",
    "T,A=input().split()\n",
    "A=int(A)\n",
    "B=input().split()\n",
    "B=list(map(int,B))\n",
    "if A in B:\n",
    "    C=B.count(A)\n",
    "    C=str(C)\n",
    "    print(\"yes\"+\" \"+C)\n",
    "else:\n",
    "    print(\"no\")"
   ]
  },
  {
   "cell_type": "code",
   "execution_count": 32,
   "id": "e5514cf5",
   "metadata": {},
   "outputs": [
    {
     "name": "stdout",
     "output_type": "stream",
     "text": [
      "[7]\n"
     ]
    }
   ],
   "source": [
    "T=input()\n",
    "A=input().split()\n",
    "A=list(map(int,A))\n",
    "B=[]\n",
    "for i in A:\n",
    "    if A.count(i)==1:\n",
    "        B.append(i)\n",
    "print(*B)"
   ]
  },
  {
   "cell_type": "code",
   "execution_count": 37,
   "id": "601b1fa5",
   "metadata": {},
   "outputs": [
    {
     "name": "stdout",
     "output_type": "stream",
     "text": [
      "354\n"
     ]
    }
   ],
   "source": [
    "T=input()\n",
    "A=input().split()\n",
    "A=list(map(int,A))\n",
    "B=len(A)\n",
    "C=0\n",
    "for i in A:\n",
    "    C=C+i**B\n",
    "    \n",
    "print(C)"
   ]
  },
  {
   "cell_type": "code",
   "execution_count": 41,
   "id": "d2a92259",
   "metadata": {},
   "outputs": [
    {
     "name": "stdout",
     "output_type": "stream",
     "text": [
      "1234\n",
      "354\n"
     ]
    }
   ],
   "source": [
    "A=input()\n",
    "B=[]\n",
    "C=0\n",
    "for i in A:\n",
    "    B.append(int(i))\n",
    "length=len(B)\n",
    "for i in B:\n",
    "    C=C+i**length\n",
    "print(C)\n",
    "    \n"
   ]
  },
  {
   "cell_type": "code",
   "execution_count": 16,
   "id": "96af2941",
   "metadata": {},
   "outputs": [
    {
     "name": "stdout",
     "output_type": "stream",
     "text": [
      "5 5\n"
     ]
    }
   ],
   "source": [
    "T,W=input().split()\n",
    "A=input().split()\n",
    "A=list(map(int,A))\n",
    "B=input().split()\n",
    "B=list(map(int,B))\n",
    "C=[]\n",
    "for i in B:\n",
    "    A.append(i)\n",
    "    C.append(max(A))\n",
    "print(*C)"
   ]
  },
  {
   "cell_type": "code",
   "execution_count": 20,
   "id": "2fc2c73e",
   "metadata": {},
   "outputs": [
    {
     "name": "stdout",
     "output_type": "stream",
     "text": [
      "5\n",
      "2 14 15 14 3\n",
      "2 3\n"
     ]
    }
   ],
   "source": [
    "F=int(input())\n",
    "A=input().split()\n",
    "A=list(map(int,A))\n",
    "B=[]\n",
    "for i in A:\n",
    "    if i<F:\n",
    "        B.append(i)\n",
    "if B==[]:\n",
    "    print(-1)\n",
    "else:\n",
    "    B=sorted(B)\n",
    "    print(*B[::-1])"
   ]
  },
  {
   "cell_type": "code",
   "execution_count": 14,
   "id": "f8e5262c",
   "metadata": {},
   "outputs": [
    {
     "name": "stdout",
     "output_type": "stream",
     "text": [
      "6 5\n",
      "5 3 6 1 3 3\n",
      "\n",
      "[]\n"
     ]
    }
   ],
   "source": [
    "#array135\n",
    "T,B=input().split()\n",
    "B=int(B)\n",
    "A=input().split()\n",
    "A=list(map(int,A))\n",
    "C=[]\n",
    "for i in A:\n",
    "    if A.count(i)==B:\n",
    "        if i not in C:\n",
    "            C.append(i)\n",
    "if C==[]:\n",
    "    print(-1)\n",
    "else:\n",
    "    C=sorted(C)\n",
    "    print(*C)\n",
    "print(C)        "
   ]
  },
  {
   "cell_type": "code",
   "execution_count": 18,
   "id": "b9b1504b",
   "metadata": {},
   "outputs": [
    {
     "name": "stdout",
     "output_type": "stream",
     "text": [
      "5 10\n",
      "21\n"
     ]
    }
   ],
   "source": [
    "#array136\n",
    "\n",
    "A,B=map(int,input().split())\n",
    "C=0\n",
    "for i in range(A,B):\n",
    "    if not i%2==0:\n",
    "        C=C+i\n",
    "print(C)    "
   ]
  },
  {
   "cell_type": "code",
   "execution_count": 22,
   "id": "a9e64396",
   "metadata": {},
   "outputs": [
    {
     "data": {
      "text/plain": [
       "64"
      ]
     },
     "execution_count": 22,
     "metadata": {},
     "output_type": "execute_result"
    }
   ],
   "source": [
    "T=input()\n",
    "A=input().split()\n",
    "A=list(map(int,A))\n",
    "B=1\n",
    "for i in A:\n",
    "    B=B*i\n",
    "    \n",
    "if B%2==0:\n",
    "    print(\"even\")\n",
    "else:\n",
    "    print(\"odd\")"
   ]
  },
  {
   "cell_type": "code",
   "execution_count": 29,
   "id": "b57028a7",
   "metadata": {},
   "outputs": [
    {
     "name": "stdout",
     "output_type": "stream",
     "text": [
      "1\n",
      "5\n",
      "1\n"
     ]
    }
   ],
   "source": [
    "T=input()\n",
    "A=input().split()\n",
    "A=list(map(int,A))\n",
    "A.sort()\n",
    "B=A[0]\n",
    "l=len(A)\n",
    "C=0\n",
    "for i in A:\n",
    "    if i%B==0:\n",
    "        C=C+1\n",
    "if C==l:\n",
    "    print(B)\n",
    "\n"
   ]
  },
  {
   "cell_type": "code",
   "execution_count": 46,
   "id": "1ad1f668",
   "metadata": {},
   "outputs": [
    {
     "name": "stdout",
     "output_type": "stream",
     "text": [
      "5\n"
     ]
    }
   ],
   "source": [
    "K=10\n",
    "#A=input().split()\n",
    "#A=list(map(int,A))\n",
    "#A.sort()\n",
    "A=[1,2,3,4,15]\n",
    "A.sort()\n",
    "B=[]\n",
    "if K in A:\n",
    "    print(K)\n",
    "if K<A[-1] and K>A[-2]:\n",
    "    prin\n",
    "else:\n",
    "    for i in A:\n",
    "        B.append(i-K)\n",
    "        \n",
    "B=list(map(abs,B))\n",
    "C=min(B)\n",
    "print(K-C)"
   ]
  },
  {
   "cell_type": "code",
   "execution_count": 4,
   "id": "e90eb873",
   "metadata": {},
   "outputs": [
    {
     "name": "stdout",
     "output_type": "stream",
     "text": [
      "5 2 4\n",
      "1 2 3 4 5\n",
      "2\n"
     ]
    }
   ],
   "source": [
    "T,R1,R2=list(map(int,input().split()))\n",
    "A=input().split()\n",
    "A=list(map(int,A))\n",
    "B=[]\n",
    "for i in range(R1-1,R2):\n",
    "    B.append(A[i])\n",
    "print(min(B))"
   ]
  },
  {
   "cell_type": "code",
   "execution_count": 32,
   "id": "77a161aa",
   "metadata": {},
   "outputs": [
    {
     "name": "stdout",
     "output_type": "stream",
     "text": [
      "1 3\n",
      "2 4 6\n",
      "0 9 10 11\n",
      "0 1 2 3 4 6 9 10 11\n"
     ]
    }
   ],
   "source": [
    "K=int(input())\n",
    "C=0\n",
    "A=[]\n",
    "while C<=K-1:\n",
    "    i=input().split()\n",
    "    A.append(i)\n",
    "    C=C+1\n",
    "B=[]\n",
    "for i in A:\n",
    "    for j in i:\n",
    "        B.append(j)\n",
    "   \n",
    "B=list(map(int,B))\n",
    "B.sort()\n",
    "print(*B)"
   ]
  },
  {
   "cell_type": "code",
   "execution_count": 33,
   "id": "21c7c3bf",
   "metadata": {
    "scrolled": true
   },
   "outputs": [
    {
     "name": "stdout",
     "output_type": "stream",
     "text": [
      "413\n",
      "E\n"
     ]
    }
   ],
   "source": [
    "A=input()\n",
    "B=[]\n",
    "for i in A:\n",
    "    B.append(int(i))\n",
    "odd=[]\n",
    "for i in B:\n",
    "    if i%2==0:\n",
    "        continue\n",
    "    else:\n",
    "        odd.append(i)\n",
    "C=sum(odd)\n",
    "if C%2==0:\n",
    "    print(\"E\")\n",
    "else:\n",
    "    print(\"O\")\n",
    "\n",
    "        "
   ]
  },
  {
   "cell_type": "code",
   "execution_count": 45,
   "id": "0ae52f64",
   "metadata": {},
   "outputs": [
    {
     "name": "stdout",
     "output_type": "stream",
     "text": [
      "7\n",
      "1 2 3 5 6 7\n",
      "4\n"
     ]
    }
   ],
   "source": [
    "T=int(input())\n",
    "A=input().split()\n",
    "A=list(map(int,A))\n",
    "A.sort()\n",
    "B=[]\n",
    "for i in range(1,T+1):\n",
    "    B.append(i)\n",
    "\n",
    "for i,j in zip(A,B):\n",
    "    if i==j:\n",
    "        continue\n",
    "    elif i!=j:\n",
    "        print(j)\n",
    "        break\n",
    "        "
   ]
  },
  {
   "cell_type": "code",
   "execution_count": 40,
   "id": "518c9ec7",
   "metadata": {},
   "outputs": [
    {
     "name": "stdout",
     "output_type": "stream",
     "text": [
      "1 2\n"
     ]
    }
   ],
   "source": [
    "T,N=input().split()\n",
    "N=int(N)\n",
    "A=input().split()\n",
    "A=list(map(int,A))\n",
    "B=[]\n",
    "for i in A:\n",
    "    if A.count(i)<N:\n",
    "        B.append(i)\n",
    "B=sorted(B)\n",
    "print(*B)"
   ]
  },
  {
   "cell_type": "code",
   "execution_count": 47,
   "id": "86948e20",
   "metadata": {},
   "outputs": [
    {
     "name": "stdout",
     "output_type": "stream",
     "text": [
      "7 3\n",
      "1 2 3 4 5 6 7\n",
      "2\n"
     ]
    }
   ],
   "source": [
    "T,N=input().split()\n",
    "N=int(N)\n",
    "A=input().split()\n",
    "A=list(map(int,A))\n",
    "print(A.index(N))"
   ]
  },
  {
   "cell_type": "code",
   "execution_count": 50,
   "id": "5bf6e021",
   "metadata": {},
   "outputs": [
    {
     "name": "stdout",
     "output_type": "stream",
     "text": [
      "654\n",
      "no\n"
     ]
    }
   ],
   "source": [
    "A=input()\n",
    "B=[]\n",
    "for i in A:\n",
    "    B.append(int(i))\n",
    "B=sum(B)\n",
    "B=str(B)\n",
    "C=B[::-1]\n",
    "if B==C:\n",
    "    print(\"yes\")\n",
    "else:\n",
    "    print(\"no\")\n",
    "\n",
    "    "
   ]
  },
  {
   "cell_type": "code",
   "execution_count": 59,
   "id": "6a20fde5",
   "metadata": {},
   "outputs": [
    {
     "name": "stdout",
     "output_type": "stream",
     "text": [
      "-1\n"
     ]
    }
   ],
   "source": [
    "T=input()\n",
    "A=input().split()\n",
    "A=list(map(int,A))\n",
    "B=[]\n",
    "for i in range(len(A)):\n",
    "    if i%2==0 and  A[i]%2!=0:\n",
    "        B.append(A[i])\n",
    "    if i%2!=0 and  A[i]%2==0:\n",
    "        B.append(A[i])\n",
    "if B==[]:\n",
    "    print(-1)\n",
    "else:\n",
    "    print(*B)"
   ]
  },
  {
   "cell_type": "code",
   "execution_count": 3,
   "id": "58f8e80d",
   "metadata": {},
   "outputs": [
    {
     "name": "stdout",
     "output_type": "stream",
     "text": [
      "5\n",
      "6 7 3 3 4 5\n",
      "3 4 5\n"
     ]
    }
   ],
   "source": [
    "T=input()\n",
    "A=input().split()\n",
    "A=list(map(int,A))\n",
    "B=[]\n",
    "for i in range(len(A)):\n",
    "    if i==A[i]:\n",
    "        B.append(A[i])\n",
    "\n",
    "if B==[]:\n",
    "    print(-1)\n",
    "else:\n",
    "    B.sort()\n",
    "    print(*B)"
   ]
  },
  {
   "cell_type": "code",
   "execution_count": 7,
   "id": "b45974a4",
   "metadata": {},
   "outputs": [
    {
     "name": "stdout",
     "output_type": "stream",
     "text": [
      "6 3\n",
      "1 2 3 4 5 6\n",
      "4\n"
     ]
    }
   ],
   "source": [
    "T,K=input().split()\n",
    "K=int(K)\n",
    "A=input().split()\n",
    "A=list(map(int,A))\n",
    "B=[]\n",
    "for i in A:\n",
    "    if i not in B:\n",
    "        B.append(i)\n",
    "B.sort()\n",
    "print(B[-K])\n"
   ]
  },
  {
   "cell_type": "code",
   "execution_count": 12,
   "id": "04301a70",
   "metadata": {},
   "outputs": [
    {
     "name": "stdout",
     "output_type": "stream",
     "text": [
      "222\n",
      "6\n"
     ]
    }
   ],
   "source": [
    "A=input()\n",
    "B=[]\n",
    "C=[]\n",
    "for i in A:\n",
    "    B.append(int(i))\n",
    "for i in B:\n",
    "    if i==0:\n",
    "        C.append(i)\n",
    "    else:\n",
    "        C.append(i**(i-1))\n",
    "print(sum(C))"
   ]
  },
  {
   "cell_type": "code",
   "execution_count": 14,
   "id": "ce2f6bce",
   "metadata": {},
   "outputs": [
    {
     "name": "stdout",
     "output_type": "stream",
     "text": [
      "2 4 8\n"
     ]
    }
   ],
   "source": [
    "A=int(input())\n",
    "B=[]\n",
    "C=[]\n",
    "for i in range(1,A+1):\n",
    "    if A%i==0:\n",
    "        B.append(i)\n",
    "for i in B:\n",
    "    if i%2==0:\n",
    "        C.append(i)\n",
    "print(*C)\n"
   ]
  },
  {
   "cell_type": "code",
   "execution_count": 27,
   "id": "a96960cf",
   "metadata": {},
   "outputs": [
    {
     "name": "stdout",
     "output_type": "stream",
     "text": [
      "yes\n",
      "[1, 2]\n",
      "[3, 4, 5, 6, 7]\n"
     ]
    }
   ],
   "source": [
    "#T,K=input().split()\n",
    "K=6\n",
    "#A=input().split()\n",
    "#A=list(map(int,A))\n",
    "A=[1,2,3,4,5,6,7]\n",
    "B=len(A)//3\n",
    "C=[]\n",
    "D=[]\n",
    "E=0\n",
    "for i in range(0,B):\n",
    "    C.append(A[i])\n",
    "for i in range(B,len(A)):\n",
    "    D.append(A[i])\n",
    "\n",
    "for i in C:\n",
    "    for j in D:\n",
    "        if i+j==K:\n",
    "            E=E+1\n",
    "        else:\n",
    "            continue\n",
    "if E>=1:\n",
    "    print(\"yes\")\n",
    "else:\n",
    "    print(\"no\")\n",
    "            \n",
    "print(C)\n",
    "print(D)"
   ]
  },
  {
   "cell_type": "code",
   "execution_count": 4,
   "id": "43edb060",
   "metadata": {},
   "outputs": [
    {
     "name": "stdout",
     "output_type": "stream",
     "text": [
      "yes\n"
     ]
    }
   ],
   "source": [
    "A=[1,2,3,4,5,6,7]\n",
    "B=[3,4,5,6,7,1]\n",
    "D=0\n",
    "for i in B:\n",
    "    if i not in A:\n",
    "        D=D+1    \n",
    "if D>0:\n",
    "    print(\"no\")\n",
    "else:\n",
    "    print(\"yes\")\n",
    "    \n",
    "   \n",
    "    "
   ]
  },
  {
   "cell_type": "code",
   "execution_count": 7,
   "id": "677b53ed",
   "metadata": {},
   "outputs": [
    {
     "name": "stdout",
     "output_type": "stream",
     "text": [
      "1\n",
      "2\n",
      "2\n"
     ]
    }
   ],
   "source": [
    "T=int(input())\n",
    "A=input().split()\n",
    "A=list(map(int,A))\n",
    "C=[]\n",
    "for i in A:\n",
    "    if i*T in A:\n",
    "        C.append(i)\n",
    "\n",
    "if C==[]:\n",
    "    print(0)\n",
    "else:\n",
    "    print(*C)\n"
   ]
  },
  {
   "cell_type": "code",
   "execution_count": 8,
   "id": "2737b105",
   "metadata": {},
   "outputs": [
    {
     "name": "stdout",
     "output_type": "stream",
     "text": [
      "[3, 2, 2, 1]\n"
     ]
    }
   ],
   "source": [
    "T=int(input())\n",
    "A=input().split()\n",
    "A=list(map(int,A))\n",
    "B=[]\n",
    "C=[]\n",
    "for i in A:\n",
    "    B.append(i)\n",
    "    C.append(min(B))\n",
    "print(*C)"
   ]
  },
  {
   "cell_type": "code",
   "execution_count": 17,
   "id": "2a24b1e0",
   "metadata": {},
   "outputs": [
    {
     "name": "stdout",
     "output_type": "stream",
     "text": [
      "2.6666666666666665\n"
     ]
    }
   ],
   "source": [
    "print(8/3)"
   ]
  },
  {
   "cell_type": "code",
   "execution_count": 22,
   "id": "e1610cef",
   "metadata": {},
   "outputs": [
    {
     "name": "stdout",
     "output_type": "stream",
     "text": [
      "[4, 5, 1, 2, 3]\n",
      "[2, 4, 1, 3]\n"
     ]
    }
   ],
   "source": [
    "#right rotate\n",
    "A=[1,2,3,4,5]\n",
    "B=2\n",
    "for i in range(B):\n",
    "    popped=A.pop(len(A)-1)\n",
    "    A.insert(0,popped)\n",
    "print(A)\n",
    "#left rotate\n",
    "A1=[3,2,4,1]\n",
    "B=1\n",
    "for i in range(B):\n",
    "    popped=A1.pop(0)\n",
    "    A1.append(popped)\n",
    "print(A1)"
   ]
  },
  {
   "cell_type": "code",
   "execution_count": 24,
   "id": "5c6982b8",
   "metadata": {},
   "outputs": [
    {
     "name": "stdout",
     "output_type": "stream",
     "text": [
      "4 1\n",
      "2 3 4 1\n",
      "3 4 1 2\n"
     ]
    }
   ],
   "source": [
    "T,B=input().split()\n",
    "B=int(B)\n",
    "A=input().split()\n",
    "A=list(map(int,A))\n",
    "for i in range(B):\n",
    "    PE=A.pop(0)\n",
    "    A.append(PE)\n",
    "print(*A)"
   ]
  },
  {
   "cell_type": "code",
   "execution_count": 29,
   "id": "1de06e92",
   "metadata": {},
   "outputs": [
    {
     "name": "stdout",
     "output_type": "stream",
     "text": [
      "123\n",
      "132\n",
      "[['1', '2', '3'], ['1', '3', '2'], ['2', '1', '3'], ['2', '3', '1'], ['3', '1', '2'], ['3', '2', '1']]\n",
      "['123', '132', '213', '231', '312', '321']\n",
      "[123, 132, 213, 231, 312, 321]\n"
     ]
    }
   ],
   "source": [
    "from itertools import permutations\n",
    "A=input()\n",
    "B=[]\n",
    "C=[]\n",
    "D=[]\n",
    "\n",
    "for i in permutations(A):\n",
    "    B.append(list(i))\n",
    "    \n",
    "for i in B:\n",
    "    C.append(\"\".join(i))\n",
    "\n",
    "for i in C:\n",
    "    D.append(int(i))\n",
    "\n",
    "E=D[0],D[1]\n",
    "if D[0]==D[1]:\n",
    "    print(\"impossible\")\n",
    "else:\n",
    "    print(max(E))\n",
    "    "
   ]
  },
  {
   "cell_type": "code",
   "execution_count": 38,
   "id": "7e45f863",
   "metadata": {},
   "outputs": [
    {
     "name": "stdout",
     "output_type": "stream",
     "text": [
      "1 5\n"
     ]
    }
   ],
   "source": [
    "A=[1,2,3,4,5]\n",
    "a=min(A)\n",
    "b=max(A)\n",
    "print(A.index(a)+1,A.index(b)+1)"
   ]
  },
  {
   "cell_type": "code",
   "execution_count": 45,
   "id": "e4d8d1fa",
   "metadata": {},
   "outputs": [
    {
     "name": "stdout",
     "output_type": "stream",
     "text": [
      "[20, 2, 45, 3]\n"
     ]
    }
   ],
   "source": [
    "A=[15,20,20,45,45,45]\n",
    "B=[]\n",
    "C=[]\n",
    "for i in A:\n",
    "    if A.count(i)>1:\n",
    "        if i not in B:\n",
    "            B.append(i)\n",
    "            \n",
    "for i in B:\n",
    "    C.append(i)\n",
    "    C.append(A.count(i))\n",
    "print(C)"
   ]
  },
  {
   "cell_type": "code",
   "execution_count": 64,
   "id": "31213173",
   "metadata": {},
   "outputs": [
    {
     "name": "stdout",
     "output_type": "stream",
     "text": [
      "10\n",
      "2 3 5 7\n",
      "2\n"
     ]
    }
   ],
   "source": [
    "num=int(input())\n",
    "A=[]\n",
    "for number in range(1,num+1):\n",
    "    if number >1:\n",
    "        count=0\n",
    "        for i in range(2,number):\n",
    "            if number %i==0:\n",
    "                count=count+1\n",
    "        if count==0:\n",
    "            A.append(number)\n",
    "print(*A)"
   ]
  },
  {
   "cell_type": "code",
   "execution_count": 65,
   "id": "70556b3b",
   "metadata": {},
   "outputs": [
    {
     "name": "stdout",
     "output_type": "stream",
     "text": [
      "2 3\n",
      "1 0 2\n",
      "0 8 7\n",
      "0\n"
     ]
    }
   ],
   "source": [
    "T,N=input().split()\n",
    "A=input().split()\n",
    "A=list(map(int,A))\n",
    "B=input().split()\n",
    "B=list(map(int,B))\n",
    "C=[]\n",
    "for i in A:\n",
    "    if i in B:\n",
    "        C.append(i)\n",
    "if C==[]:\n",
    "    print(-1)\n",
    "else:\n",
    "    print(*C)\n",
    "        "
   ]
  },
  {
   "cell_type": "code",
   "execution_count": 66,
   "id": "7413457d",
   "metadata": {},
   "outputs": [
    {
     "name": "stdout",
     "output_type": "stream",
     "text": [
      "[31, 7, 8, 34, -40]\n"
     ]
    }
   ],
   "source": [
    "T=input()\n",
    "A=input().split()\n",
    "A=list(map(int,A))\n",
    "B=input().split()\n",
    "B=list(map(int,B))\n",
    "C=[]\n",
    "for i,j in zip(A,B):\n",
    "    C.append(i+j)\n",
    "print(*C)\n",
    "    "
   ]
  },
  {
   "cell_type": "code",
   "execution_count": 74,
   "id": "7cae9f96",
   "metadata": {},
   "outputs": [
    {
     "name": "stdout",
     "output_type": "stream",
     "text": [
      "7 2\n",
      "1 2 3 4 5 6 7 8\n",
      "3 4 5 6 7 8 1 2\n"
     ]
    }
   ],
   "source": [
    "T,K=input().split()\n",
    "K=int(K)\n",
    "A=input().split()\n",
    "A=list(map(int,A))\n",
    "for i in range(K):\n",
    "    PE=A.pop(0)\n",
    "    A.append(PE)\n",
    "print(*A)"
   ]
  },
  {
   "cell_type": "code",
   "execution_count": 84,
   "id": "8264322d",
   "metadata": {},
   "outputs": [
    {
     "name": "stdout",
     "output_type": "stream",
     "text": [
      "7\n",
      "1 2 3 2 3 4 3\n",
      "2 2 3 3 3\n"
     ]
    }
   ],
   "source": [
    "T=input()\n",
    "A=input().split()\n",
    "A=list(map(int,A))\n",
    "B=[]\n",
    "for i in A:\n",
    "    if A.count(i)>1:\n",
    "        if i not in B:\n",
    "            B.append(i)\n",
    "if B==[]:\n",
    "    print(\"unique\")\n",
    "else:\n",
    "    B.sort()\n",
    "    print(*B)"
   ]
  },
  {
   "cell_type": "code",
   "execution_count": 4,
   "id": "53b27b93",
   "metadata": {},
   "outputs": [
    {
     "name": "stdout",
     "output_type": "stream",
     "text": [
      "5\n",
      "1 2 3 4 5\n",
      "3\n",
      "1 2 3\n",
      "1 2 3 4 5\n"
     ]
    }
   ],
   "source": [
    "T1=input()\n",
    "A=input().split()\n",
    "A=list(map(int,A))\n",
    "T2=input()\n",
    "B=input().split()\n",
    "B=list(map(int,B))\n",
    "for i in B:\n",
    "    if i not in A:\n",
    "        A.append(i)\n",
    "A=sorted(A)\n",
    "print(*A)"
   ]
  },
  {
   "cell_type": "code",
   "execution_count": 10,
   "id": "1dd7fda1",
   "metadata": {},
   "outputs": [
    {
     "name": "stdout",
     "output_type": "stream",
     "text": [
      "[2, 10, 2, 8, 2, 5, 2, 3, 2, 1, 4, 10, 4, 8, 4, 5, 4, 3, 4, 1, 6, 10, 6, 8, 6, 5, 6, 3, 6, 1, 7, 10, 7, 8, 7, 5, 7, 3, 7, 1, 9, 10, 9, 8, 9, 5, 9, 3, 9, 1]\n"
     ]
    }
   ],
   "source": []
  },
  {
   "cell_type": "code",
   "execution_count": 16,
   "id": "fb7bf5e6",
   "metadata": {},
   "outputs": [
    {
     "name": "stdout",
     "output_type": "stream",
     "text": [
      "14 117\n",
      "15 26 35 98 61 1230 75 96 63 21 1654 98654 320145 987\n",
      "[21, 1654, 98654, 320145, 987, 15, 26, 35, 98, 61, 1230, 75, 96, 63]\n"
     ]
    }
   ],
   "source": [
    "T,K=input().split()\n",
    "K=int(K)\n",
    "A=input().split()\n",
    "A=list(map(int,A))\n",
    "for i in range(K):\n",
    "    PE=A.pop(len(A)-1)\n",
    "    A.insert(0,PE)\n",
    "print(*A)"
   ]
  },
  {
   "cell_type": "code",
   "execution_count": 8,
   "id": "c0928252",
   "metadata": {},
   "outputs": [
    {
     "name": "stdout",
     "output_type": "stream",
     "text": [
      "10\n",
      "2 1 1 3 1 8 7 2 2 6 \n",
      "2\n"
     ]
    }
   ],
   "source": [
    "T=input()\n",
    "A=input().split()\n",
    "A=list(map(int,A))\n",
    "B=[]\n",
    "for i in A:\n",
    "    if A.count(i)==3:\n",
    "        if i not in B:\n",
    "            B.append(i)\n",
    "print(len(B))"
   ]
  },
  {
   "cell_type": "code",
   "execution_count": 14,
   "id": "1aa13363",
   "metadata": {},
   "outputs": [
    {
     "name": "stdout",
     "output_type": "stream",
     "text": [
      "['G', 'V', 'i', 'u']\n"
     ]
    }
   ],
   "source": [
    "A=\"GuVi\"\n",
    "print(sorted(A))"
   ]
  },
  {
   "cell_type": "code",
   "execution_count": 30,
   "id": "bcc06477",
   "metadata": {},
   "outputs": [
    {
     "name": "stdout",
     "output_type": "stream",
     "text": [
      "99\n"
     ]
    }
   ],
   "source": [
    "A='18'\n",
    "A1=int(A)\n",
    "B=[]\n",
    "D=[]\n",
    "for i in A:\n",
    "    B.append(int(i))\n",
    "B1=sum(B)\n",
    "C=[]\n",
    "C.append(B1)\n",
    "for i in range(A1+1):\n",
    "    if i == B1:\n",
    "        C.append(i)\n",
    "for i in C:\n",
    "    D.append(str(i))\n",
    "print(\"\".join(D))\n",
    "\n",
    "\n"
   ]
  },
  {
   "cell_type": "code",
   "execution_count": 8,
   "id": "77b4d600",
   "metadata": {},
   "outputs": [
    {
     "name": "stdout",
     "output_type": "stream",
     "text": [
      "Verified Verified abc1 Verified\n"
     ]
    }
   ],
   "source": [
    "T=input()\n",
    "A=input().split()\n",
    "B=[]\n",
    "C=[]\n",
    "for i in A:\n",
    "    if i not in B:\n",
    "        B.append(i)\n",
    "        C.append(\"Verified\")\n",
    "    elif i in B:\n",
    "        C.append(i+\"1\")\n",
    "print(*C)"
   ]
  },
  {
   "cell_type": "code",
   "execution_count": 9,
   "id": "2147327d",
   "metadata": {
    "scrolled": true
   },
   "outputs": [
    {
     "data": {
      "text/plain": [
       "[0, 1, 1, 2, 4, 5, 6, 6, 9]"
      ]
     },
     "execution_count": 9,
     "metadata": {},
     "output_type": "execute_result"
    }
   ],
   "source": [
    "A=['12','19','546','60']\n",
    "B=[]\n",
    "for i in A:\n",
    "    for j in i:\n",
    "        B.append(int(j))\n",
    "B.sort()\n",
    "B"
   ]
  },
  {
   "cell_type": "code",
   "execution_count": 13,
   "id": "734e91cd",
   "metadata": {},
   "outputs": [
    {
     "name": "stdout",
     "output_type": "stream",
     "text": [
      "59\n",
      "Great\n"
     ]
    }
   ],
   "source": [
    "from functools import reduce\n",
    "A=input()\n",
    "a=int(A)\n",
    "B=[]\n",
    "for i in A:\n",
    "    B.append(int(i))\n",
    "C=sum(B)\n",
    "D=reduce(lambda a,b:a*b,B)\n",
    "F_result=C+D\n",
    "\n",
    "if F_result == a:\n",
    "    print(\"Great\")\n",
    "else:\n",
    "    print(\"no\")"
   ]
  },
  {
   "cell_type": "code",
   "execution_count": 27,
   "id": "94ffc459",
   "metadata": {},
   "outputs": [
    {
     "name": "stdout",
     "output_type": "stream",
     "text": [
      "6\n"
     ]
    }
   ],
   "source": [
    "from functools import reduce\n",
    "A=[2,4,4,2]\n",
    "B=reduce(lambda a,b:a|b,A)\n",
    "print(B)"
   ]
  },
  {
   "cell_type": "code",
   "execution_count": 48,
   "id": "22526bf0",
   "metadata": {},
   "outputs": [
    {
     "name": "stdout",
     "output_type": "stream",
     "text": [
      "4 9\n",
      "1\n"
     ]
    }
   ],
   "source": [
    "A=map(int,input().split())\n",
    "C=0\n",
    "for j in A:\n",
    "    for i in range(2,j):\n",
    "        if j%i==0:\n",
    "            C=C+1        \n",
    "if C==2 or C==0:\n",
    "    print(1)\n",
    "else:\n",
    "    print(0)\n"
   ]
  },
  {
   "cell_type": "code",
   "execution_count": 66,
   "id": "acf27aba",
   "metadata": {},
   "outputs": [
    {
     "name": "stdout",
     "output_type": "stream",
     "text": [
      "112 139 165 175 262 130\n",
      "22\n",
      "1 1 1 1 1 1\n"
     ]
    }
   ],
   "source": [
    "T=input()\n",
    "A=map(int,input().split())\n",
    "B=[]\n",
    "Date=int(input())\n",
    "for i in A:\n",
    "    if i%Date==0:\n",
    "        B.append(1)\n",
    "    else:\n",
    "        B.append(0)\n",
    "print(*B)"
   ]
  },
  {
   "cell_type": "code",
   "execution_count": null,
   "id": "251b4ed8",
   "metadata": {},
   "outputs": [],
   "source": [
    "s=int(input())\n",
    "Co=0\n",
    "A1=[]\n",
    "while Co<=s-1:\n",
    "    a=input()\n",
    "    A1.append(a)\n",
    "    Co=Co+1\n",
    "A=\"kabali\"\n",
    "B=sorted(A)\n",
    "C=[]\n",
    "D=0\n",
    "\n",
    "for i in A1:\n",
    "    C.append(sorted(i))\n",
    "for i in C:  \n",
    "    if i==B:\n",
    "        D=D+1\n",
    "    else:\n",
    "        pass\n",
    "if D==0:\n",
    "    print(0)\n",
    "    \n",
    "else:\n",
    "    print(D)"
   ]
  },
  {
   "cell_type": "code",
   "execution_count": 4,
   "id": "ec0987ec",
   "metadata": {},
   "outputs": [
    {
     "name": "stdout",
     "output_type": "stream",
     "text": [
      "5\n",
      "code\n",
      "overload\n",
      "sundar\n",
      "vishal\n",
      "nagulan\n",
      "no\n"
     ]
    }
   ],
   "source": [
    "T=int(input())\n",
    "Co = 0\n",
    "A = []\n",
    "\n",
    "while Co < T:\n",
    "    yes=0\n",
    "    a = input()\n",
    "    A.append(a)\n",
    "    Co = Co+1\n",
    "for i in range(T-1):\n",
    "    if A[i]==A[i+1]:\n",
    "        yes+=1\n",
    "    else:\n",
    "        continue \n",
    "if yes>0:\n",
    "    print(\"yes\")\n",
    "else:\n",
    "    print(\"no\")"
   ]
  },
  {
   "cell_type": "code",
   "execution_count": 40,
   "id": "5dec5a70",
   "metadata": {},
   "outputs": [
    {
     "name": "stdout",
     "output_type": "stream",
     "text": [
      "5 3\n",
      "code\n",
      "overload\n",
      "vishal\n",
      "vishal\n",
      "vishal\n"
     ]
    },
    {
     "ename": "IndexError",
     "evalue": "list index out of range",
     "output_type": "error",
     "traceback": [
      "\u001b[1;31m---------------------------------------------------------------------------\u001b[0m",
      "\u001b[1;31mIndexError\u001b[0m                                Traceback (most recent call last)",
      "Input \u001b[1;32mIn [40]\u001b[0m, in \u001b[0;36m<cell line: 9>\u001b[1;34m()\u001b[0m\n\u001b[0;32m     10\u001b[0m y\u001b[38;5;241m=\u001b[39m\u001b[38;5;241m0\u001b[39m\n\u001b[0;32m     11\u001b[0m n\u001b[38;5;241m=\u001b[39m\u001b[38;5;241m0\u001b[39m\n\u001b[1;32m---> 12\u001b[0m \u001b[38;5;28;01mif\u001b[39;00m B[j]\u001b[38;5;241m==\u001b[39mB[j\u001b[38;5;241m+\u001b[39m\u001b[38;5;241m1\u001b[39m]\u001b[38;5;241m==\u001b[39m\u001b[43mB\u001b[49m\u001b[43m[\u001b[49m\u001b[43mj\u001b[49m\u001b[38;5;241;43m+\u001b[39;49m\u001b[38;5;241;43m2\u001b[39;49m\u001b[43m]\u001b[49m:\n\u001b[0;32m     13\u001b[0m     y\u001b[38;5;241m=\u001b[39my\u001b[38;5;241m+\u001b[39m\u001b[38;5;241m1\u001b[39m\n\u001b[0;32m     14\u001b[0m \u001b[38;5;28;01melse\u001b[39;00m:\n",
      "\u001b[1;31mIndexError\u001b[0m: list index out of range"
     ]
    }
   ],
   "source": [
    "T,L=map(int,input().split())\n",
    "i=0\n",
    "B=[]\n",
    "while i<T:\n",
    "    A=input()\n",
    "    B.append(A)\n",
    "    i=i+1\n",
    "\n",
    "for j in range(len(B)-1):\n",
    "    y=0\n",
    "    n=0\n",
    "    if B[j]==B[j+1]==B[j+2]:\n",
    "        y=y+1\n",
    "    else:\n",
    "        n=n+1\n",
    "if y>0:\n",
    "    print(\"yes\")\n",
    "else:\n",
    "    print(\"no\")\n",
    "    "
   ]
  },
  {
   "cell_type": "code",
   "execution_count": 50,
   "id": "2f823845",
   "metadata": {},
   "outputs": [
    {
     "name": "stdout",
     "output_type": "stream",
     "text": [
      "string 2\n",
      "sTrInG\n"
     ]
    }
   ],
   "source": [
    "A,B=input().split()\n",
    "B=int(B)\n",
    "C=\"\"\n",
    "for i in range(0,len(A)):\n",
    "    if i%B==0:\n",
    "        C=C+A[i].lower()\n",
    "    else:\n",
    "        C=C+A[i].upper()\n",
    "print(C)"
   ]
  },
  {
   "cell_type": "code",
   "execution_count": 57,
   "id": "7206fcde",
   "metadata": {},
   "outputs": [
    {
     "name": "stdout",
     "output_type": "stream",
     "text": [
      "guvi geeks\n",
      "guvi\n",
      "1\n"
     ]
    }
   ],
   "source": [
    "A=input().split()\n",
    "B=input().split()\n",
    "for i in B:\n",
    "    if i in A:\n",
    "        print(A.index(i)+1)\n",
    "    else:\n",
    "        print(-1)"
   ]
  },
  {
   "cell_type": "code",
   "execution_count": 61,
   "id": "d55a7932",
   "metadata": {},
   "outputs": [
    {
     "data": {
      "text/plain": [
       "'0x1ae14'"
      ]
     },
     "execution_count": 61,
     "metadata": {},
     "output_type": "execute_result"
    }
   ],
   "source": [
    "hex(110100)"
   ]
  },
  {
   "cell_type": "code",
   "execution_count": 67,
   "id": "d88f974f",
   "metadata": {},
   "outputs": [
    {
     "data": {
      "text/plain": [
       "110115"
      ]
     },
     "execution_count": 67,
     "metadata": {},
     "output_type": "execute_result"
    }
   ],
   "source": [
    "int(0x1ae23)"
   ]
  },
  {
   "cell_type": "code",
   "execution_count": 81,
   "id": "09ee1196",
   "metadata": {},
   "outputs": [
    {
     "name": "stdout",
     "output_type": "stream",
     "text": [
      "2 4 4 2\n",
      "2 6 10 12\n"
     ]
    }
   ],
   "source": [
    "#prefix sum\n",
    "A=list(map(int,input().split()))\n",
    "B=[]\n",
    "for i in range(len(A)):\n",
    "    B.append(sum(A))\n",
    "    A.pop(len(A)-1)\n",
    "print(*B[::-1])"
   ]
  },
  {
   "cell_type": "code",
   "execution_count": 74,
   "id": "2b84e50e",
   "metadata": {},
   "outputs": [
    {
     "name": "stdout",
     "output_type": "stream",
     "text": [
      "aaab\n",
      "a3b1\n"
     ]
    }
   ],
   "source": [
    "A=input()\n",
    "B=[]\n",
    "for i in A:\n",
    "    if i not in B:\n",
    "        B.append(i)\n",
    "        B.append(A.count(i))\n",
    "C=list(map(str,B))\n",
    "print(\"\".join(C))\n",
    "\n",
    "    "
   ]
  },
  {
   "cell_type": "code",
   "execution_count": 80,
   "id": "039b2d1f",
   "metadata": {},
   "outputs": [
    {
     "data": {
      "text/plain": [
       "'Geksforge'"
      ]
     },
     "execution_count": 80,
     "metadata": {},
     "output_type": "execute_result"
    }
   ],
   "source": [
    "#string105\n",
    "A=\"Geeksforgeek\"\n",
    "B=''\n",
    "for i in range(len(A)-1):\n",
    "    if A[i]==A[i+1]:\n",
    "        continue\n",
    "    else:\n",
    "        B=B+A[i]\n",
    "B   "
   ]
  },
  {
   "cell_type": "code",
   "execution_count": 85,
   "id": "e96792ae",
   "metadata": {},
   "outputs": [
    {
     "name": "stdout",
     "output_type": "stream",
     "text": [
      "GUVIS GEEKTEC\n",
      "yes\n",
      "1\n",
      "1\n"
     ]
    }
   ],
   "source": [
    "A,B=input().split()\n",
    "a=len(A)\n",
    "b=len(B)\n",
    "count1=0\n",
    "count2=0\n",
    "for i in range(2,a):\n",
    "    if a%i==0:\n",
    "        break\n",
    "    else:\n",
    "        count1+=1\n",
    "        break        \n",
    "for i in range(2,b):\n",
    "    if b%i==0:\n",
    "        break\n",
    "    else:\n",
    "        count2+=1\n",
    "        break\n",
    "if count1==count2:\n",
    "    print(\"yes\")\n",
    "else:\n",
    "    print(\"no\")\n",
    "print(count1)\n",
    "print(count2)"
   ]
  },
  {
   "cell_type": "code",
   "execution_count": 87,
   "id": "7bbd9c19",
   "metadata": {},
   "outputs": [
    {
     "name": "stdout",
     "output_type": "stream",
     "text": [
      "aa abba abba\n",
      "aa abba abba\n"
     ]
    }
   ],
   "source": [
    "A=input()\n",
    "B=A.replace(\"  \",\"\")\n",
    "print(B)\n"
   ]
  },
  {
   "cell_type": "code",
   "execution_count": 6,
   "id": "6b0bed65",
   "metadata": {},
   "outputs": [
    {
     "name": "stdout",
     "output_type": "stream",
     "text": [
      "121\n",
      "Saturated\n",
      "[1, 2]\n"
     ]
    }
   ],
   "source": [
    "A=input()\n",
    "B=[]\n",
    "for i in A:\n",
    "    B.append(int(i))\n",
    "B=list(set(B))\n",
    "if len(B)==2:\n",
    "    print(\"Saturated\")\n",
    "else:\n",
    "    print(\"Unsaturated\")\n"
   ]
  },
  {
   "cell_type": "code",
   "execution_count": 7,
   "id": "4e6131c6",
   "metadata": {},
   "outputs": [
    {
     "name": "stdout",
     "output_type": "stream",
     "text": [
      "2143\n",
      "24\n"
     ]
    }
   ],
   "source": [
    "from functools import reduce\n",
    "A=input()\n",
    "B=[]\n",
    "for i in A:\n",
    "    B.append(int(i))\n",
    "C=reduce(lambda a,b : a*b,B)\n",
    "print(C)"
   ]
  },
  {
   "cell_type": "code",
   "execution_count": 8,
   "id": "6348b9b6",
   "metadata": {},
   "outputs": [
    {
     "name": "stdout",
     "output_type": "stream",
     "text": [
      "3\n"
     ]
    }
   ],
   "source": [
    "import math\n",
    "A=float(input())\n",
    "print(math.ceil(A))"
   ]
  },
  {
   "cell_type": "code",
   "execution_count": 15,
   "id": "7f4e9101",
   "metadata": {},
   "outputs": [
    {
     "name": "stdout",
     "output_type": "stream",
     "text": [
      "1\n"
     ]
    }
   ],
   "source": [
    "B='01'\n",
    "print(B.lstrip(\"0\")"
   ]
  },
  {
   "cell_type": "code",
   "execution_count": 19,
   "id": "40e4e394",
   "metadata": {},
   "outputs": [
    {
     "name": "stdout",
     "output_type": "stream",
     "text": [
      "10\n",
      "1\n"
     ]
    }
   ],
   "source": [
    "A=input()\n",
    "B=A[::-1]\n",
    "C=B.lstrip(\"0\")\n",
    "print(int(C))"
   ]
  },
  {
   "cell_type": "code",
   "execution_count": null,
   "id": "fd30749a",
   "metadata": {},
   "outputs": [],
   "source": [
    "A,B,X=map(int,input().split())\n",
    "Y=(A*X)+B\n",
    "print(Y)"
   ]
  },
  {
   "cell_type": "code",
   "execution_count": 22,
   "id": "95d28c1e",
   "metadata": {},
   "outputs": [
    {
     "name": "stdout",
     "output_type": "stream",
     "text": [
      "1 2 3 6\n"
     ]
    }
   ],
   "source": [
    "A=int(input())\n",
    "B=[]\n",
    "for i in range(1,A+1):\n",
    "    if A%i == 0:\n",
    "        B.append(i)\n",
    "print(*B)   "
   ]
  },
  {
   "cell_type": "code",
   "execution_count": 29,
   "id": "de50ea79",
   "metadata": {},
   "outputs": [],
   "source": [
    "A=7\n",
    "for i in range(2,2):\n",
    "    if A%i==0:\n",
    "        print(i)"
   ]
  },
  {
   "cell_type": "code",
   "execution_count": 40,
   "id": "b5350e80",
   "metadata": {},
   "outputs": [
    {
     "name": "stdout",
     "output_type": "stream",
     "text": [
      "123\n",
      "yes\n",
      "3\n"
     ]
    }
   ],
   "source": [
    "A=int(input())\n",
    "for i in range(2,A):\n",
    "    if A%i==0:\n",
    "        print(\"yes\")\n",
    "        print(i)\n",
    "        break\n",
    "else:\n",
    "    print(\"no\")\n",
    "    "
   ]
  },
  {
   "cell_type": "code",
   "execution_count": 45,
   "id": "76c987f9",
   "metadata": {},
   "outputs": [
    {
     "name": "stdout",
     "output_type": "stream",
     "text": [
      "0\n"
     ]
    }
   ],
   "source": [
    "A=input()\n",
    "B=[]\n",
    "C=A[0]\n",
    "D=A.count(C)\n",
    "for i in A:\n",
    "    if A.count(i)==D:\n",
    "        B.append(i)\n",
    "if len(B)==len(A):\n",
    "    print(1)\n",
    "else:\n",
    "    print(0)"
   ]
  },
  {
   "cell_type": "code",
   "execution_count": 7,
   "id": "5553ea51",
   "metadata": {},
   "outputs": [
    {
     "name": "stdout",
     "output_type": "stream",
     "text": [
      "1.626 2.31\n",
      "3.75606\n"
     ]
    }
   ],
   "source": [
    "length,breath = map(float,input().split())\n",
    "area = length * breath\n",
    "print('%.5f'%area)"
   ]
  },
  {
   "cell_type": "code",
   "execution_count": 8,
   "id": "85fdb3be",
   "metadata": {},
   "outputs": [
    {
     "name": "stdout",
     "output_type": "stream",
     "text": [
      "guvigeek\n",
      "4\n"
     ]
    }
   ],
   "source": [
    "A=input()\n",
    "B=\"\"\n",
    "for i in A:\n",
    "    if A.count(i)==1:\n",
    "        B=B+i\n",
    "print(len(B))"
   ]
  },
  {
   "cell_type": "code",
   "execution_count": 12,
   "id": "ea98186b",
   "metadata": {},
   "outputs": [
    {
     "name": "stdout",
     "output_type": "stream",
     "text": [
      "64\n",
      "yes\n"
     ]
    }
   ],
   "source": [
    "A=[]\n",
    "for i in range(1,1000):\n",
    "    A.append(2**i)\n",
    "inp = int(input())\n",
    "if inp in A:\n",
    "    print(\"yes\")\n",
    "else:\n",
    "    print(\"no\")"
   ]
  },
  {
   "cell_type": "code",
   "execution_count": 18,
   "id": "e3f0c033",
   "metadata": {},
   "outputs": [
    {
     "name": "stdout",
     "output_type": "stream",
     "text": [
      "120\n"
     ]
    }
   ],
   "source": [
    "A=int(input())\n",
    "B=1\n",
    "for i in range(1,A+1):\n",
    "    B=B*i\n",
    "print(B)\n"
   ]
  },
  {
   "cell_type": "code",
   "execution_count": 23,
   "id": "ba0d938e",
   "metadata": {},
   "outputs": [
    {
     "name": "stdout",
     "output_type": "stream",
     "text": [
      "[2, 3, 7]\n"
     ]
    }
   ],
   "source": [
    "A=2\n",
    "B=[7,2,3]\n",
    "for i in range(A):\n",
    "    P=B.pop(len(B)-1)\n",
    "    B.insert(0,P)\n",
    "print(B)"
   ]
  },
  {
   "cell_type": "code",
   "execution_count": null,
   "id": "c685ae98",
   "metadata": {},
   "outputs": [],
   "source": [
    "T,K=input().split()\n",
    "K=int(K)\n",
    "A=input().split()\n",
    "A=list(map(int,A))\n",
    "for i in range(K):\n",
    "    PE=A.pop(len(A)-1)\n",
    "    A.insert(0,PE)\n",
    "print(*A)"
   ]
  },
  {
   "cell_type": "code",
   "execution_count": 24,
   "id": "6f944692",
   "metadata": {},
   "outputs": [
    {
     "name": "stdout",
     "output_type": "stream",
     "text": [
      "-0.9880316240928618\n"
     ]
    }
   ],
   "source": [
    "import math\n",
    "A=30\n",
    "print(math.sin(A))"
   ]
  },
  {
   "cell_type": "code",
   "execution_count": 25,
   "id": "5fbac0ab",
   "metadata": {},
   "outputs": [
    {
     "data": {
      "text/plain": [
       "'0b101'"
      ]
     },
     "execution_count": 25,
     "metadata": {},
     "output_type": "execute_result"
    }
   ],
   "source": [
    "bin(5)"
   ]
  },
  {
   "cell_type": "code",
   "execution_count": 26,
   "id": "f6513aa0",
   "metadata": {},
   "outputs": [
    {
     "name": "stdout",
     "output_type": "stream",
     "text": [
      "0b101\n"
     ]
    }
   ],
   "source": [
    "print(\"0b101\")"
   ]
  },
  {
   "cell_type": "code",
   "execution_count": 28,
   "id": "a4658100",
   "metadata": {},
   "outputs": [
    {
     "name": "stdout",
     "output_type": "stream",
     "text": [
      "5\n"
     ]
    }
   ],
   "source": [
    "print(0b101)"
   ]
  },
  {
   "cell_type": "code",
   "execution_count": 37,
   "id": "2da2ed62",
   "metadata": {},
   "outputs": [
    {
     "name": "stdout",
     "output_type": "stream",
     "text": [
      "101\n",
      "5\n"
     ]
    }
   ],
   "source": [
    "print(int(input(),2))"
   ]
  },
  {
   "cell_type": "code",
   "execution_count": 41,
   "id": "13c6a65a",
   "metadata": {},
   "outputs": [
    {
     "name": "stdout",
     "output_type": "stream",
     "text": [
      "0\n"
     ]
    }
   ],
   "source": [
    "print(5%5)"
   ]
  },
  {
   "cell_type": "code",
   "execution_count": 45,
   "id": "2acf6b75",
   "metadata": {},
   "outputs": [
    {
     "name": "stdout",
     "output_type": "stream",
     "text": [
      "5 10\n",
      "5\n"
     ]
    }
   ],
   "source": [
    "A,B=map(int,input().split())\n",
    "if A>B:\n",
    "    G=A\n",
    "else:\n",
    "    G=B\n",
    "for i in range(2,G):\n",
    "    if A%i==0 and B%i==0:\n",
    "        print(i)"
   ]
  },
  {
   "cell_type": "code",
   "execution_count": 47,
   "id": "46c9cc36",
   "metadata": {},
   "outputs": [
    {
     "name": "stdout",
     "output_type": "stream",
     "text": [
      "9\n",
      "1 3 9\n"
     ]
    }
   ],
   "source": [
    "A=int(input())\n",
    "B=[]\n",
    "for i in range(1,A+1):\n",
    "    if not i%2==0 and A%i==0:\n",
    "        B.append(i)\n",
    "print(*B)"
   ]
  },
  {
   "cell_type": "code",
   "execution_count": 49,
   "id": "63dc168a",
   "metadata": {},
   "outputs": [
    {
     "name": "stdout",
     "output_type": "stream",
     "text": [
      "81\n"
     ]
    }
   ],
   "source": [
    "A,B,C=map(int,input().split())\n",
    "print((A**B)%C)"
   ]
  },
  {
   "cell_type": "code",
   "execution_count": 13,
   "id": "f65eb91c",
   "metadata": {},
   "outputs": [
    {
     "name": "stdout",
     "output_type": "stream",
     "text": [
      "-1\n",
      "[24, 6, 2, 1]\n"
     ]
    }
   ],
   "source": [
    "from functools import reduce\n",
    "A=\"40321\"\n",
    "T=int(A)\n",
    "A1=[]\n",
    "A2=[]\n",
    "\n",
    "for i in A:\n",
    "    A1.append(int(i))\n",
    "B=1\n",
    "\n",
    "for i in A1:\n",
    "    if i==0:\n",
    "        pass\n",
    "    else:\n",
    "        for j in range(1,i+1):\n",
    "            B = B*j\n",
    "        A2.append(B)\n",
    "        B = 1\n",
    "\n",
    "final = reduce(lambda a,b : a+b ,A2)\n",
    "if final == T:\n",
    "    print(T)\n",
    "else:\n",
    "    print(-1)\n",
    "    \n",
    "print(A2)    "
   ]
  },
  {
   "cell_type": "code",
   "execution_count": null,
   "id": "afbbea75",
   "metadata": {},
   "outputs": [],
   "source": [
    "A=5\n",
    "B=1\n",
    "for i in range"
   ]
  },
  {
   "cell_type": "code",
   "execution_count": 3,
   "id": "b8a2d0e7",
   "metadata": {},
   "outputs": [
    {
     "name": "stdout",
     "output_type": "stream",
     "text": [
      "3 2 1 2 \n",
      "[2, 3, 2, 1]\n"
     ]
    }
   ],
   "source": [
    "def swap(list1):\n",
    "    n = 2 if len(list1)%2 == 0 else 3\n",
    "    for i in range(0,len(list1),n):\n",
    "        list1[i],list1[i+1] = list1[i+1], list1[i] \n",
    "    return list1\n",
    "#Total = input()\n",
    "listr = list(map(int,input().split())) \n",
    "print(swap(listr))"
   ]
  },
  {
   "cell_type": "code",
   "execution_count": 6,
   "id": "751e5433",
   "metadata": {},
   "outputs": [
    {
     "name": "stdout",
     "output_type": "stream",
     "text": [
      "3 2 1 2 3\n",
      "[2, 3, 1, 3, 2]\n"
     ]
    }
   ],
   "source": [
    "#Basic 13\n",
    "\n",
    "#T=input()\n",
    "A = list(map(int,input().split())) \n",
    "if len(A)%2==0:\n",
    "    n=2\n",
    "else:\n",
    "    n=3\n",
    "for i in range(0,len(A),n):\n",
    "    A[i],A[i+1] = A[i+1], A[i] \n",
    "print(A)"
   ]
  },
  {
   "cell_type": "code",
   "execution_count": 6,
   "id": "e8bd2901",
   "metadata": {},
   "outputs": [
    {
     "name": "stdout",
     "output_type": "stream",
     "text": [
      "2 4 6 8\n"
     ]
    },
    {
     "data": {
      "text/plain": [
       "24"
      ]
     },
     "execution_count": 6,
     "metadata": {},
     "output_type": "execute_result"
    }
   ],
   "source": [
    "import numpy as np\n",
    "A=list(map(int,input().split()))\n",
    "np.lcm.reduce(A)"
   ]
  },
  {
   "cell_type": "code",
   "execution_count": 12,
   "id": "ed92721a",
   "metadata": {},
   "outputs": [
    {
     "name": "stdout",
     "output_type": "stream",
     "text": [
      "123456789123456789\n",
      "112233445566778899\n"
     ]
    }
   ],
   "source": [
    "A=input()\n",
    "B=\"\"\n",
    "for i in A:\n",
    "    B=B+i\n",
    "print(\"\".join(sorted(B)))"
   ]
  },
  {
   "cell_type": "code",
   "execution_count": 3,
   "id": "249f142b",
   "metadata": {},
   "outputs": [
    {
     "name": "stdout",
     "output_type": "stream",
     "text": [
      "5\n",
      "code\n",
      "overload\n",
      "vishal\n",
      "sundar\n",
      "anish\n",
      "yes\n",
      "['code', 'overload', 'vishal', 'sundar', 'anish']\n",
      "['code', 'overload', 'vishal', 'sundar', 'anish']\n"
     ]
    }
   ],
   "source": [
    "N = int(input())\n",
    "A=[]\n",
    "for i in range(N):\n",
    "    A.append(input())\n",
    "B=[]\n",
    "vo =\"aeiouAEIOU\"\n",
    "for i in A:\n",
    "    for j in vo:\n",
    "        if j in i:\n",
    "            if i not in B:\n",
    "                B.append(i)\n",
    "if len(A)==len(B):\n",
    "    print(\"yes\")\n",
    "else:\n",
    "    print(\"no\")\n"
   ]
  },
  {
   "cell_type": "code",
   "execution_count": 5,
   "id": "594e82f0",
   "metadata": {},
   "outputs": [
    {
     "name": "stdout",
     "output_type": "stream",
     "text": [
      "6\n",
      "2 3 4 5 6 7\n",
      "3 2 5 4 7 6\n"
     ]
    }
   ],
   "source": [
    "T=int(input())\n",
    "A = list(map(int,input().split())) \n",
    "if T%2==0:\n",
    "    for i in range(0,T,2):\n",
    "        a = A[i]\n",
    "        A[i]=A[i+1]\n",
    "        A[i+1]=a\n",
    "else:\n",
    "    for i in range(0,T-1,2):\n",
    "        a = A[i]\n",
    "        A[i]=A[i+1]\n",
    "        A[i+1]=a\n",
    "print(*A)\n",
    "        \n",
    "  "
   ]
  },
  {
   "cell_type": "code",
   "execution_count": 7,
   "id": "5f8e657b",
   "metadata": {},
   "outputs": [
    {
     "name": "stdout",
     "output_type": "stream",
     "text": [
      "9\n",
      "1\n"
     ]
    }
   ],
   "source": [
    "A=int(input())\n",
    "B=[i for i in range(1,A+1) if A%i==0 and i%2!=0]\n",
    "print(min(B))\n"
   ]
  },
  {
   "cell_type": "code",
   "execution_count": 6,
   "id": "3bb6320d",
   "metadata": {},
   "outputs": [
    {
     "name": "stdout",
     "output_type": "stream",
     "text": [
      "4 2\n",
      "12\n"
     ]
    }
   ],
   "source": [
    "A,B=map(int,input().split())\n",
    "C=1\n",
    "D=1\n",
    "for i in range(1,A+1):\n",
    "    C=C*i\n",
    "for i in range(1,B+1):\n",
    "    D=D*i    \n",
    "print(C//D)"
   ]
  },
  {
   "cell_type": "code",
   "execution_count": 14,
   "id": "c2d0aa37",
   "metadata": {},
   "outputs": [
    {
     "name": "stdout",
     "output_type": "stream",
     "text": [
      "100\n",
      "1\n"
     ]
    }
   ],
   "source": [
    "A=input()\n",
    "B=[]\n",
    "C=[]\n",
    "for i in A:\n",
    "    B.append(int(i))\n",
    "for i in B:\n",
    "    if i==0:\n",
    "        C.append(i)\n",
    "    else:\n",
    "        C.append(i**(i-1))\n",
    "print(sum(C))"
   ]
  },
  {
   "cell_type": "code",
   "execution_count": 17,
   "id": "b5291c74",
   "metadata": {},
   "outputs": [
    {
     "name": "stdout",
     "output_type": "stream",
     "text": [
      "86093443\n"
     ]
    }
   ],
   "source": [
    "print(9**8+1**0+9**8)"
   ]
  },
  {
   "cell_type": "code",
   "execution_count": 19,
   "id": "5bc1d00c",
   "metadata": {},
   "outputs": [
    {
     "name": "stdout",
     "output_type": "stream",
     "text": [
      "5\n",
      "1 2 3 4 5\n",
      "1\n"
     ]
    }
   ],
   "source": [
    "T=int(input())\n",
    "A=input().split()\n",
    "A=list(map(int,A))\n",
    "C=[]\n",
    "for i in A:\n",
    "    if i*T in A:\n",
    "        C.append(i)\n",
    "print(*C)"
   ]
  },
  {
   "cell_type": "code",
   "execution_count": 23,
   "id": "90021bff",
   "metadata": {},
   "outputs": [
    {
     "name": "stdout",
     "output_type": "stream",
     "text": [
      "64\n",
      "[1, 2, 4, 8, 16, 32, 64, 128, 256, 512]\n"
     ]
    }
   ],
   "source": [
    "A = int(input())\n",
    "B=[2**i for i in range(10)]\n",
    "if A not in B:\n",
    "    B.append(A)\n",
    "B=sorted(B)\n",
    "C=B.index(A)+1\n",
    "print(B[C])"
   ]
  },
  {
   "cell_type": "code",
   "execution_count": 24,
   "id": "248f2691",
   "metadata": {},
   "outputs": [
    {
     "name": "stdout",
     "output_type": "stream",
     "text": [
      "2 5\n",
      "2 3 0 7 1 5 3 4 1 8\n",
      "11\n",
      "no\n"
     ]
    }
   ],
   "source": [
    "A,B = map(int,input().split())\n",
    "C = list(map(int,input().split()))\n",
    "D = int(input())\n",
    "if D in C:\n",
    "    print(\"yes\")\n",
    "else:\n",
    "    print(\"no\")"
   ]
  },
  {
   "cell_type": "code",
   "execution_count": 28,
   "id": "0fbb9172",
   "metadata": {},
   "outputs": [
    {
     "name": "stdout",
     "output_type": "stream",
     "text": [
      "katacode 4\n"
     ]
    },
    {
     "ename": "AttributeError",
     "evalue": "'str' object has no attribute 'insert'",
     "output_type": "error",
     "traceback": [
      "\u001b[1;31m---------------------------------------------------------------------------\u001b[0m",
      "\u001b[1;31mAttributeError\u001b[0m                            Traceback (most recent call last)",
      "Input \u001b[1;32mIn [28]\u001b[0m, in \u001b[0;36m<cell line: 3>\u001b[1;34m()\u001b[0m\n\u001b[0;32m      4\u001b[0m     PE \u001b[38;5;241m=\u001b[39m A[\u001b[38;5;241m-\u001b[39m\u001b[38;5;241m1\u001b[39m]\n\u001b[0;32m      5\u001b[0m     A\u001b[38;5;241m.\u001b[39mreplace(A[\u001b[38;5;241m-\u001b[39m\u001b[38;5;241m1\u001b[39m],\u001b[38;5;124m\"\u001b[39m\u001b[38;5;124m\"\u001b[39m)\n\u001b[1;32m----> 6\u001b[0m     \u001b[43mA\u001b[49m\u001b[38;5;241;43m.\u001b[39;49m\u001b[43minsert\u001b[49m(PE,\u001b[38;5;241m0\u001b[39m)\n\u001b[0;32m      7\u001b[0m \u001b[38;5;28mprint\u001b[39m(A)\n",
      "\u001b[1;31mAttributeError\u001b[0m: 'str' object has no attribute 'insert'"
     ]
    }
   ],
   "source": [
    "A,B = input().split()\n",
    "B=int(B)\n",
    "for i in range(B+1):\n",
    "    PE = A[-1]\n",
    "    A.replace(A[-1],\"\")\n",
    "    A.insert(PE,0)\n",
    "print(A)"
   ]
  },
  {
   "cell_type": "code",
   "execution_count": 4,
   "id": "a6371d35",
   "metadata": {},
   "outputs": [
    {
     "name": "stdout",
     "output_type": "stream",
     "text": [
      "5 3\n",
      "code\n",
      "overload\n",
      "vishal\n",
      "vishal\n",
      "vishal\n",
      "yes\n"
     ]
    }
   ],
   "source": [
    "T,L=map(int,input().split())\n",
    "i=0\n",
    "B=[]\n",
    "while i<T:\n",
    "    A=input()\n",
    "    B.append(A)\n",
    "    i=i+1\n",
    "\n",
    "for j in range(len(B)-1):\n",
    "    y=0\n",
    "    n=0\n",
    "    if B[j]==B[j+1]==B[j+2]:\n",
    "        y=y+1\n",
    "    else:\n",
    "        n=n+1\n",
    "if y>0:\n",
    "    print(\"yes\")\n",
    "else:\n",
    "    print(\"no\")\n",
    "    "
   ]
  },
  {
   "cell_type": "code",
   "execution_count": 11,
   "id": "20c2e354",
   "metadata": {},
   "outputs": [
    {
     "data": {
      "text/plain": [
       "'stRing'"
      ]
     },
     "execution_count": 11,
     "metadata": {},
     "output_type": "execute_result"
    }
   ],
   "source": [
    "def capitalize_nth(s, n):\n",
    "    return s[:n].lower() + s[n:].capitalize()\n",
    "s=\"string\"\n",
    "n=2\n",
    "capitalize_nth(s, n)"
   ]
  },
  {
   "cell_type": "code",
   "execution_count": 3,
   "id": "14641dec",
   "metadata": {},
   "outputs": [
    {
     "name": "stdout",
     "output_type": "stream",
     "text": [
      "5 3\n",
      "code \n",
      "vishal\n",
      "overload\n",
      "vishal\n",
      "vishal\n",
      "no\n"
     ]
    }
   ],
   "source": [
    "T,L=map(int,input().split())\n",
    "i=0\n",
    "B=[]\n",
    "while i<T:\n",
    "    A=input()\n",
    "    B.append(A)\n",
    "    i=i+1\n",
    "\n",
    "for j in range(len(B)-2):\n",
    "    y=0\n",
    "    n=0\n",
    "    if B[j]==B[j+1]==B[j+2]:\n",
    "        y=y+1\n",
    "    else:\n",
    "        n=n+1\n",
    "if y>0:\n",
    "    print(\"yes\")\n",
    "else:\n",
    "    print(\"no\")\n",
    "    "
   ]
  },
  {
   "cell_type": "code",
   "execution_count": 22,
   "id": "a6e9fe06",
   "metadata": {},
   "outputs": [
    {
     "name": "stdout",
     "output_type": "stream",
     "text": [
      "odkthng\n"
     ]
    }
   ],
   "source": [
    "A = \"codekata challenge\"\n",
    "A = A.replace(\" \",\"\")\n",
    "B =[]\n",
    "for i in A:\n",
    "    if A.count(i)==1:\n",
    "        B.append(i)\n",
    "print(\"\".join(B))"
   ]
  },
  {
   "cell_type": "code",
   "execution_count": 32,
   "id": "b9b187d1",
   "metadata": {},
   "outputs": [
    {
     "name": "stdout",
     "output_type": "stream",
     "text": [
      "100023456789\n"
     ]
    }
   ],
   "source": [
    "def smallest(lst):\n",
    "    for i,n in enumerate(lst):\n",
    "        if n != '0':\n",
    "            tmp = lst.pop(i)\n",
    "            break\n",
    "    return str(tmp) + ''.join(lst)\n",
    "lst = list(str(923456781000))\n",
    "lst.sort()\n",
    "print (smallest(lst))"
   ]
  },
  {
   "cell_type": "code",
   "execution_count": 35,
   "id": "d31d0a90",
   "metadata": {},
   "outputs": [
    {
     "name": "stdout",
     "output_type": "stream",
     "text": [
      "000123456789\n"
     ]
    }
   ],
   "source": [
    "lst = list(str(923456781000))\n",
    "lst.sort()\n",
    "print(\"\".join(lst))"
   ]
  },
  {
   "cell_type": "code",
   "execution_count": null,
   "id": "b7118cdb",
   "metadata": {},
   "outputs": [],
   "source": []
  }
 ],
 "metadata": {
  "kernelspec": {
   "display_name": "Python 3 (ipykernel)",
   "language": "python",
   "name": "python3"
  },
  "language_info": {
   "codemirror_mode": {
    "name": "ipython",
    "version": 3
   },
   "file_extension": ".py",
   "mimetype": "text/x-python",
   "name": "python",
   "nbconvert_exporter": "python",
   "pygments_lexer": "ipython3",
   "version": "3.9.12"
  }
 },
 "nbformat": 4,
 "nbformat_minor": 5
}
